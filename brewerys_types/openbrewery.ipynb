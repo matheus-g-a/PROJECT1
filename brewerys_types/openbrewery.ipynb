{
 "cells": [
  {
   "cell_type": "code",
   "execution_count": 114,
   "id": "f7dfe86e-fd14-4a13-ac1a-7c140f03ca36",
   "metadata": {},
   "outputs": [],
   "source": [
    "import pandas as pd\n",
    "from pathlib import Path\n",
    "import matplotlib.pyplot as plt\n",
    "import geoviews as gv\n",
    "import geoviews.tile_sources as gvts\n",
    "import hvplot.pandas\n",
    "import plotly.express as px"
   ]
  },
  {
   "cell_type": "code",
   "execution_count": 115,
   "id": "f773fbe1-22a1-4195-af0a-f50eef7c2832",
   "metadata": {},
   "outputs": [],
   "source": [
    "states = ['alabama', 'alaska', 'arizona', 'arkansas', 'california', 'colorado', 'connecticut', 'delaware', 'florida', 'georgia', 'hawaii', 'idaho', 'illinois', 'indiana', 'iowa', 'kansas', 'kentucky', 'louisiana', 'maine', 'maryland', 'massachusetts', 'michigan', 'minnesota', 'mississippi', 'missouri', 'montana', 'nebraska', 'nevada', 'new-hampshire', 'new-jersey', 'new-mexico', 'new-york', 'north-carolina', 'north-dakota', 'ohio', 'oklahoma', 'oregon', 'pennsylvania', 'rhode-island', 'south-carolina', 'south-dakota', 'tennessee', 'texas', 'vermont', 'virginia', 'washington', 'west-virginia', 'wisconsin', 'wyoming']"
   ]
  },
  {
   "cell_type": "code",
   "execution_count": 116,
   "id": "ae3c7d31-e37b-4202-a5d5-711f7014779c",
   "metadata": {},
   "outputs": [],
   "source": [
    "states = ['alabama', 'alaska', 'arizona', 'arkansas', 'california', 'colorado', 'connecticut', 'delaware', 'florida', 'georgia', 'hawaii', 'idaho', 'illinois', 'indiana', 'iowa', 'kansas', 'kentucky', 'louisiana', 'maine', 'maryland', 'massachusetts', 'michigan', 'minnesota', 'mississippi', 'montana', 'nebraska', 'nevada', 'new-hampshire', 'new-jersey', 'new-mexico', 'new-york', 'north-carolina', 'north-dakota', 'ohio', 'oklahoma', 'oregon', 'pennsylvania', 'rhode-island', 'south-carolina', 'south-dakota', 'tennessee', 'texas', 'vermont', 'virginia', 'west-virginia', 'wisconsin', 'wyoming']"
   ]
  },
  {
   "cell_type": "code",
   "execution_count": null,
   "id": "29063859-c338-4b82-b3b0-1b3cf2d18411",
   "metadata": {},
   "outputs": [],
   "source": []
  },
  {
   "cell_type": "code",
   "execution_count": 117,
   "id": "dd78b0f5-aab2-44d7-8c5b-429fc60c5ac6",
   "metadata": {},
   "outputs": [],
   "source": [
    "state_codes = [\n",
    "    'AL', 'AK', 'AZ', 'AR', 'CA', 'CO', 'CT', 'DE', 'FL', 'GA', \n",
    "    'HI', 'ID', 'IL', 'IN', 'IA', 'KS', 'KY', 'LA', 'ME', 'MD', \n",
    "    'MA', 'MI', 'MN', 'MS', 'MO', 'MT', 'NE', 'NV', 'NH', 'NJ', \n",
    "    'NM', 'NY', 'NC', 'ND', 'OH', 'OK', 'OR', 'PA', 'RI', 'SC', \n",
    "    'SD', 'TN', 'TX', 'UT', 'VT', 'VA', 'WA', 'WV', 'WI', 'WY'\n",
    "]"
   ]
  },
  {
   "cell_type": "code",
   "execution_count": 118,
   "id": "3880003e-55d8-463b-9327-ba2007b13e23",
   "metadata": {},
   "outputs": [],
   "source": [
    "state_dfs = {}"
   ]
  },
  {
   "cell_type": "code",
   "execution_count": 119,
   "id": "95a08842-0904-4a39-bfb0-fdfce860bc0a",
   "metadata": {},
   "outputs": [],
   "source": [
    "for state in states:\n",
    "    state_df = pd.read_csv(Path(f\"{state}.csv\"))\n",
    "    state_dfs[state] = state_df[[\"name\", \"brewery_type\", \"city\", \"state\", \"postal_code\", \"longitude\", \"latitude\"]]"
   ]
  },
  {
   "cell_type": "code",
   "execution_count": 120,
   "id": "fd1a7eb6-64c2-4d1b-a58a-98355a948dcb",
   "metadata": {},
   "outputs": [],
   "source": [
    "\n",
    "all_states_df = pd.concat(state_dfs.values()).reset_index(drop= True).dropna()"
   ]
  },
  {
   "cell_type": "code",
   "execution_count": 121,
   "id": "8a87f370-3340-4b75-92cc-0c2700559adf",
   "metadata": {},
   "outputs": [
    {
     "data": {
      "text/html": [
       "<div>\n",
       "<style scoped>\n",
       "    .dataframe tbody tr th:only-of-type {\n",
       "        vertical-align: middle;\n",
       "    }\n",
       "\n",
       "    .dataframe tbody tr th {\n",
       "        vertical-align: top;\n",
       "    }\n",
       "\n",
       "    .dataframe thead th {\n",
       "        text-align: right;\n",
       "    }\n",
       "</style>\n",
       "<table border=\"1\" class=\"dataframe\">\n",
       "  <thead>\n",
       "    <tr style=\"text-align: right;\">\n",
       "      <th></th>\n",
       "      <th>name</th>\n",
       "      <th>brewery_type</th>\n",
       "      <th>city</th>\n",
       "      <th>state</th>\n",
       "      <th>postal_code</th>\n",
       "      <th>longitude</th>\n",
       "      <th>latitude</th>\n",
       "    </tr>\n",
       "  </thead>\n",
       "  <tbody>\n",
       "    <tr>\n",
       "      <th>0</th>\n",
       "      <td>5 Rivers Brewing LLC</td>\n",
       "      <td>planning</td>\n",
       "      <td>Spanish Fort</td>\n",
       "      <td>Alabama</td>\n",
       "      <td>36527-3161</td>\n",
       "      <td>-87.915272</td>\n",
       "      <td>30.674913</td>\n",
       "    </tr>\n",
       "    <tr>\n",
       "      <th>1</th>\n",
       "      <td>Avondale Brewing Co</td>\n",
       "      <td>micro</td>\n",
       "      <td>Birmingham</td>\n",
       "      <td>Alabama</td>\n",
       "      <td>35222-1932</td>\n",
       "      <td>-86.774322</td>\n",
       "      <td>33.524521</td>\n",
       "    </tr>\n",
       "    <tr>\n",
       "      <th>2</th>\n",
       "      <td>Back Forty Beer Co</td>\n",
       "      <td>micro</td>\n",
       "      <td>Gadsden</td>\n",
       "      <td>Alabama</td>\n",
       "      <td>35901-3361</td>\n",
       "      <td>-86.005006</td>\n",
       "      <td>34.016888</td>\n",
       "    </tr>\n",
       "    <tr>\n",
       "      <th>3</th>\n",
       "      <td>Band of Brothers Brewing Company</td>\n",
       "      <td>micro</td>\n",
       "      <td>Tuscaloosa</td>\n",
       "      <td>Alabama</td>\n",
       "      <td>35401-4653</td>\n",
       "      <td>-87.562155</td>\n",
       "      <td>33.198491</td>\n",
       "    </tr>\n",
       "    <tr>\n",
       "      <th>4</th>\n",
       "      <td>Below the Radar Brewing Co</td>\n",
       "      <td>brewpub</td>\n",
       "      <td>Huntsville</td>\n",
       "      <td>Alabama</td>\n",
       "      <td>35801-4837</td>\n",
       "      <td>-86.585839</td>\n",
       "      <td>34.732724</td>\n",
       "    </tr>\n",
       "    <tr>\n",
       "      <th>...</th>\n",
       "      <td>...</td>\n",
       "      <td>...</td>\n",
       "      <td>...</td>\n",
       "      <td>...</td>\n",
       "      <td>...</td>\n",
       "      <td>...</td>\n",
       "      <td>...</td>\n",
       "    </tr>\n",
       "    <tr>\n",
       "      <th>7245</th>\n",
       "      <td>Pat O'Hara Brewing Company</td>\n",
       "      <td>brewpub</td>\n",
       "      <td>Cody</td>\n",
       "      <td>Wyoming</td>\n",
       "      <td>82414-3721</td>\n",
       "      <td>-109.058375</td>\n",
       "      <td>44.526783</td>\n",
       "    </tr>\n",
       "    <tr>\n",
       "      <th>7246</th>\n",
       "      <td>Roadhouse Brewing Company</td>\n",
       "      <td>micro</td>\n",
       "      <td>Jackson</td>\n",
       "      <td>Wyoming</td>\n",
       "      <td>83001-9433</td>\n",
       "      <td>-110.796320</td>\n",
       "      <td>43.463460</td>\n",
       "    </tr>\n",
       "    <tr>\n",
       "      <th>7251</th>\n",
       "      <td>Square State Brewing</td>\n",
       "      <td>micro</td>\n",
       "      <td>Rock Springs</td>\n",
       "      <td>Wyoming</td>\n",
       "      <td>82901</td>\n",
       "      <td>-109.220640</td>\n",
       "      <td>41.586247</td>\n",
       "    </tr>\n",
       "    <tr>\n",
       "      <th>7253</th>\n",
       "      <td>Suds Brothers Brewing Co</td>\n",
       "      <td>brewpub</td>\n",
       "      <td>Evanston</td>\n",
       "      <td>Wyoming</td>\n",
       "      <td>82930-3443</td>\n",
       "      <td>-110.966094</td>\n",
       "      <td>41.267987</td>\n",
       "    </tr>\n",
       "    <tr>\n",
       "      <th>7256</th>\n",
       "      <td>WYOld West Brewing Company</td>\n",
       "      <td>brewpub</td>\n",
       "      <td>Powell</td>\n",
       "      <td>Wyoming</td>\n",
       "      <td>82435-2335</td>\n",
       "      <td>-108.757481</td>\n",
       "      <td>44.754520</td>\n",
       "    </tr>\n",
       "  </tbody>\n",
       "</table>\n",
       "<p>4972 rows × 7 columns</p>\n",
       "</div>"
      ],
      "text/plain": [
       "                                  name brewery_type          city    state  \\\n",
       "0                 5 Rivers Brewing LLC     planning  Spanish Fort  Alabama   \n",
       "1                  Avondale Brewing Co        micro    Birmingham  Alabama   \n",
       "2                   Back Forty Beer Co        micro       Gadsden  Alabama   \n",
       "3     Band of Brothers Brewing Company        micro    Tuscaloosa  Alabama   \n",
       "4           Below the Radar Brewing Co      brewpub    Huntsville  Alabama   \n",
       "...                                ...          ...           ...      ...   \n",
       "7245        Pat O'Hara Brewing Company      brewpub          Cody  Wyoming   \n",
       "7246         Roadhouse Brewing Company        micro       Jackson  Wyoming   \n",
       "7251              Square State Brewing        micro  Rock Springs  Wyoming   \n",
       "7253          Suds Brothers Brewing Co      brewpub      Evanston  Wyoming   \n",
       "7256        WYOld West Brewing Company      brewpub        Powell  Wyoming   \n",
       "\n",
       "     postal_code   longitude   latitude  \n",
       "0     36527-3161  -87.915272  30.674913  \n",
       "1     35222-1932  -86.774322  33.524521  \n",
       "2     35901-3361  -86.005006  34.016888  \n",
       "3     35401-4653  -87.562155  33.198491  \n",
       "4     35801-4837  -86.585839  34.732724  \n",
       "...          ...         ...        ...  \n",
       "7245  82414-3721 -109.058375  44.526783  \n",
       "7246  83001-9433 -110.796320  43.463460  \n",
       "7251       82901 -109.220640  41.586247  \n",
       "7253  82930-3443 -110.966094  41.267987  \n",
       "7256  82435-2335 -108.757481  44.754520  \n",
       "\n",
       "[4972 rows x 7 columns]"
      ]
     },
     "execution_count": 121,
     "metadata": {},
     "output_type": "execute_result"
    }
   ],
   "source": [
    "all_states_df"
   ]
  },
  {
   "cell_type": "code",
   "execution_count": 122,
   "id": "8b82152d-8dfe-41fa-8d71-43deb1303cf3",
   "metadata": {},
   "outputs": [],
   "source": [
    "grouped_data = all_states_df.groupby(['state', 'brewery_type']).count().reset_index()\n"
   ]
  },
  {
   "cell_type": "code",
   "execution_count": 123,
   "id": "57846f5a-aced-4d6a-80ee-3160cb7d4aeb",
   "metadata": {},
   "outputs": [],
   "source": [
    "state_locations = {'Alabama': {'lat': 32.806671, 'lon': -86.79113},\n",
    "                   'Alaska': {'lat': 61.370716, 'lon': -152.404419},\n",
    "                   'Arizona': {'lat': 33.729759, 'lon': -111.431221},\n",
    "                   'Arkansas': {'lat': 34.969704, 'lon': -92.373123},\n",
    "                   'California': {'lat': 36.116203, 'lon': -119.681564},\n",
    "                   'Colorado': {'lat': 39.059811, 'lon': -105.311104},\n",
    "                   'Connecticut': {'lat': 41.597782, 'lon': -72.755371},\n",
    "                   'Delaware': {'lat': 39.318523, 'lon': -75.507141},\n",
    "                   'District of Columbia': {'lat': 38.897438, 'lon': -77.026817},\n",
    "                   'Florida': {'lat': 27.766279, 'lon': -81.686783},\n",
    "                   'Georgia': {'lat': 33.040619, 'lon': -83.643074},\n",
    "                   'Hawaii': {'lat': 21.094318, 'lon': -157.498337},\n",
    "                   'Idaho': {'lat': 44.240459, 'lon': -114.478828},\n",
    "                   'Illinois': {'lat': 40.349457, 'lon': -88.986137},\n",
    "                   'Indiana': {'lat': 39.849426, 'lon': -86.258278},\n",
    "                   'Iowa': {'lat': 42.011539, 'lon': -93.210526},\n",
    "                   'Kansas': {'lat': 38.5266, 'lon': -96.726486},\n",
    "                   'Kentucky': {'lat': 37.66814, 'lon': -84.670067},\n",
    "                   'Louisiana': {'lat': 31.169546, 'lon': -91.867805},\n",
    "                   'Maine': {'lat': 44.693947, 'lon': -69.381927},\n",
    "                   'Maryland': {'lat': 39.063946, 'lon': -76.802101},\n",
    "                   'Massachusetts': {'lat': 42.230171, 'lon': -71.530106},\n",
    "                   'Michigan': {'lat': 43.326618, 'lon': -84.536095},\n",
    "                   'Minnesota': {'lat': 45.694454, 'lon': -93.900192},\n",
    "                   'Mississippi': {'lat': 32.741646, 'lon': -89.678696},\n",
    "                   'Missouri': {'lat': 38.456085, 'lon': -92.288368},\n",
    "                   'Montana': {'lat': 46.921925, 'lon': -110.454353},\n",
    "                   'Nebraska': {'lat': 41.12537, 'lon': -98.268082},\n",
    "                   'Nevada': {'lat': 38.313515, 'lon': -117.055374},\n",
    "                   'New Hampshire': {'lat': 43.452492, 'lon': -71.563896},\n",
    "                   'New Jersey': {'lat': 40.298904, 'lon': -74.521011},\n",
    "                   'New Mexico': {'lat': 34.840515, 'lon': -106.248482},\n",
    "                   'New York': {'lat': 42.165726, 'lon': -74.948051},\n",
    "                   'North Carolina': {'lat': 35.630066, 'lon': -79.806419},\n",
    "                   'North Dakota': {'lat': 47.528912, 'lon': -99.784012},\n",
    "                   'Ohio': {'lat': 40.388783, 'lon': -82.764915},\n",
    "                   'Oklahoma': {'lat': 35.565342, 'lon': -96.928917},\n",
    "                   'Oregon': {'lat': 44.572021, 'lon': -122.070938},\n",
    "                   'Pennsylvania': {'lat': 40.590752, 'lon': -77.209755},\n",
    "                   'Rhode Island': {'lat': 41.680893, 'lon': -71.51178},\n",
    "                   'South Carolina': {'lat': 33.856892, 'lon': -80.945007},\n",
    "                   'South Dakota': {'lat': 44.299782, 'lon': -99.438828},\n",
    "                   'Tennessee': {'lat': 35.747845, 'lon': -86.692345},\n",
    "                   'Texas': {'lat': 31.054487, 'lon': -97.563461},\n",
    "                   'Utah': {'lat': 40.150032, 'lon': -111.862434},\n",
    "                   'Vermont': {'lat': 44.045876, 'lon': -72.710686},\n",
    "                   'Virginia': {'lat': 37.769337, 'lon': -78.169968},\n",
    "                   'Washington': {'lat': 47.400902, 'lon': -121.490494},\n",
    "                   'West Virginia': {'lat': 38.491226, 'lon': -80.954453},\n",
    "                   'Wisconsin': {'lat': 44.268543, 'lon': -89.616508},\n",
    "                   'Wyoming': {'lat': 42.755966, 'lon': -107.30249}}"
   ]
  },
  {
   "cell_type": "code",
   "execution_count": 124,
   "id": "e4bc2cbd-f643-47a9-b343-f1919c9fa2e0",
   "metadata": {},
   "outputs": [],
   "source": [
    "colors = {'brewpub': 'blue', 'contract': 'green', 'micro': 'orange', 'regional': 'red'}\n"
   ]
  },
  {
   "cell_type": "code",
   "execution_count": 130,
   "id": "1f066f46-b9cf-4d4d-8cc8-148a4416013d",
   "metadata": {},
   "outputs": [],
   "source": [
    "grouped_data['latitude'] = grouped_data['state'].apply(lambda x: state_locations[x]['lat'])\n",
    "grouped_data['longitude'] = grouped_data['state'].apply(lambda x: state_locations[x]['lon'])"
   ]
  },
  {
   "cell_type": "code",
   "execution_count": 133,
   "id": "f7e4405d-5928-4a98-a594-af0dc9a5c5f7",
   "metadata": {},
   "outputs": [
    {
     "data": {
      "application/vnd.plotly.v1+json": {
       "config": {
        "plotlyServerURL": "https://plot.ly"
       },
       "data": [
        {
         "customdata": [
          [
           "Alabama",
           "brewpub"
          ],
          [
           "Alaska",
           "brewpub"
          ],
          [
           "Arizona",
           "brewpub"
          ],
          [
           "Arkansas",
           "brewpub"
          ],
          [
           "California",
           "brewpub"
          ],
          [
           "Colorado",
           "brewpub"
          ],
          [
           "Connecticut",
           "brewpub"
          ],
          [
           "Delaware",
           "brewpub"
          ],
          [
           "Florida",
           "brewpub"
          ],
          [
           "Georgia",
           "brewpub"
          ],
          [
           "Hawaii",
           "brewpub"
          ],
          [
           "Idaho",
           "brewpub"
          ],
          [
           "Illinois",
           "brewpub"
          ],
          [
           "Indiana",
           "brewpub"
          ],
          [
           "Iowa",
           "brewpub"
          ],
          [
           "Kansas",
           "brewpub"
          ],
          [
           "Kentucky",
           "brewpub"
          ],
          [
           "Louisiana",
           "brewpub"
          ],
          [
           "Maine",
           "brewpub"
          ],
          [
           "Maryland",
           "brewpub"
          ],
          [
           "Massachusetts",
           "brewpub"
          ],
          [
           "Michigan",
           "brewpub"
          ],
          [
           "Minnesota",
           "brewpub"
          ],
          [
           "Mississippi",
           "brewpub"
          ],
          [
           "Montana",
           "brewpub"
          ],
          [
           "Nebraska",
           "brewpub"
          ],
          [
           "Nevada",
           "brewpub"
          ],
          [
           "New Hampshire",
           "brewpub"
          ],
          [
           "New Jersey",
           "brewpub"
          ],
          [
           "New Mexico",
           "brewpub"
          ],
          [
           "New York",
           "brewpub"
          ],
          [
           "North Carolina",
           "brewpub"
          ],
          [
           "North Dakota",
           "brewpub"
          ],
          [
           "Ohio",
           "brewpub"
          ],
          [
           "Oklahoma",
           "brewpub"
          ],
          [
           "Oregon",
           "brewpub"
          ],
          [
           "Pennsylvania",
           "brewpub"
          ],
          [
           "Rhode Island",
           "brewpub"
          ],
          [
           "South Carolina",
           "brewpub"
          ],
          [
           "South Dakota",
           "brewpub"
          ],
          [
           "Tennessee",
           "brewpub"
          ],
          [
           "Texas",
           "brewpub"
          ],
          [
           "Vermont",
           "brewpub"
          ],
          [
           "Virginia",
           "brewpub"
          ],
          [
           "West Virginia",
           "brewpub"
          ],
          [
           "Wisconsin",
           "brewpub"
          ],
          [
           "Wyoming",
           "brewpub"
          ]
         ],
         "hovertemplate": "<b>%{hovertext}</b><br><br>brewery_type=%{customdata[1]}<br>latitude=%{lat}<br>longitude=%{lon}<br>state=%{customdata[0]}<extra></extra>",
         "hovertext": [
          3,
          14,
          24,
          11,
          247,
          102,
          10,
          10,
          41,
          15,
          12,
          22,
          66,
          47,
          31,
          17,
          11,
          6,
          23,
          19,
          26,
          156,
          38,
          1,
          14,
          21,
          16,
          13,
          12,
          30,
          76,
          52,
          8,
          78,
          5,
          106,
          104,
          9,
          17,
          15,
          23,
          41,
          10,
          32,
          13,
          59,
          10
         ],
         "lat": [
          32.806671,
          61.370716,
          33.729759,
          34.969704,
          36.116203,
          39.059811,
          41.597782,
          39.318523,
          27.766279,
          33.040619,
          21.094318,
          44.240459,
          40.349457,
          39.849426,
          42.011539,
          38.5266,
          37.66814,
          31.169546,
          44.693947,
          39.063946,
          42.230171,
          43.326618,
          45.694454,
          32.741646,
          46.921925,
          41.12537,
          38.313515,
          43.452492,
          40.298904,
          34.840515,
          42.165726,
          35.630066,
          47.528912,
          40.388783,
          35.565342,
          44.572021,
          40.590752,
          41.680893,
          33.856892,
          44.299782,
          35.747845,
          31.054487,
          44.045876,
          37.769337,
          38.491226,
          44.268543,
          42.755966
         ],
         "legendgroup": "brewpub",
         "lon": [
          -86.79113,
          -152.404419,
          -111.431221,
          -92.373123,
          -119.681564,
          -105.311104,
          -72.755371,
          -75.507141,
          -81.686783,
          -83.643074,
          -157.498337,
          -114.478828,
          -88.986137,
          -86.258278,
          -93.210526,
          -96.726486,
          -84.670067,
          -91.867805,
          -69.381927,
          -76.802101,
          -71.530106,
          -84.536095,
          -93.900192,
          -89.678696,
          -110.454353,
          -98.268082,
          -117.055374,
          -71.563896,
          -74.521011,
          -106.248482,
          -74.948051,
          -79.806419,
          -99.784012,
          -82.764915,
          -96.928917,
          -122.070938,
          -77.209755,
          -71.51178,
          -80.945007,
          -99.438828,
          -86.692345,
          -97.563461,
          -72.710686,
          -78.169968,
          -80.954453,
          -89.616508,
          -107.30249
         ],
         "marker": {
          "color": "#636efa"
         },
         "mode": "markers",
         "name": "brewpub",
         "showlegend": true,
         "subplot": "mapbox",
         "type": "scattermapbox"
        },
        {
         "customdata": [
          [
           "Alabama",
           "contract"
          ],
          [
           "Alaska",
           "contract"
          ],
          [
           "Arizona",
           "contract"
          ],
          [
           "Arkansas",
           "contract"
          ],
          [
           "California",
           "contract"
          ],
          [
           "Colorado",
           "contract"
          ],
          [
           "Connecticut",
           "contract"
          ],
          [
           "Florida",
           "contract"
          ],
          [
           "Idaho",
           "contract"
          ],
          [
           "Illinois",
           "contract"
          ],
          [
           "Indiana",
           "contract"
          ],
          [
           "Iowa",
           "contract"
          ],
          [
           "Kentucky",
           "contract"
          ],
          [
           "Maine",
           "contract"
          ],
          [
           "Maryland",
           "contract"
          ],
          [
           "Massachusetts",
           "contract"
          ],
          [
           "Michigan",
           "contract"
          ],
          [
           "Minnesota",
           "contract"
          ],
          [
           "Mississippi",
           "contract"
          ],
          [
           "New Jersey",
           "contract"
          ],
          [
           "New Mexico",
           "contract"
          ],
          [
           "New York",
           "contract"
          ],
          [
           "North Carolina",
           "contract"
          ],
          [
           "Ohio",
           "contract"
          ],
          [
           "Oklahoma",
           "contract"
          ],
          [
           "Oregon",
           "contract"
          ],
          [
           "Pennsylvania",
           "contract"
          ],
          [
           "South Carolina",
           "contract"
          ],
          [
           "South Dakota",
           "contract"
          ],
          [
           "Tennessee",
           "contract"
          ],
          [
           "Texas",
           "contract"
          ],
          [
           "Virginia",
           "contract"
          ],
          [
           "Wisconsin",
           "contract"
          ]
         ],
         "hovertemplate": "<b>%{hovertext}</b><br><br>brewery_type=%{customdata[1]}<br>latitude=%{lat}<br>longitude=%{lon}<br>state=%{customdata[0]}<extra></extra>",
         "hovertext": [
          1,
          1,
          3,
          1,
          25,
          7,
          4,
          4,
          1,
          4,
          1,
          1,
          1,
          1,
          1,
          7,
          2,
          3,
          1,
          2,
          1,
          7,
          1,
          4,
          4,
          3,
          3,
          1,
          1,
          1,
          3,
          4,
          12
         ],
         "lat": [
          32.806671,
          61.370716,
          33.729759,
          34.969704,
          36.116203,
          39.059811,
          41.597782,
          27.766279,
          44.240459,
          40.349457,
          39.849426,
          42.011539,
          37.66814,
          44.693947,
          39.063946,
          42.230171,
          43.326618,
          45.694454,
          32.741646,
          40.298904,
          34.840515,
          42.165726,
          35.630066,
          40.388783,
          35.565342,
          44.572021,
          40.590752,
          33.856892,
          44.299782,
          35.747845,
          31.054487,
          37.769337,
          44.268543
         ],
         "legendgroup": "contract",
         "lon": [
          -86.79113,
          -152.404419,
          -111.431221,
          -92.373123,
          -119.681564,
          -105.311104,
          -72.755371,
          -81.686783,
          -114.478828,
          -88.986137,
          -86.258278,
          -93.210526,
          -84.670067,
          -69.381927,
          -76.802101,
          -71.530106,
          -84.536095,
          -93.900192,
          -89.678696,
          -74.521011,
          -106.248482,
          -74.948051,
          -79.806419,
          -82.764915,
          -96.928917,
          -122.070938,
          -77.209755,
          -80.945007,
          -99.438828,
          -86.692345,
          -97.563461,
          -78.169968,
          -89.616508
         ],
         "marker": {
          "color": "#EF553B"
         },
         "mode": "markers",
         "name": "contract",
         "showlegend": true,
         "subplot": "mapbox",
         "type": "scattermapbox"
        },
        {
         "customdata": [
          [
           "Alabama",
           "micro"
          ],
          [
           "Alaska",
           "micro"
          ],
          [
           "Arizona",
           "micro"
          ],
          [
           "Arkansas",
           "micro"
          ],
          [
           "California",
           "micro"
          ],
          [
           "Colorado",
           "micro"
          ],
          [
           "Connecticut",
           "micro"
          ],
          [
           "Delaware",
           "micro"
          ],
          [
           "Florida",
           "micro"
          ],
          [
           "Georgia",
           "micro"
          ],
          [
           "Hawaii",
           "micro"
          ],
          [
           "Idaho",
           "micro"
          ],
          [
           "Illinois",
           "micro"
          ],
          [
           "Indiana",
           "micro"
          ],
          [
           "Iowa",
           "micro"
          ],
          [
           "Kansas",
           "micro"
          ],
          [
           "Kentucky",
           "micro"
          ],
          [
           "Louisiana",
           "micro"
          ],
          [
           "Maine",
           "micro"
          ],
          [
           "Maryland",
           "micro"
          ],
          [
           "Massachusetts",
           "micro"
          ],
          [
           "Michigan",
           "micro"
          ],
          [
           "Minnesota",
           "micro"
          ],
          [
           "Mississippi",
           "micro"
          ],
          [
           "Montana",
           "micro"
          ],
          [
           "Nebraska",
           "micro"
          ],
          [
           "Nevada",
           "micro"
          ],
          [
           "New Hampshire",
           "micro"
          ],
          [
           "New Jersey",
           "micro"
          ],
          [
           "New Mexico",
           "micro"
          ],
          [
           "New York",
           "micro"
          ],
          [
           "North Carolina",
           "micro"
          ],
          [
           "North Dakota",
           "micro"
          ],
          [
           "Ohio",
           "micro"
          ],
          [
           "Oklahoma",
           "micro"
          ],
          [
           "Oregon",
           "micro"
          ],
          [
           "Pennsylvania",
           "micro"
          ],
          [
           "Rhode Island",
           "micro"
          ],
          [
           "South Carolina",
           "micro"
          ],
          [
           "South Dakota",
           "micro"
          ],
          [
           "Tennessee",
           "micro"
          ],
          [
           "Texas",
           "micro"
          ],
          [
           "Vermont",
           "micro"
          ],
          [
           "Virginia",
           "micro"
          ],
          [
           "West Virginia",
           "micro"
          ],
          [
           "Wisconsin",
           "micro"
          ],
          [
           "Wyoming",
           "micro"
          ]
         ],
         "hovertemplate": "<b>%{hovertext}</b><br><br>brewery_type=%{customdata[1]}<br>latitude=%{lat}<br>longitude=%{lon}<br>state=%{customdata[0]}<extra></extra>",
         "hovertext": [
          25,
          29,
          34,
          16,
          461,
          124,
          28,
          4,
          112,
          32,
          7,
          36,
          76,
          37,
          56,
          13,
          35,
          19,
          38,
          24,
          58,
          107,
          76,
          10,
          41,
          29,
          11,
          26,
          43,
          18,
          133,
          118,
          12,
          124,
          30,
          140,
          76,
          20,
          23,
          24,
          46,
          113,
          13,
          93,
          17,
          71,
          11
         ],
         "lat": [
          32.806671,
          61.370716,
          33.729759,
          34.969704,
          36.116203,
          39.059811,
          41.597782,
          39.318523,
          27.766279,
          33.040619,
          21.094318,
          44.240459,
          40.349457,
          39.849426,
          42.011539,
          38.5266,
          37.66814,
          31.169546,
          44.693947,
          39.063946,
          42.230171,
          43.326618,
          45.694454,
          32.741646,
          46.921925,
          41.12537,
          38.313515,
          43.452492,
          40.298904,
          34.840515,
          42.165726,
          35.630066,
          47.528912,
          40.388783,
          35.565342,
          44.572021,
          40.590752,
          41.680893,
          33.856892,
          44.299782,
          35.747845,
          31.054487,
          44.045876,
          37.769337,
          38.491226,
          44.268543,
          42.755966
         ],
         "legendgroup": "micro",
         "lon": [
          -86.79113,
          -152.404419,
          -111.431221,
          -92.373123,
          -119.681564,
          -105.311104,
          -72.755371,
          -75.507141,
          -81.686783,
          -83.643074,
          -157.498337,
          -114.478828,
          -88.986137,
          -86.258278,
          -93.210526,
          -96.726486,
          -84.670067,
          -91.867805,
          -69.381927,
          -76.802101,
          -71.530106,
          -84.536095,
          -93.900192,
          -89.678696,
          -110.454353,
          -98.268082,
          -117.055374,
          -71.563896,
          -74.521011,
          -106.248482,
          -74.948051,
          -79.806419,
          -99.784012,
          -82.764915,
          -96.928917,
          -122.070938,
          -77.209755,
          -71.51178,
          -80.945007,
          -99.438828,
          -86.692345,
          -97.563461,
          -72.710686,
          -78.169968,
          -80.954453,
          -89.616508,
          -107.30249
         ],
         "marker": {
          "color": "#00cc96"
         },
         "mode": "markers",
         "name": "micro",
         "showlegend": true,
         "subplot": "mapbox",
         "type": "scattermapbox"
        },
        {
         "customdata": [
          [
           "Alabama",
           "planning"
          ],
          [
           "Alaska",
           "planning"
          ],
          [
           "Arizona",
           "planning"
          ],
          [
           "Arkansas",
           "planning"
          ],
          [
           "California",
           "planning"
          ],
          [
           "Colorado",
           "planning"
          ],
          [
           "Oklahoma",
           "planning"
          ],
          [
           "Oregon",
           "planning"
          ],
          [
           "South Dakota",
           "planning"
          ]
         ],
         "hovertemplate": "<b>%{hovertext}</b><br><br>brewery_type=%{customdata[1]}<br>latitude=%{lat}<br>longitude=%{lon}<br>state=%{customdata[0]}<extra></extra>",
         "hovertext": [
          8,
          2,
          13,
          4,
          67,
          5,
          1,
          6,
          1
         ],
         "lat": [
          32.806671,
          61.370716,
          33.729759,
          34.969704,
          36.116203,
          39.059811,
          35.565342,
          44.572021,
          44.299782
         ],
         "legendgroup": "planning",
         "lon": [
          -86.79113,
          -152.404419,
          -111.431221,
          -92.373123,
          -119.681564,
          -105.311104,
          -96.928917,
          -122.070938,
          -99.438828
         ],
         "marker": {
          "color": "#ab63fa"
         },
         "mode": "markers",
         "name": "planning",
         "showlegend": true,
         "subplot": "mapbox",
         "type": "scattermapbox"
        },
        {
         "customdata": [
          [
           "Alaska",
           "closed"
          ],
          [
           "California",
           "closed"
          ],
          [
           "Connecticut",
           "closed"
          ],
          [
           "Hawaii",
           "closed"
          ],
          [
           "Idaho",
           "closed"
          ],
          [
           "Iowa",
           "closed"
          ],
          [
           "Nebraska",
           "closed"
          ],
          [
           "North Dakota",
           "closed"
          ],
          [
           "Ohio",
           "closed"
          ],
          [
           "Oklahoma",
           "closed"
          ],
          [
           "Oregon",
           "closed"
          ],
          [
           "South Carolina",
           "closed"
          ],
          [
           "South Dakota",
           "closed"
          ],
          [
           "Texas",
           "closed"
          ]
         ],
         "hovertemplate": "<b>%{hovertext}</b><br><br>brewery_type=%{customdata[1]}<br>latitude=%{lat}<br>longitude=%{lon}<br>state=%{customdata[0]}<extra></extra>",
         "hovertext": [
          4,
          51,
          2,
          3,
          3,
          2,
          1,
          2,
          1,
          1,
          11,
          1,
          2,
          1
         ],
         "lat": [
          61.370716,
          36.116203,
          41.597782,
          21.094318,
          44.240459,
          42.011539,
          41.12537,
          47.528912,
          40.388783,
          35.565342,
          44.572021,
          33.856892,
          44.299782,
          31.054487
         ],
         "legendgroup": "closed",
         "lon": [
          -152.404419,
          -119.681564,
          -72.755371,
          -157.498337,
          -114.478828,
          -93.210526,
          -98.268082,
          -99.784012,
          -82.764915,
          -96.928917,
          -122.070938,
          -80.945007,
          -99.438828,
          -97.563461
         ],
         "marker": {
          "color": "#FFA15A"
         },
         "mode": "markers",
         "name": "closed",
         "showlegend": true,
         "subplot": "mapbox",
         "type": "scattermapbox"
        },
        {
         "customdata": [
          [
           "Alaska",
           "regional"
          ],
          [
           "Arizona",
           "regional"
          ],
          [
           "California",
           "regional"
          ],
          [
           "Colorado",
           "regional"
          ],
          [
           "Connecticut",
           "regional"
          ],
          [
           "Delaware",
           "regional"
          ],
          [
           "Florida",
           "regional"
          ],
          [
           "Georgia",
           "regional"
          ],
          [
           "Hawaii",
           "regional"
          ],
          [
           "Illinois",
           "regional"
          ],
          [
           "Indiana",
           "regional"
          ],
          [
           "Kansas",
           "regional"
          ],
          [
           "Kentucky",
           "regional"
          ],
          [
           "Maine",
           "regional"
          ],
          [
           "Maryland",
           "regional"
          ],
          [
           "Massachusetts",
           "regional"
          ],
          [
           "Michigan",
           "regional"
          ],
          [
           "Minnesota",
           "regional"
          ],
          [
           "Montana",
           "regional"
          ],
          [
           "New Hampshire",
           "regional"
          ],
          [
           "New Jersey",
           "regional"
          ],
          [
           "New Mexico",
           "regional"
          ],
          [
           "New York",
           "regional"
          ],
          [
           "North Carolina",
           "regional"
          ],
          [
           "Ohio",
           "regional"
          ],
          [
           "Oregon",
           "regional"
          ],
          [
           "Pennsylvania",
           "regional"
          ],
          [
           "Rhode Island",
           "regional"
          ],
          [
           "Tennessee",
           "regional"
          ],
          [
           "Texas",
           "regional"
          ],
          [
           "Vermont",
           "regional"
          ],
          [
           "Virginia",
           "regional"
          ],
          [
           "Wisconsin",
           "regional"
          ]
         ],
         "hovertemplate": "<b>%{hovertext}</b><br><br>brewery_type=%{customdata[1]}<br>latitude=%{lat}<br>longitude=%{lon}<br>state=%{customdata[0]}<extra></extra>",
         "hovertext": [
          1,
          1,
          29,
          8,
          2,
          1,
          3,
          2,
          1,
          2,
          2,
          1,
          1,
          3,
          2,
          8,
          5,
          5,
          1,
          2,
          1,
          2,
          6,
          9,
          8,
          13,
          8,
          1,
          2,
          8,
          5,
          2,
          9
         ],
         "lat": [
          61.370716,
          33.729759,
          36.116203,
          39.059811,
          41.597782,
          39.318523,
          27.766279,
          33.040619,
          21.094318,
          40.349457,
          39.849426,
          38.5266,
          37.66814,
          44.693947,
          39.063946,
          42.230171,
          43.326618,
          45.694454,
          46.921925,
          43.452492,
          40.298904,
          34.840515,
          42.165726,
          35.630066,
          40.388783,
          44.572021,
          40.590752,
          41.680893,
          35.747845,
          31.054487,
          44.045876,
          37.769337,
          44.268543
         ],
         "legendgroup": "regional",
         "lon": [
          -152.404419,
          -111.431221,
          -119.681564,
          -105.311104,
          -72.755371,
          -75.507141,
          -81.686783,
          -83.643074,
          -157.498337,
          -88.986137,
          -86.258278,
          -96.726486,
          -84.670067,
          -69.381927,
          -76.802101,
          -71.530106,
          -84.536095,
          -93.900192,
          -110.454353,
          -71.563896,
          -74.521011,
          -106.248482,
          -74.948051,
          -79.806419,
          -82.764915,
          -122.070938,
          -77.209755,
          -71.51178,
          -86.692345,
          -97.563461,
          -72.710686,
          -78.169968,
          -89.616508
         ],
         "marker": {
          "color": "#19d3f3"
         },
         "mode": "markers",
         "name": "regional",
         "showlegend": true,
         "subplot": "mapbox",
         "type": "scattermapbox"
        },
        {
         "customdata": [
          [
           "Arizona",
           "large"
          ],
          [
           "California",
           "large"
          ],
          [
           "Colorado",
           "large"
          ],
          [
           "Florida",
           "large"
          ],
          [
           "Georgia",
           "large"
          ],
          [
           "Idaho",
           "large"
          ],
          [
           "Illinois",
           "large"
          ],
          [
           "Maryland",
           "large"
          ],
          [
           "New Hampshire",
           "large"
          ],
          [
           "New York",
           "large"
          ],
          [
           "North Carolina",
           "large"
          ],
          [
           "Ohio",
           "large"
          ],
          [
           "Oregon",
           "large"
          ],
          [
           "Texas",
           "large"
          ],
          [
           "Virginia",
           "large"
          ],
          [
           "Wisconsin",
           "large"
          ]
         ],
         "hovertemplate": "<b>%{hovertext}</b><br><br>brewery_type=%{customdata[1]}<br>latitude=%{lat}<br>longitude=%{lon}<br>state=%{customdata[0]}<extra></extra>",
         "hovertext": [
          1,
          15,
          6,
          3,
          2,
          1,
          2,
          1,
          1,
          3,
          3,
          2,
          6,
          3,
          3,
          4
         ],
         "lat": [
          33.729759,
          36.116203,
          39.059811,
          27.766279,
          33.040619,
          44.240459,
          40.349457,
          39.063946,
          43.452492,
          42.165726,
          35.630066,
          40.388783,
          44.572021,
          31.054487,
          37.769337,
          44.268543
         ],
         "legendgroup": "large",
         "lon": [
          -111.431221,
          -119.681564,
          -105.311104,
          -81.686783,
          -83.643074,
          -114.478828,
          -88.986137,
          -76.802101,
          -71.563896,
          -74.948051,
          -79.806419,
          -82.764915,
          -122.070938,
          -97.563461,
          -78.169968,
          -89.616508
         ],
         "marker": {
          "color": "#FF6692"
         },
         "mode": "markers",
         "name": "large",
         "showlegend": true,
         "subplot": "mapbox",
         "type": "scattermapbox"
        },
        {
         "customdata": [
          [
           "California",
           "proprietor"
          ],
          [
           "Colorado",
           "proprietor"
          ],
          [
           "Florida",
           "proprietor"
          ],
          [
           "Georgia",
           "proprietor"
          ],
          [
           "Idaho",
           "proprietor"
          ],
          [
           "Illinois",
           "proprietor"
          ],
          [
           "Maine",
           "proprietor"
          ],
          [
           "Maryland",
           "proprietor"
          ],
          [
           "Massachusetts",
           "proprietor"
          ],
          [
           "Minnesota",
           "proprietor"
          ],
          [
           "New Mexico",
           "proprietor"
          ],
          [
           "New York",
           "proprietor"
          ],
          [
           "North Carolina",
           "proprietor"
          ],
          [
           "Oregon",
           "proprietor"
          ],
          [
           "Pennsylvania",
           "proprietor"
          ],
          [
           "Rhode Island",
           "proprietor"
          ],
          [
           "South Dakota",
           "proprietor"
          ],
          [
           "West Virginia",
           "proprietor"
          ],
          [
           "Wisconsin",
           "proprietor"
          ]
         ],
         "hovertemplate": "<b>%{hovertext}</b><br><br>brewery_type=%{customdata[1]}<br>latitude=%{lat}<br>longitude=%{lon}<br>state=%{customdata[0]}<extra></extra>",
         "hovertext": [
          13,
          1,
          3,
          1,
          1,
          3,
          1,
          1,
          1,
          2,
          1,
          6,
          2,
          2,
          1,
          1,
          1,
          1,
          2
         ],
         "lat": [
          36.116203,
          39.059811,
          27.766279,
          33.040619,
          44.240459,
          40.349457,
          44.693947,
          39.063946,
          42.230171,
          45.694454,
          34.840515,
          42.165726,
          35.630066,
          44.572021,
          40.590752,
          41.680893,
          44.299782,
          38.491226,
          44.268543
         ],
         "legendgroup": "proprietor",
         "lon": [
          -119.681564,
          -105.311104,
          -81.686783,
          -83.643074,
          -114.478828,
          -88.986137,
          -69.381927,
          -76.802101,
          -71.530106,
          -93.900192,
          -106.248482,
          -74.948051,
          -79.806419,
          -122.070938,
          -77.209755,
          -71.51178,
          -99.438828,
          -80.954453,
          -89.616508
         ],
         "marker": {
          "color": "#B6E880"
         },
         "mode": "markers",
         "name": "proprietor",
         "showlegend": true,
         "subplot": "mapbox",
         "type": "scattermapbox"
        },
        {
         "customdata": [
          [
           "Nevada",
           "bar"
          ],
          [
           "North Dakota",
           "bar"
          ]
         ],
         "hovertemplate": "<b>%{hovertext}</b><br><br>brewery_type=%{customdata[1]}<br>latitude=%{lat}<br>longitude=%{lon}<br>state=%{customdata[0]}<extra></extra>",
         "hovertext": [
          1,
          1
         ],
         "lat": [
          38.313515,
          47.528912
         ],
         "legendgroup": "bar",
         "lon": [
          -117.055374,
          -99.784012
         ],
         "marker": {
          "color": "#FF97FF"
         },
         "mode": "markers",
         "name": "bar",
         "showlegend": true,
         "subplot": "mapbox",
         "type": "scattermapbox"
        },
        {
         "customdata": [
          [
           "North Dakota",
           "nano"
          ],
          [
           "Wisconsin",
           "nano"
          ]
         ],
         "hovertemplate": "<b>%{hovertext}</b><br><br>brewery_type=%{customdata[1]}<br>latitude=%{lat}<br>longitude=%{lon}<br>state=%{customdata[0]}<extra></extra>",
         "hovertext": [
          2,
          1
         ],
         "lat": [
          47.528912,
          44.268543
         ],
         "legendgroup": "nano",
         "lon": [
          -99.784012,
          -89.616508
         ],
         "marker": {
          "color": "#FECB52"
         },
         "mode": "markers",
         "name": "nano",
         "showlegend": true,
         "subplot": "mapbox",
         "type": "scattermapbox"
        }
       ],
       "layout": {
        "autosize": true,
        "legend": {
         "title": {
          "text": "brewery_type"
         },
         "tracegroupgap": 0
        },
        "mapbox": {
         "bearing": 0,
         "center": {
          "lat": 40.27942001254834,
          "lon": -68.31070443542592
         },
         "domain": {
          "x": [
           0,
           1
          ],
          "y": [
           0,
           1
          ]
         },
         "pitch": 0,
         "style": "carto-positron",
         "zoom": 1.806260691302259
        },
        "template": {
         "data": {
          "bar": [
           {
            "error_x": {
             "color": "#2a3f5f"
            },
            "error_y": {
             "color": "#2a3f5f"
            },
            "marker": {
             "line": {
              "color": "#E5ECF6",
              "width": 0.5
             },
             "pattern": {
              "fillmode": "overlay",
              "size": 10,
              "solidity": 0.2
             }
            },
            "type": "bar"
           }
          ],
          "barpolar": [
           {
            "marker": {
             "line": {
              "color": "#E5ECF6",
              "width": 0.5
             },
             "pattern": {
              "fillmode": "overlay",
              "size": 10,
              "solidity": 0.2
             }
            },
            "type": "barpolar"
           }
          ],
          "carpet": [
           {
            "aaxis": {
             "endlinecolor": "#2a3f5f",
             "gridcolor": "white",
             "linecolor": "white",
             "minorgridcolor": "white",
             "startlinecolor": "#2a3f5f"
            },
            "baxis": {
             "endlinecolor": "#2a3f5f",
             "gridcolor": "white",
             "linecolor": "white",
             "minorgridcolor": "white",
             "startlinecolor": "#2a3f5f"
            },
            "type": "carpet"
           }
          ],
          "choropleth": [
           {
            "colorbar": {
             "outlinewidth": 0,
             "ticks": ""
            },
            "type": "choropleth"
           }
          ],
          "contour": [
           {
            "colorbar": {
             "outlinewidth": 0,
             "ticks": ""
            },
            "colorscale": [
             [
              0,
              "#0d0887"
             ],
             [
              0.1111111111111111,
              "#46039f"
             ],
             [
              0.2222222222222222,
              "#7201a8"
             ],
             [
              0.3333333333333333,
              "#9c179e"
             ],
             [
              0.4444444444444444,
              "#bd3786"
             ],
             [
              0.5555555555555556,
              "#d8576b"
             ],
             [
              0.6666666666666666,
              "#ed7953"
             ],
             [
              0.7777777777777778,
              "#fb9f3a"
             ],
             [
              0.8888888888888888,
              "#fdca26"
             ],
             [
              1,
              "#f0f921"
             ]
            ],
            "type": "contour"
           }
          ],
          "contourcarpet": [
           {
            "colorbar": {
             "outlinewidth": 0,
             "ticks": ""
            },
            "type": "contourcarpet"
           }
          ],
          "heatmap": [
           {
            "colorbar": {
             "outlinewidth": 0,
             "ticks": ""
            },
            "colorscale": [
             [
              0,
              "#0d0887"
             ],
             [
              0.1111111111111111,
              "#46039f"
             ],
             [
              0.2222222222222222,
              "#7201a8"
             ],
             [
              0.3333333333333333,
              "#9c179e"
             ],
             [
              0.4444444444444444,
              "#bd3786"
             ],
             [
              0.5555555555555556,
              "#d8576b"
             ],
             [
              0.6666666666666666,
              "#ed7953"
             ],
             [
              0.7777777777777778,
              "#fb9f3a"
             ],
             [
              0.8888888888888888,
              "#fdca26"
             ],
             [
              1,
              "#f0f921"
             ]
            ],
            "type": "heatmap"
           }
          ],
          "heatmapgl": [
           {
            "colorbar": {
             "outlinewidth": 0,
             "ticks": ""
            },
            "colorscale": [
             [
              0,
              "#0d0887"
             ],
             [
              0.1111111111111111,
              "#46039f"
             ],
             [
              0.2222222222222222,
              "#7201a8"
             ],
             [
              0.3333333333333333,
              "#9c179e"
             ],
             [
              0.4444444444444444,
              "#bd3786"
             ],
             [
              0.5555555555555556,
              "#d8576b"
             ],
             [
              0.6666666666666666,
              "#ed7953"
             ],
             [
              0.7777777777777778,
              "#fb9f3a"
             ],
             [
              0.8888888888888888,
              "#fdca26"
             ],
             [
              1,
              "#f0f921"
             ]
            ],
            "type": "heatmapgl"
           }
          ],
          "histogram": [
           {
            "marker": {
             "pattern": {
              "fillmode": "overlay",
              "size": 10,
              "solidity": 0.2
             }
            },
            "type": "histogram"
           }
          ],
          "histogram2d": [
           {
            "colorbar": {
             "outlinewidth": 0,
             "ticks": ""
            },
            "colorscale": [
             [
              0,
              "#0d0887"
             ],
             [
              0.1111111111111111,
              "#46039f"
             ],
             [
              0.2222222222222222,
              "#7201a8"
             ],
             [
              0.3333333333333333,
              "#9c179e"
             ],
             [
              0.4444444444444444,
              "#bd3786"
             ],
             [
              0.5555555555555556,
              "#d8576b"
             ],
             [
              0.6666666666666666,
              "#ed7953"
             ],
             [
              0.7777777777777778,
              "#fb9f3a"
             ],
             [
              0.8888888888888888,
              "#fdca26"
             ],
             [
              1,
              "#f0f921"
             ]
            ],
            "type": "histogram2d"
           }
          ],
          "histogram2dcontour": [
           {
            "colorbar": {
             "outlinewidth": 0,
             "ticks": ""
            },
            "colorscale": [
             [
              0,
              "#0d0887"
             ],
             [
              0.1111111111111111,
              "#46039f"
             ],
             [
              0.2222222222222222,
              "#7201a8"
             ],
             [
              0.3333333333333333,
              "#9c179e"
             ],
             [
              0.4444444444444444,
              "#bd3786"
             ],
             [
              0.5555555555555556,
              "#d8576b"
             ],
             [
              0.6666666666666666,
              "#ed7953"
             ],
             [
              0.7777777777777778,
              "#fb9f3a"
             ],
             [
              0.8888888888888888,
              "#fdca26"
             ],
             [
              1,
              "#f0f921"
             ]
            ],
            "type": "histogram2dcontour"
           }
          ],
          "mesh3d": [
           {
            "colorbar": {
             "outlinewidth": 0,
             "ticks": ""
            },
            "type": "mesh3d"
           }
          ],
          "parcoords": [
           {
            "line": {
             "colorbar": {
              "outlinewidth": 0,
              "ticks": ""
             }
            },
            "type": "parcoords"
           }
          ],
          "pie": [
           {
            "automargin": true,
            "type": "pie"
           }
          ],
          "scatter": [
           {
            "fillpattern": {
             "fillmode": "overlay",
             "size": 10,
             "solidity": 0.2
            },
            "type": "scatter"
           }
          ],
          "scatter3d": [
           {
            "line": {
             "colorbar": {
              "outlinewidth": 0,
              "ticks": ""
             }
            },
            "marker": {
             "colorbar": {
              "outlinewidth": 0,
              "ticks": ""
             }
            },
            "type": "scatter3d"
           }
          ],
          "scattercarpet": [
           {
            "marker": {
             "colorbar": {
              "outlinewidth": 0,
              "ticks": ""
             }
            },
            "type": "scattercarpet"
           }
          ],
          "scattergeo": [
           {
            "marker": {
             "colorbar": {
              "outlinewidth": 0,
              "ticks": ""
             }
            },
            "type": "scattergeo"
           }
          ],
          "scattergl": [
           {
            "marker": {
             "colorbar": {
              "outlinewidth": 0,
              "ticks": ""
             }
            },
            "type": "scattergl"
           }
          ],
          "scattermapbox": [
           {
            "marker": {
             "colorbar": {
              "outlinewidth": 0,
              "ticks": ""
             }
            },
            "type": "scattermapbox"
           }
          ],
          "scatterpolar": [
           {
            "marker": {
             "colorbar": {
              "outlinewidth": 0,
              "ticks": ""
             }
            },
            "type": "scatterpolar"
           }
          ],
          "scatterpolargl": [
           {
            "marker": {
             "colorbar": {
              "outlinewidth": 0,
              "ticks": ""
             }
            },
            "type": "scatterpolargl"
           }
          ],
          "scatterternary": [
           {
            "marker": {
             "colorbar": {
              "outlinewidth": 0,
              "ticks": ""
             }
            },
            "type": "scatterternary"
           }
          ],
          "surface": [
           {
            "colorbar": {
             "outlinewidth": 0,
             "ticks": ""
            },
            "colorscale": [
             [
              0,
              "#0d0887"
             ],
             [
              0.1111111111111111,
              "#46039f"
             ],
             [
              0.2222222222222222,
              "#7201a8"
             ],
             [
              0.3333333333333333,
              "#9c179e"
             ],
             [
              0.4444444444444444,
              "#bd3786"
             ],
             [
              0.5555555555555556,
              "#d8576b"
             ],
             [
              0.6666666666666666,
              "#ed7953"
             ],
             [
              0.7777777777777778,
              "#fb9f3a"
             ],
             [
              0.8888888888888888,
              "#fdca26"
             ],
             [
              1,
              "#f0f921"
             ]
            ],
            "type": "surface"
           }
          ],
          "table": [
           {
            "cells": {
             "fill": {
              "color": "#EBF0F8"
             },
             "line": {
              "color": "white"
             }
            },
            "header": {
             "fill": {
              "color": "#C8D4E3"
             },
             "line": {
              "color": "white"
             }
            },
            "type": "table"
           }
          ]
         },
         "layout": {
          "annotationdefaults": {
           "arrowcolor": "#2a3f5f",
           "arrowhead": 0,
           "arrowwidth": 1
          },
          "autotypenumbers": "strict",
          "coloraxis": {
           "colorbar": {
            "outlinewidth": 0,
            "ticks": ""
           }
          },
          "colorscale": {
           "diverging": [
            [
             0,
             "#8e0152"
            ],
            [
             0.1,
             "#c51b7d"
            ],
            [
             0.2,
             "#de77ae"
            ],
            [
             0.3,
             "#f1b6da"
            ],
            [
             0.4,
             "#fde0ef"
            ],
            [
             0.5,
             "#f7f7f7"
            ],
            [
             0.6,
             "#e6f5d0"
            ],
            [
             0.7,
             "#b8e186"
            ],
            [
             0.8,
             "#7fbc41"
            ],
            [
             0.9,
             "#4d9221"
            ],
            [
             1,
             "#276419"
            ]
           ],
           "sequential": [
            [
             0,
             "#0d0887"
            ],
            [
             0.1111111111111111,
             "#46039f"
            ],
            [
             0.2222222222222222,
             "#7201a8"
            ],
            [
             0.3333333333333333,
             "#9c179e"
            ],
            [
             0.4444444444444444,
             "#bd3786"
            ],
            [
             0.5555555555555556,
             "#d8576b"
            ],
            [
             0.6666666666666666,
             "#ed7953"
            ],
            [
             0.7777777777777778,
             "#fb9f3a"
            ],
            [
             0.8888888888888888,
             "#fdca26"
            ],
            [
             1,
             "#f0f921"
            ]
           ],
           "sequentialminus": [
            [
             0,
             "#0d0887"
            ],
            [
             0.1111111111111111,
             "#46039f"
            ],
            [
             0.2222222222222222,
             "#7201a8"
            ],
            [
             0.3333333333333333,
             "#9c179e"
            ],
            [
             0.4444444444444444,
             "#bd3786"
            ],
            [
             0.5555555555555556,
             "#d8576b"
            ],
            [
             0.6666666666666666,
             "#ed7953"
            ],
            [
             0.7777777777777778,
             "#fb9f3a"
            ],
            [
             0.8888888888888888,
             "#fdca26"
            ],
            [
             1,
             "#f0f921"
            ]
           ]
          },
          "colorway": [
           "#636efa",
           "#EF553B",
           "#00cc96",
           "#ab63fa",
           "#FFA15A",
           "#19d3f3",
           "#FF6692",
           "#B6E880",
           "#FF97FF",
           "#FECB52"
          ],
          "font": {
           "color": "#2a3f5f"
          },
          "geo": {
           "bgcolor": "white",
           "lakecolor": "white",
           "landcolor": "#E5ECF6",
           "showlakes": true,
           "showland": true,
           "subunitcolor": "white"
          },
          "hoverlabel": {
           "align": "left"
          },
          "hovermode": "closest",
          "mapbox": {
           "style": "light"
          },
          "paper_bgcolor": "white",
          "plot_bgcolor": "#E5ECF6",
          "polar": {
           "angularaxis": {
            "gridcolor": "white",
            "linecolor": "white",
            "ticks": ""
           },
           "bgcolor": "#E5ECF6",
           "radialaxis": {
            "gridcolor": "white",
            "linecolor": "white",
            "ticks": ""
           }
          },
          "scene": {
           "xaxis": {
            "backgroundcolor": "#E5ECF6",
            "gridcolor": "white",
            "gridwidth": 2,
            "linecolor": "white",
            "showbackground": true,
            "ticks": "",
            "zerolinecolor": "white"
           },
           "yaxis": {
            "backgroundcolor": "#E5ECF6",
            "gridcolor": "white",
            "gridwidth": 2,
            "linecolor": "white",
            "showbackground": true,
            "ticks": "",
            "zerolinecolor": "white"
           },
           "zaxis": {
            "backgroundcolor": "#E5ECF6",
            "gridcolor": "white",
            "gridwidth": 2,
            "linecolor": "white",
            "showbackground": true,
            "ticks": "",
            "zerolinecolor": "white"
           }
          },
          "shapedefaults": {
           "line": {
            "color": "#2a3f5f"
           }
          },
          "ternary": {
           "aaxis": {
            "gridcolor": "white",
            "linecolor": "white",
            "ticks": ""
           },
           "baxis": {
            "gridcolor": "white",
            "linecolor": "white",
            "ticks": ""
           },
           "bgcolor": "#E5ECF6",
           "caxis": {
            "gridcolor": "white",
            "linecolor": "white",
            "ticks": ""
           }
          },
          "title": {
           "x": 0.05
          },
          "xaxis": {
           "automargin": true,
           "gridcolor": "white",
           "linecolor": "white",
           "ticks": "",
           "title": {
            "standoff": 15
           },
           "zerolinecolor": "white",
           "zerolinewidth": 2
          },
          "yaxis": {
           "automargin": true,
           "gridcolor": "white",
           "linecolor": "white",
           "ticks": "",
           "title": {
            "standoff": 15
           },
           "zerolinecolor": "white",
           "zerolinewidth": 2
          }
         }
        },
        "title": {
         "text": "Breweries by State and Type"
        }
       }
      },
      "image/png": "[encoded data removed]",
      "text/html": [
       "<div>                            <div id=\"70040fcb-4aba-4d19-919a-61205a52bf76\" class=\"plotly-graph-div\" style=\"height:525px; width:100%;\"></div>            <script type=\"text/javascript\">                require([\"plotly\"], function(Plotly) {                    window.PLOTLYENV=window.PLOTLYENV || {};                                    if (document.getElementById(\"70040fcb-4aba-4d19-919a-61205a52bf76\")) {                    Plotly.newPlot(                        \"70040fcb-4aba-4d19-919a-61205a52bf76\",                        [{\"customdata\":[[\"Alabama\",\"brewpub\"],[\"Alaska\",\"brewpub\"],[\"Arizona\",\"brewpub\"],[\"Arkansas\",\"brewpub\"],[\"California\",\"brewpub\"],[\"Colorado\",\"brewpub\"],[\"Connecticut\",\"brewpub\"],[\"Delaware\",\"brewpub\"],[\"Florida\",\"brewpub\"],[\"Georgia\",\"brewpub\"],[\"Hawaii\",\"brewpub\"],[\"Idaho\",\"brewpub\"],[\"Illinois\",\"brewpub\"],[\"Indiana\",\"brewpub\"],[\"Iowa\",\"brewpub\"],[\"Kansas\",\"brewpub\"],[\"Kentucky\",\"brewpub\"],[\"Louisiana\",\"brewpub\"],[\"Maine\",\"brewpub\"],[\"Maryland\",\"brewpub\"],[\"Massachusetts\",\"brewpub\"],[\"Michigan\",\"brewpub\"],[\"Minnesota\",\"brewpub\"],[\"Mississippi\",\"brewpub\"],[\"Montana\",\"brewpub\"],[\"Nebraska\",\"brewpub\"],[\"Nevada\",\"brewpub\"],[\"New Hampshire\",\"brewpub\"],[\"New Jersey\",\"brewpub\"],[\"New Mexico\",\"brewpub\"],[\"New York\",\"brewpub\"],[\"North Carolina\",\"brewpub\"],[\"North Dakota\",\"brewpub\"],[\"Ohio\",\"brewpub\"],[\"Oklahoma\",\"brewpub\"],[\"Oregon\",\"brewpub\"],[\"Pennsylvania\",\"brewpub\"],[\"Rhode Island\",\"brewpub\"],[\"South Carolina\",\"brewpub\"],[\"South Dakota\",\"brewpub\"],[\"Tennessee\",\"brewpub\"],[\"Texas\",\"brewpub\"],[\"Vermont\",\"brewpub\"],[\"Virginia\",\"brewpub\"],[\"West Virginia\",\"brewpub\"],[\"Wisconsin\",\"brewpub\"],[\"Wyoming\",\"brewpub\"]],\"hovertemplate\":\"<b>%{hovertext}</b><br><br>brewery_type=%{customdata[1]}<br>latitude=%{lat}<br>longitude=%{lon}<br>state=%{customdata[0]}<extra></extra>\",\"hovertext\":[3.0,14.0,24.0,11.0,247.0,102.0,10.0,10.0,41.0,15.0,12.0,22.0,66.0,47.0,31.0,17.0,11.0,6.0,23.0,19.0,26.0,156.0,38.0,1.0,14.0,21.0,16.0,13.0,12.0,30.0,76.0,52.0,8.0,78.0,5.0,106.0,104.0,9.0,17.0,15.0,23.0,41.0,10.0,32.0,13.0,59.0,10.0],\"lat\":[32.806671,61.370716,33.729759,34.969704,36.116203,39.059811,41.597782,39.318523,27.766279,33.040619,21.094318,44.240459,40.349457,39.849426,42.011539,38.5266,37.66814,31.169546,44.693947,39.063946,42.230171,43.326618,45.694454,32.741646,46.921925,41.12537,38.313515,43.452492,40.298904,34.840515,42.165726,35.630066,47.528912,40.388783,35.565342,44.572021,40.590752,41.680893,33.856892,44.299782,35.747845,31.054487,44.045876,37.769337,38.491226,44.268543,42.755966],\"legendgroup\":\"brewpub\",\"lon\":[-86.79113,-152.404419,-111.431221,-92.373123,-119.681564,-105.311104,-72.755371,-75.507141,-81.686783,-83.643074,-157.498337,-114.478828,-88.986137,-86.258278,-93.210526,-96.726486,-84.670067,-91.867805,-69.381927,-76.802101,-71.530106,-84.536095,-93.900192,-89.678696,-110.454353,-98.268082,-117.055374,-71.563896,-74.521011,-106.248482,-74.948051,-79.806419,-99.784012,-82.764915,-96.928917,-122.070938,-77.209755,-71.51178,-80.945007,-99.438828,-86.692345,-97.563461,-72.710686,-78.169968,-80.954453,-89.616508,-107.30249],\"marker\":{\"color\":\"#636efa\"},\"mode\":\"markers\",\"name\":\"brewpub\",\"showlegend\":true,\"subplot\":\"mapbox\",\"type\":\"scattermapbox\"},{\"customdata\":[[\"Alabama\",\"contract\"],[\"Alaska\",\"contract\"],[\"Arizona\",\"contract\"],[\"Arkansas\",\"contract\"],[\"California\",\"contract\"],[\"Colorado\",\"contract\"],[\"Connecticut\",\"contract\"],[\"Florida\",\"contract\"],[\"Idaho\",\"contract\"],[\"Illinois\",\"contract\"],[\"Indiana\",\"contract\"],[\"Iowa\",\"contract\"],[\"Kentucky\",\"contract\"],[\"Maine\",\"contract\"],[\"Maryland\",\"contract\"],[\"Massachusetts\",\"contract\"],[\"Michigan\",\"contract\"],[\"Minnesota\",\"contract\"],[\"Mississippi\",\"contract\"],[\"New Jersey\",\"contract\"],[\"New Mexico\",\"contract\"],[\"New York\",\"contract\"],[\"North Carolina\",\"contract\"],[\"Ohio\",\"contract\"],[\"Oklahoma\",\"contract\"],[\"Oregon\",\"contract\"],[\"Pennsylvania\",\"contract\"],[\"South Carolina\",\"contract\"],[\"South Dakota\",\"contract\"],[\"Tennessee\",\"contract\"],[\"Texas\",\"contract\"],[\"Virginia\",\"contract\"],[\"Wisconsin\",\"contract\"]],\"hovertemplate\":\"<b>%{hovertext}</b><br><br>brewery_type=%{customdata[1]}<br>latitude=%{lat}<br>longitude=%{lon}<br>state=%{customdata[0]}<extra></extra>\",\"hovertext\":[1.0,1.0,3.0,1.0,25.0,7.0,4.0,4.0,1.0,4.0,1.0,1.0,1.0,1.0,1.0,7.0,2.0,3.0,1.0,2.0,1.0,7.0,1.0,4.0,4.0,3.0,3.0,1.0,1.0,1.0,3.0,4.0,12.0],\"lat\":[32.806671,61.370716,33.729759,34.969704,36.116203,39.059811,41.597782,27.766279,44.240459,40.349457,39.849426,42.011539,37.66814,44.693947,39.063946,42.230171,43.326618,45.694454,32.741646,40.298904,34.840515,42.165726,35.630066,40.388783,35.565342,44.572021,40.590752,33.856892,44.299782,35.747845,31.054487,37.769337,44.268543],\"legendgroup\":\"contract\",\"lon\":[-86.79113,-152.404419,-111.431221,-92.373123,-119.681564,-105.311104,-72.755371,-81.686783,-114.478828,-88.986137,-86.258278,-93.210526,-84.670067,-69.381927,-76.802101,-71.530106,-84.536095,-93.900192,-89.678696,-74.521011,-106.248482,-74.948051,-79.806419,-82.764915,-96.928917,-122.070938,-77.209755,-80.945007,-99.438828,-86.692345,-97.563461,-78.169968,-89.616508],\"marker\":{\"color\":\"#EF553B\"},\"mode\":\"markers\",\"name\":\"contract\",\"showlegend\":true,\"subplot\":\"mapbox\",\"type\":\"scattermapbox\"},{\"customdata\":[[\"Alabama\",\"micro\"],[\"Alaska\",\"micro\"],[\"Arizona\",\"micro\"],[\"Arkansas\",\"micro\"],[\"California\",\"micro\"],[\"Colorado\",\"micro\"],[\"Connecticut\",\"micro\"],[\"Delaware\",\"micro\"],[\"Florida\",\"micro\"],[\"Georgia\",\"micro\"],[\"Hawaii\",\"micro\"],[\"Idaho\",\"micro\"],[\"Illinois\",\"micro\"],[\"Indiana\",\"micro\"],[\"Iowa\",\"micro\"],[\"Kansas\",\"micro\"],[\"Kentucky\",\"micro\"],[\"Louisiana\",\"micro\"],[\"Maine\",\"micro\"],[\"Maryland\",\"micro\"],[\"Massachusetts\",\"micro\"],[\"Michigan\",\"micro\"],[\"Minnesota\",\"micro\"],[\"Mississippi\",\"micro\"],[\"Montana\",\"micro\"],[\"Nebraska\",\"micro\"],[\"Nevada\",\"micro\"],[\"New Hampshire\",\"micro\"],[\"New Jersey\",\"micro\"],[\"New Mexico\",\"micro\"],[\"New York\",\"micro\"],[\"North Carolina\",\"micro\"],[\"North Dakota\",\"micro\"],[\"Ohio\",\"micro\"],[\"Oklahoma\",\"micro\"],[\"Oregon\",\"micro\"],[\"Pennsylvania\",\"micro\"],[\"Rhode Island\",\"micro\"],[\"South Carolina\",\"micro\"],[\"South Dakota\",\"micro\"],[\"Tennessee\",\"micro\"],[\"Texas\",\"micro\"],[\"Vermont\",\"micro\"],[\"Virginia\",\"micro\"],[\"West Virginia\",\"micro\"],[\"Wisconsin\",\"micro\"],[\"Wyoming\",\"micro\"]],\"hovertemplate\":\"<b>%{hovertext}</b><br><br>brewery_type=%{customdata[1]}<br>latitude=%{lat}<br>longitude=%{lon}<br>state=%{customdata[0]}<extra></extra>\",\"hovertext\":[25.0,29.0,34.0,16.0,461.0,124.0,28.0,4.0,112.0,32.0,7.0,36.0,76.0,37.0,56.0,13.0,35.0,19.0,38.0,24.0,58.0,107.0,76.0,10.0,41.0,29.0,11.0,26.0,43.0,18.0,133.0,118.0,12.0,124.0,30.0,140.0,76.0,20.0,23.0,24.0,46.0,113.0,13.0,93.0,17.0,71.0,11.0],\"lat\":[32.806671,61.370716,33.729759,34.969704,36.116203,39.059811,41.597782,39.318523,27.766279,33.040619,21.094318,44.240459,40.349457,39.849426,42.011539,38.5266,37.66814,31.169546,44.693947,39.063946,42.230171,43.326618,45.694454,32.741646,46.921925,41.12537,38.313515,43.452492,40.298904,34.840515,42.165726,35.630066,47.528912,40.388783,35.565342,44.572021,40.590752,41.680893,33.856892,44.299782,35.747845,31.054487,44.045876,37.769337,38.491226,44.268543,42.755966],\"legendgroup\":\"micro\",\"lon\":[-86.79113,-152.404419,-111.431221,-92.373123,-119.681564,-105.311104,-72.755371,-75.507141,-81.686783,-83.643074,-157.498337,-114.478828,-88.986137,-86.258278,-93.210526,-96.726486,-84.670067,-91.867805,-69.381927,-76.802101,-71.530106,-84.536095,-93.900192,-89.678696,-110.454353,-98.268082,-117.055374,-71.563896,-74.521011,-106.248482,-74.948051,-79.806419,-99.784012,-82.764915,-96.928917,-122.070938,-77.209755,-71.51178,-80.945007,-99.438828,-86.692345,-97.563461,-72.710686,-78.169968,-80.954453,-89.616508,-107.30249],\"marker\":{\"color\":\"#00cc96\"},\"mode\":\"markers\",\"name\":\"micro\",\"showlegend\":true,\"subplot\":\"mapbox\",\"type\":\"scattermapbox\"},{\"customdata\":[[\"Alabama\",\"planning\"],[\"Alaska\",\"planning\"],[\"Arizona\",\"planning\"],[\"Arkansas\",\"planning\"],[\"California\",\"planning\"],[\"Colorado\",\"planning\"],[\"Oklahoma\",\"planning\"],[\"Oregon\",\"planning\"],[\"South Dakota\",\"planning\"]],\"hovertemplate\":\"<b>%{hovertext}</b><br><br>brewery_type=%{customdata[1]}<br>latitude=%{lat}<br>longitude=%{lon}<br>state=%{customdata[0]}<extra></extra>\",\"hovertext\":[8.0,2.0,13.0,4.0,67.0,5.0,1.0,6.0,1.0],\"lat\":[32.806671,61.370716,33.729759,34.969704,36.116203,39.059811,35.565342,44.572021,44.299782],\"legendgroup\":\"planning\",\"lon\":[-86.79113,-152.404419,-111.431221,-92.373123,-119.681564,-105.311104,-96.928917,-122.070938,-99.438828],\"marker\":{\"color\":\"#ab63fa\"},\"mode\":\"markers\",\"name\":\"planning\",\"showlegend\":true,\"subplot\":\"mapbox\",\"type\":\"scattermapbox\"},{\"customdata\":[[\"Alaska\",\"closed\"],[\"California\",\"closed\"],[\"Connecticut\",\"closed\"],[\"Hawaii\",\"closed\"],[\"Idaho\",\"closed\"],[\"Iowa\",\"closed\"],[\"Nebraska\",\"closed\"],[\"North Dakota\",\"closed\"],[\"Ohio\",\"closed\"],[\"Oklahoma\",\"closed\"],[\"Oregon\",\"closed\"],[\"South Carolina\",\"closed\"],[\"South Dakota\",\"closed\"],[\"Texas\",\"closed\"]],\"hovertemplate\":\"<b>%{hovertext}</b><br><br>brewery_type=%{customdata[1]}<br>latitude=%{lat}<br>longitude=%{lon}<br>state=%{customdata[0]}<extra></extra>\",\"hovertext\":[4.0,51.0,2.0,3.0,3.0,2.0,1.0,2.0,1.0,1.0,11.0,1.0,2.0,1.0],\"lat\":[61.370716,36.116203,41.597782,21.094318,44.240459,42.011539,41.12537,47.528912,40.388783,35.565342,44.572021,33.856892,44.299782,31.054487],\"legendgroup\":\"closed\",\"lon\":[-152.404419,-119.681564,-72.755371,-157.498337,-114.478828,-93.210526,-98.268082,-99.784012,-82.764915,-96.928917,-122.070938,-80.945007,-99.438828,-97.563461],\"marker\":{\"color\":\"#FFA15A\"},\"mode\":\"markers\",\"name\":\"closed\",\"showlegend\":true,\"subplot\":\"mapbox\",\"type\":\"scattermapbox\"},{\"customdata\":[[\"Alaska\",\"regional\"],[\"Arizona\",\"regional\"],[\"California\",\"regional\"],[\"Colorado\",\"regional\"],[\"Connecticut\",\"regional\"],[\"Delaware\",\"regional\"],[\"Florida\",\"regional\"],[\"Georgia\",\"regional\"],[\"Hawaii\",\"regional\"],[\"Illinois\",\"regional\"],[\"Indiana\",\"regional\"],[\"Kansas\",\"regional\"],[\"Kentucky\",\"regional\"],[\"Maine\",\"regional\"],[\"Maryland\",\"regional\"],[\"Massachusetts\",\"regional\"],[\"Michigan\",\"regional\"],[\"Minnesota\",\"regional\"],[\"Montana\",\"regional\"],[\"New Hampshire\",\"regional\"],[\"New Jersey\",\"regional\"],[\"New Mexico\",\"regional\"],[\"New York\",\"regional\"],[\"North Carolina\",\"regional\"],[\"Ohio\",\"regional\"],[\"Oregon\",\"regional\"],[\"Pennsylvania\",\"regional\"],[\"Rhode Island\",\"regional\"],[\"Tennessee\",\"regional\"],[\"Texas\",\"regional\"],[\"Vermont\",\"regional\"],[\"Virginia\",\"regional\"],[\"Wisconsin\",\"regional\"]],\"hovertemplate\":\"<b>%{hovertext}</b><br><br>brewery_type=%{customdata[1]}<br>latitude=%{lat}<br>longitude=%{lon}<br>state=%{customdata[0]}<extra></extra>\",\"hovertext\":[1.0,1.0,29.0,8.0,2.0,1.0,3.0,2.0,1.0,2.0,2.0,1.0,1.0,3.0,2.0,8.0,5.0,5.0,1.0,2.0,1.0,2.0,6.0,9.0,8.0,13.0,8.0,1.0,2.0,8.0,5.0,2.0,9.0],\"lat\":[61.370716,33.729759,36.116203,39.059811,41.597782,39.318523,27.766279,33.040619,21.094318,40.349457,39.849426,38.5266,37.66814,44.693947,39.063946,42.230171,43.326618,45.694454,46.921925,43.452492,40.298904,34.840515,42.165726,35.630066,40.388783,44.572021,40.590752,41.680893,35.747845,31.054487,44.045876,37.769337,44.268543],\"legendgroup\":\"regional\",\"lon\":[-152.404419,-111.431221,-119.681564,-105.311104,-72.755371,-75.507141,-81.686783,-83.643074,-157.498337,-88.986137,-86.258278,-96.726486,-84.670067,-69.381927,-76.802101,-71.530106,-84.536095,-93.900192,-110.454353,-71.563896,-74.521011,-106.248482,-74.948051,-79.806419,-82.764915,-122.070938,-77.209755,-71.51178,-86.692345,-97.563461,-72.710686,-78.169968,-89.616508],\"marker\":{\"color\":\"#19d3f3\"},\"mode\":\"markers\",\"name\":\"regional\",\"showlegend\":true,\"subplot\":\"mapbox\",\"type\":\"scattermapbox\"},{\"customdata\":[[\"Arizona\",\"large\"],[\"California\",\"large\"],[\"Colorado\",\"large\"],[\"Florida\",\"large\"],[\"Georgia\",\"large\"],[\"Idaho\",\"large\"],[\"Illinois\",\"large\"],[\"Maryland\",\"large\"],[\"New Hampshire\",\"large\"],[\"New York\",\"large\"],[\"North Carolina\",\"large\"],[\"Ohio\",\"large\"],[\"Oregon\",\"large\"],[\"Texas\",\"large\"],[\"Virginia\",\"large\"],[\"Wisconsin\",\"large\"]],\"hovertemplate\":\"<b>%{hovertext}</b><br><br>brewery_type=%{customdata[1]}<br>latitude=%{lat}<br>longitude=%{lon}<br>state=%{customdata[0]}<extra></extra>\",\"hovertext\":[1.0,15.0,6.0,3.0,2.0,1.0,2.0,1.0,1.0,3.0,3.0,2.0,6.0,3.0,3.0,4.0],\"lat\":[33.729759,36.116203,39.059811,27.766279,33.040619,44.240459,40.349457,39.063946,43.452492,42.165726,35.630066,40.388783,44.572021,31.054487,37.769337,44.268543],\"legendgroup\":\"large\",\"lon\":[-111.431221,-119.681564,-105.311104,-81.686783,-83.643074,-114.478828,-88.986137,-76.802101,-71.563896,-74.948051,-79.806419,-82.764915,-122.070938,-97.563461,-78.169968,-89.616508],\"marker\":{\"color\":\"#FF6692\"},\"mode\":\"markers\",\"name\":\"large\",\"showlegend\":true,\"subplot\":\"mapbox\",\"type\":\"scattermapbox\"},{\"customdata\":[[\"California\",\"proprietor\"],[\"Colorado\",\"proprietor\"],[\"Florida\",\"proprietor\"],[\"Georgia\",\"proprietor\"],[\"Idaho\",\"proprietor\"],[\"Illinois\",\"proprietor\"],[\"Maine\",\"proprietor\"],[\"Maryland\",\"proprietor\"],[\"Massachusetts\",\"proprietor\"],[\"Minnesota\",\"proprietor\"],[\"New Mexico\",\"proprietor\"],[\"New York\",\"proprietor\"],[\"North Carolina\",\"proprietor\"],[\"Oregon\",\"proprietor\"],[\"Pennsylvania\",\"proprietor\"],[\"Rhode Island\",\"proprietor\"],[\"South Dakota\",\"proprietor\"],[\"West Virginia\",\"proprietor\"],[\"Wisconsin\",\"proprietor\"]],\"hovertemplate\":\"<b>%{hovertext}</b><br><br>brewery_type=%{customdata[1]}<br>latitude=%{lat}<br>longitude=%{lon}<br>state=%{customdata[0]}<extra></extra>\",\"hovertext\":[13.0,1.0,3.0,1.0,1.0,3.0,1.0,1.0,1.0,2.0,1.0,6.0,2.0,2.0,1.0,1.0,1.0,1.0,2.0],\"lat\":[36.116203,39.059811,27.766279,33.040619,44.240459,40.349457,44.693947,39.063946,42.230171,45.694454,34.840515,42.165726,35.630066,44.572021,40.590752,41.680893,44.299782,38.491226,44.268543],\"legendgroup\":\"proprietor\",\"lon\":[-119.681564,-105.311104,-81.686783,-83.643074,-114.478828,-88.986137,-69.381927,-76.802101,-71.530106,-93.900192,-106.248482,-74.948051,-79.806419,-122.070938,-77.209755,-71.51178,-99.438828,-80.954453,-89.616508],\"marker\":{\"color\":\"#B6E880\"},\"mode\":\"markers\",\"name\":\"proprietor\",\"showlegend\":true,\"subplot\":\"mapbox\",\"type\":\"scattermapbox\"},{\"customdata\":[[\"Nevada\",\"bar\"],[\"North Dakota\",\"bar\"]],\"hovertemplate\":\"<b>%{hovertext}</b><br><br>brewery_type=%{customdata[1]}<br>latitude=%{lat}<br>longitude=%{lon}<br>state=%{customdata[0]}<extra></extra>\",\"hovertext\":[1.0,1.0],\"lat\":[38.313515,47.528912],\"legendgroup\":\"bar\",\"lon\":[-117.055374,-99.784012],\"marker\":{\"color\":\"#FF97FF\"},\"mode\":\"markers\",\"name\":\"bar\",\"showlegend\":true,\"subplot\":\"mapbox\",\"type\":\"scattermapbox\"},{\"customdata\":[[\"North Dakota\",\"nano\"],[\"Wisconsin\",\"nano\"]],\"hovertemplate\":\"<b>%{hovertext}</b><br><br>brewery_type=%{customdata[1]}<br>latitude=%{lat}<br>longitude=%{lon}<br>state=%{customdata[0]}<extra></extra>\",\"hovertext\":[2.0,1.0],\"lat\":[47.528912,44.268543],\"legendgroup\":\"nano\",\"lon\":[-99.784012,-89.616508],\"marker\":{\"color\":\"#FECB52\"},\"mode\":\"markers\",\"name\":\"nano\",\"showlegend\":true,\"subplot\":\"mapbox\",\"type\":\"scattermapbox\"}],                        {\"template\":{\"data\":{\"histogram2dcontour\":[{\"type\":\"histogram2dcontour\",\"colorbar\":{\"outlinewidth\":0,\"ticks\":\"\"},\"colorscale\":[[0.0,\"#0d0887\"],[0.1111111111111111,\"#46039f\"],[0.2222222222222222,\"#7201a8\"],[0.3333333333333333,\"#9c179e\"],[0.4444444444444444,\"#bd3786\"],[0.5555555555555556,\"#d8576b\"],[0.6666666666666666,\"#ed7953\"],[0.7777777777777778,\"#fb9f3a\"],[0.8888888888888888,\"#fdca26\"],[1.0,\"#f0f921\"]]}],\"choropleth\":[{\"type\":\"choropleth\",\"colorbar\":{\"outlinewidth\":0,\"ticks\":\"\"}}],\"histogram2d\":[{\"type\":\"histogram2d\",\"colorbar\":{\"outlinewidth\":0,\"ticks\":\"\"},\"colorscale\":[[0.0,\"#0d0887\"],[0.1111111111111111,\"#46039f\"],[0.2222222222222222,\"#7201a8\"],[0.3333333333333333,\"#9c179e\"],[0.4444444444444444,\"#bd3786\"],[0.5555555555555556,\"#d8576b\"],[0.6666666666666666,\"#ed7953\"],[0.7777777777777778,\"#fb9f3a\"],[0.8888888888888888,\"#fdca26\"],[1.0,\"#f0f921\"]]}],\"heatmap\":[{\"type\":\"heatmap\",\"colorbar\":{\"outlinewidth\":0,\"ticks\":\"\"},\"colorscale\":[[0.0,\"#0d0887\"],[0.1111111111111111,\"#46039f\"],[0.2222222222222222,\"#7201a8\"],[0.3333333333333333,\"#9c179e\"],[0.4444444444444444,\"#bd3786\"],[0.5555555555555556,\"#d8576b\"],[0.6666666666666666,\"#ed7953\"],[0.7777777777777778,\"#fb9f3a\"],[0.8888888888888888,\"#fdca26\"],[1.0,\"#f0f921\"]]}],\"heatmapgl\":[{\"type\":\"heatmapgl\",\"colorbar\":{\"outlinewidth\":0,\"ticks\":\"\"},\"colorscale\":[[0.0,\"#0d0887\"],[0.1111111111111111,\"#46039f\"],[0.2222222222222222,\"#7201a8\"],[0.3333333333333333,\"#9c179e\"],[0.4444444444444444,\"#bd3786\"],[0.5555555555555556,\"#d8576b\"],[0.6666666666666666,\"#ed7953\"],[0.7777777777777778,\"#fb9f3a\"],[0.8888888888888888,\"#fdca26\"],[1.0,\"#f0f921\"]]}],\"contourcarpet\":[{\"type\":\"contourcarpet\",\"colorbar\":{\"outlinewidth\":0,\"ticks\":\"\"}}],\"contour\":[{\"type\":\"contour\",\"colorbar\":{\"outlinewidth\":0,\"ticks\":\"\"},\"colorscale\":[[0.0,\"#0d0887\"],[0.1111111111111111,\"#46039f\"],[0.2222222222222222,\"#7201a8\"],[0.3333333333333333,\"#9c179e\"],[0.4444444444444444,\"#bd3786\"],[0.5555555555555556,\"#d8576b\"],[0.6666666666666666,\"#ed7953\"],[0.7777777777777778,\"#fb9f3a\"],[0.8888888888888888,\"#fdca26\"],[1.0,\"#f0f921\"]]}],\"surface\":[{\"type\":\"surface\",\"colorbar\":{\"outlinewidth\":0,\"ticks\":\"\"},\"colorscale\":[[0.0,\"#0d0887\"],[0.1111111111111111,\"#46039f\"],[0.2222222222222222,\"#7201a8\"],[0.3333333333333333,\"#9c179e\"],[0.4444444444444444,\"#bd3786\"],[0.5555555555555556,\"#d8576b\"],[0.6666666666666666,\"#ed7953\"],[0.7777777777777778,\"#fb9f3a\"],[0.8888888888888888,\"#fdca26\"],[1.0,\"#f0f921\"]]}],\"mesh3d\":[{\"type\":\"mesh3d\",\"colorbar\":{\"outlinewidth\":0,\"ticks\":\"\"}}],\"scatter\":[{\"fillpattern\":{\"fillmode\":\"overlay\",\"size\":10,\"solidity\":0.2},\"type\":\"scatter\"}],\"parcoords\":[{\"type\":\"parcoords\",\"line\":{\"colorbar\":{\"outlinewidth\":0,\"ticks\":\"\"}}}],\"scatterpolargl\":[{\"type\":\"scatterpolargl\",\"marker\":{\"colorbar\":{\"outlinewidth\":0,\"ticks\":\"\"}}}],\"bar\":[{\"error_x\":{\"color\":\"#2a3f5f\"},\"error_y\":{\"color\":\"#2a3f5f\"},\"marker\":{\"line\":{\"color\":\"#E5ECF6\",\"width\":0.5},\"pattern\":{\"fillmode\":\"overlay\",\"size\":10,\"solidity\":0.2}},\"type\":\"bar\"}],\"scattergeo\":[{\"type\":\"scattergeo\",\"marker\":{\"colorbar\":{\"outlinewidth\":0,\"ticks\":\"\"}}}],\"scatterpolar\":[{\"type\":\"scatterpolar\",\"marker\":{\"colorbar\":{\"outlinewidth\":0,\"ticks\":\"\"}}}],\"histogram\":[{\"marker\":{\"pattern\":{\"fillmode\":\"overlay\",\"size\":10,\"solidity\":0.2}},\"type\":\"histogram\"}],\"scattergl\":[{\"type\":\"scattergl\",\"marker\":{\"colorbar\":{\"outlinewidth\":0,\"ticks\":\"\"}}}],\"scatter3d\":[{\"type\":\"scatter3d\",\"line\":{\"colorbar\":{\"outlinewidth\":0,\"ticks\":\"\"}},\"marker\":{\"colorbar\":{\"outlinewidth\":0,\"ticks\":\"\"}}}],\"scattermapbox\":[{\"type\":\"scattermapbox\",\"marker\":{\"colorbar\":{\"outlinewidth\":0,\"ticks\":\"\"}}}],\"scatterternary\":[{\"type\":\"scatterternary\",\"marker\":{\"colorbar\":{\"outlinewidth\":0,\"ticks\":\"\"}}}],\"scattercarpet\":[{\"type\":\"scattercarpet\",\"marker\":{\"colorbar\":{\"outlinewidth\":0,\"ticks\":\"\"}}}],\"carpet\":[{\"aaxis\":{\"endlinecolor\":\"#2a3f5f\",\"gridcolor\":\"white\",\"linecolor\":\"white\",\"minorgridcolor\":\"white\",\"startlinecolor\":\"#2a3f5f\"},\"baxis\":{\"endlinecolor\":\"#2a3f5f\",\"gridcolor\":\"white\",\"linecolor\":\"white\",\"minorgridcolor\":\"white\",\"startlinecolor\":\"#2a3f5f\"},\"type\":\"carpet\"}],\"table\":[{\"cells\":{\"fill\":{\"color\":\"#EBF0F8\"},\"line\":{\"color\":\"white\"}},\"header\":{\"fill\":{\"color\":\"#C8D4E3\"},\"line\":{\"color\":\"white\"}},\"type\":\"table\"}],\"barpolar\":[{\"marker\":{\"line\":{\"color\":\"#E5ECF6\",\"width\":0.5},\"pattern\":{\"fillmode\":\"overlay\",\"size\":10,\"solidity\":0.2}},\"type\":\"barpolar\"}],\"pie\":[{\"automargin\":true,\"type\":\"pie\"}]},\"layout\":{\"autotypenumbers\":\"strict\",\"colorway\":[\"#636efa\",\"#EF553B\",\"#00cc96\",\"#ab63fa\",\"#FFA15A\",\"#19d3f3\",\"#FF6692\",\"#B6E880\",\"#FF97FF\",\"#FECB52\"],\"font\":{\"color\":\"#2a3f5f\"},\"hovermode\":\"closest\",\"hoverlabel\":{\"align\":\"left\"},\"paper_bgcolor\":\"white\",\"plot_bgcolor\":\"#E5ECF6\",\"polar\":{\"bgcolor\":\"#E5ECF6\",\"angularaxis\":{\"gridcolor\":\"white\",\"linecolor\":\"white\",\"ticks\":\"\"},\"radialaxis\":{\"gridcolor\":\"white\",\"linecolor\":\"white\",\"ticks\":\"\"}},\"ternary\":{\"bgcolor\":\"#E5ECF6\",\"aaxis\":{\"gridcolor\":\"white\",\"linecolor\":\"white\",\"ticks\":\"\"},\"baxis\":{\"gridcolor\":\"white\",\"linecolor\":\"white\",\"ticks\":\"\"},\"caxis\":{\"gridcolor\":\"white\",\"linecolor\":\"white\",\"ticks\":\"\"}},\"coloraxis\":{\"colorbar\":{\"outlinewidth\":0,\"ticks\":\"\"}},\"colorscale\":{\"sequential\":[[0.0,\"#0d0887\"],[0.1111111111111111,\"#46039f\"],[0.2222222222222222,\"#7201a8\"],[0.3333333333333333,\"#9c179e\"],[0.4444444444444444,\"#bd3786\"],[0.5555555555555556,\"#d8576b\"],[0.6666666666666666,\"#ed7953\"],[0.7777777777777778,\"#fb9f3a\"],[0.8888888888888888,\"#fdca26\"],[1.0,\"#f0f921\"]],\"sequentialminus\":[[0.0,\"#0d0887\"],[0.1111111111111111,\"#46039f\"],[0.2222222222222222,\"#7201a8\"],[0.3333333333333333,\"#9c179e\"],[0.4444444444444444,\"#bd3786\"],[0.5555555555555556,\"#d8576b\"],[0.6666666666666666,\"#ed7953\"],[0.7777777777777778,\"#fb9f3a\"],[0.8888888888888888,\"#fdca26\"],[1.0,\"#f0f921\"]],\"diverging\":[[0,\"#8e0152\"],[0.1,\"#c51b7d\"],[0.2,\"#de77ae\"],[0.3,\"#f1b6da\"],[0.4,\"#fde0ef\"],[0.5,\"#f7f7f7\"],[0.6,\"#e6f5d0\"],[0.7,\"#b8e186\"],[0.8,\"#7fbc41\"],[0.9,\"#4d9221\"],[1,\"#276419\"]]},\"xaxis\":{\"gridcolor\":\"white\",\"linecolor\":\"white\",\"ticks\":\"\",\"title\":{\"standoff\":15},\"zerolinecolor\":\"white\",\"automargin\":true,\"zerolinewidth\":2},\"yaxis\":{\"gridcolor\":\"white\",\"linecolor\":\"white\",\"ticks\":\"\",\"title\":{\"standoff\":15},\"zerolinecolor\":\"white\",\"automargin\":true,\"zerolinewidth\":2},\"scene\":{\"xaxis\":{\"backgroundcolor\":\"#E5ECF6\",\"gridcolor\":\"white\",\"linecolor\":\"white\",\"showbackground\":true,\"ticks\":\"\",\"zerolinecolor\":\"white\",\"gridwidth\":2},\"yaxis\":{\"backgroundcolor\":\"#E5ECF6\",\"gridcolor\":\"white\",\"linecolor\":\"white\",\"showbackground\":true,\"ticks\":\"\",\"zerolinecolor\":\"white\",\"gridwidth\":2},\"zaxis\":{\"backgroundcolor\":\"#E5ECF6\",\"gridcolor\":\"white\",\"linecolor\":\"white\",\"showbackground\":true,\"ticks\":\"\",\"zerolinecolor\":\"white\",\"gridwidth\":2}},\"shapedefaults\":{\"line\":{\"color\":\"#2a3f5f\"}},\"annotationdefaults\":{\"arrowcolor\":\"#2a3f5f\",\"arrowhead\":0,\"arrowwidth\":1},\"geo\":{\"bgcolor\":\"white\",\"landcolor\":\"#E5ECF6\",\"subunitcolor\":\"white\",\"showland\":true,\"showlakes\":true,\"lakecolor\":\"white\"},\"title\":{\"x\":0.05},\"mapbox\":{\"style\":\"light\"}}},\"mapbox\":{\"domain\":{\"x\":[0.0,1.0],\"y\":[0.0,1.0]},\"center\":{\"lat\":39.550806396396396,\"lon\":-93.75149586036034},\"zoom\":3,\"style\":\"carto-positron\"},\"legend\":{\"title\":{\"text\":\"brewery_type\"},\"tracegroupgap\":0},\"title\":{\"text\":\"Breweries by State and Type\"}},                        {\"responsive\": true}                    ).then(function(){\n",
       "                            \n",
       "var gd = document.getElementById('70040fcb-4aba-4d19-919a-61205a52bf76');\n",
       "var x = new MutationObserver(function (mutations, observer) {{\n",
       "        var display = window.getComputedStyle(gd).display;\n",
       "        if (!display || display === 'none') {{\n",
       "            console.log([gd, 'removed!']);\n",
       "            Plotly.purge(gd);\n",
       "            observer.disconnect();\n",
       "        }}\n",
       "}});\n",
       "\n",
       "// Listen for the removal of the full notebook cells\n",
       "var notebookContainer = gd.closest('#notebook-container');\n",
       "if (notebookContainer) {{\n",
       "    x.observe(notebookContainer, {childList: true});\n",
       "}}\n",
       "\n",
       "// Listen for the clearing of the current output cell\n",
       "var outputEl = gd.closest('.output');\n",
       "if (outputEl) {{\n",
       "    x.observe(outputEl, {childList: true});\n",
       "}}\n",
       "\n",
       "                        })                };                });            </script>        </div>"
      ]
     },
     "metadata": {},
     "output_type": "display_data"
    }
   ],
   "source": [
    "\n",
    "fig = px.scatter_mapbox(grouped_data, lat='latitude', lon='longitude', hover_name='name',\n",
    "                        hover_data={'state': True, 'brewery_type': True},\n",
    "                        color='brewery_type', zoom=3, mapbox_style='carto-positron',\n",
    "                        title='Breweries by State and Type')\n",
    "fig.show()"
   ]
  },
  {
   "cell_type": "code",
   "execution_count": 138,
   "id": "52e9bc0e-4aac-4717-8094-497cd8979f7c",
   "metadata": {},
   "outputs": [
    {
     "data": {
      "application/vnd.plotly.v1+json": {
       "config": {
        "plotlyServerURL": "https://plot.ly"
       },
       "data": [
        {
         "customdata": [
          [
           "Alabama",
           "brewpub",
           3
          ],
          [
           "Alaska",
           "brewpub",
           14
          ],
          [
           "Arizona",
           "brewpub",
           24
          ],
          [
           "Arkansas",
           "brewpub",
           11
          ],
          [
           "California",
           "brewpub",
           247
          ],
          [
           "Colorado",
           "brewpub",
           102
          ],
          [
           "Connecticut",
           "brewpub",
           10
          ],
          [
           "Delaware",
           "brewpub",
           10
          ],
          [
           "Florida",
           "brewpub",
           41
          ],
          [
           "Georgia",
           "brewpub",
           15
          ],
          [
           "Hawaii",
           "brewpub",
           12
          ],
          [
           "Idaho",
           "brewpub",
           22
          ],
          [
           "Illinois",
           "brewpub",
           66
          ],
          [
           "Indiana",
           "brewpub",
           47
          ],
          [
           "Iowa",
           "brewpub",
           31
          ],
          [
           "Kansas",
           "brewpub",
           17
          ],
          [
           "Kentucky",
           "brewpub",
           11
          ],
          [
           "Louisiana",
           "brewpub",
           6
          ],
          [
           "Maine",
           "brewpub",
           23
          ],
          [
           "Maryland",
           "brewpub",
           19
          ],
          [
           "Massachusetts",
           "brewpub",
           26
          ],
          [
           "Michigan",
           "brewpub",
           156
          ],
          [
           "Minnesota",
           "brewpub",
           38
          ],
          [
           "Mississippi",
           "brewpub",
           1
          ],
          [
           "Montana",
           "brewpub",
           14
          ],
          [
           "Nebraska",
           "brewpub",
           21
          ],
          [
           "Nevada",
           "brewpub",
           16
          ],
          [
           "New Hampshire",
           "brewpub",
           13
          ],
          [
           "New Jersey",
           "brewpub",
           12
          ],
          [
           "New Mexico",
           "brewpub",
           30
          ],
          [
           "New York",
           "brewpub",
           76
          ],
          [
           "North Carolina",
           "brewpub",
           52
          ],
          [
           "North Dakota",
           "brewpub",
           8
          ],
          [
           "Ohio",
           "brewpub",
           78
          ],
          [
           "Oklahoma",
           "brewpub",
           5
          ],
          [
           "Oregon",
           "brewpub",
           106
          ],
          [
           "Pennsylvania",
           "brewpub",
           104
          ],
          [
           "Rhode Island",
           "brewpub",
           9
          ],
          [
           "South Carolina",
           "brewpub",
           17
          ],
          [
           "South Dakota",
           "brewpub",
           15
          ],
          [
           "Tennessee",
           "brewpub",
           23
          ],
          [
           "Texas",
           "brewpub",
           41
          ],
          [
           "Vermont",
           "brewpub",
           10
          ],
          [
           "Virginia",
           "brewpub",
           32
          ],
          [
           "West Virginia",
           "brewpub",
           13
          ],
          [
           "Wisconsin",
           "brewpub",
           59
          ],
          [
           "Wyoming",
           "brewpub",
           10
          ]
         ],
         "hovertemplate": "<b>%{hovertext}</b><br><br>brewery_type=%{customdata[1]}<br>latitude=%{lat}<br>longitude=%{lon}<br>state=%{customdata[0]}<br>name=%{customdata[2]}<extra></extra>",
         "hovertext": [
          "Alabama",
          "Alaska",
          "Arizona",
          "Arkansas",
          "California",
          "Colorado",
          "Connecticut",
          "Delaware",
          "Florida",
          "Georgia",
          "Hawaii",
          "Idaho",
          "Illinois",
          "Indiana",
          "Iowa",
          "Kansas",
          "Kentucky",
          "Louisiana",
          "Maine",
          "Maryland",
          "Massachusetts",
          "Michigan",
          "Minnesota",
          "Mississippi",
          "Montana",
          "Nebraska",
          "Nevada",
          "New Hampshire",
          "New Jersey",
          "New Mexico",
          "New York",
          "North Carolina",
          "North Dakota",
          "Ohio",
          "Oklahoma",
          "Oregon",
          "Pennsylvania",
          "Rhode Island",
          "South Carolina",
          "South Dakota",
          "Tennessee",
          "Texas",
          "Vermont",
          "Virginia",
          "West Virginia",
          "Wisconsin",
          "Wyoming"
         ],
         "lat": [
          32.806671,
          61.370716,
          33.729759,
          34.969704,
          36.116203,
          39.059811,
          41.597782,
          39.318523,
          27.766279,
          33.040619,
          21.094318,
          44.240459,
          40.349457,
          39.849426,
          42.011539,
          38.5266,
          37.66814,
          31.169546,
          44.693947,
          39.063946,
          42.230171,
          43.326618,
          45.694454,
          32.741646,
          46.921925,
          41.12537,
          38.313515,
          43.452492,
          40.298904,
          34.840515,
          42.165726,
          35.630066,
          47.528912,
          40.388783,
          35.565342,
          44.572021,
          40.590752,
          41.680893,
          33.856892,
          44.299782,
          35.747845,
          31.054487,
          44.045876,
          37.769337,
          38.491226,
          44.268543,
          42.755966
         ],
         "legendgroup": "brewpub",
         "lon": [
          -86.79113,
          -152.404419,
          -111.431221,
          -92.373123,
          -119.681564,
          -105.311104,
          -72.755371,
          -75.507141,
          -81.686783,
          -83.643074,
          -157.498337,
          -114.478828,
          -88.986137,
          -86.258278,
          -93.210526,
          -96.726486,
          -84.670067,
          -91.867805,
          -69.381927,
          -76.802101,
          -71.530106,
          -84.536095,
          -93.900192,
          -89.678696,
          -110.454353,
          -98.268082,
          -117.055374,
          -71.563896,
          -74.521011,
          -106.248482,
          -74.948051,
          -79.806419,
          -99.784012,
          -82.764915,
          -96.928917,
          -122.070938,
          -77.209755,
          -71.51178,
          -80.945007,
          -99.438828,
          -86.692345,
          -97.563461,
          -72.710686,
          -78.169968,
          -80.954453,
          -89.616508,
          -107.30249
         ],
         "marker": {
          "color": "#636efa"
         },
         "mode": "markers",
         "name": "brewpub",
         "showlegend": true,
         "subplot": "mapbox",
         "type": "scattermapbox"
        },
        {
         "customdata": [
          [
           "Alabama",
           "contract",
           1
          ],
          [
           "Alaska",
           "contract",
           1
          ],
          [
           "Arizona",
           "contract",
           3
          ],
          [
           "Arkansas",
           "contract",
           1
          ],
          [
           "California",
           "contract",
           25
          ],
          [
           "Colorado",
           "contract",
           7
          ],
          [
           "Connecticut",
           "contract",
           4
          ],
          [
           "Florida",
           "contract",
           4
          ],
          [
           "Idaho",
           "contract",
           1
          ],
          [
           "Illinois",
           "contract",
           4
          ],
          [
           "Indiana",
           "contract",
           1
          ],
          [
           "Iowa",
           "contract",
           1
          ],
          [
           "Kentucky",
           "contract",
           1
          ],
          [
           "Maine",
           "contract",
           1
          ],
          [
           "Maryland",
           "contract",
           1
          ],
          [
           "Massachusetts",
           "contract",
           7
          ],
          [
           "Michigan",
           "contract",
           2
          ],
          [
           "Minnesota",
           "contract",
           3
          ],
          [
           "Mississippi",
           "contract",
           1
          ],
          [
           "New Jersey",
           "contract",
           2
          ],
          [
           "New Mexico",
           "contract",
           1
          ],
          [
           "New York",
           "contract",
           7
          ],
          [
           "North Carolina",
           "contract",
           1
          ],
          [
           "Ohio",
           "contract",
           4
          ],
          [
           "Oklahoma",
           "contract",
           4
          ],
          [
           "Oregon",
           "contract",
           3
          ],
          [
           "Pennsylvania",
           "contract",
           3
          ],
          [
           "South Carolina",
           "contract",
           1
          ],
          [
           "South Dakota",
           "contract",
           1
          ],
          [
           "Tennessee",
           "contract",
           1
          ],
          [
           "Texas",
           "contract",
           3
          ],
          [
           "Virginia",
           "contract",
           4
          ],
          [
           "Wisconsin",
           "contract",
           12
          ]
         ],
         "hovertemplate": "<b>%{hovertext}</b><br><br>brewery_type=%{customdata[1]}<br>latitude=%{lat}<br>longitude=%{lon}<br>state=%{customdata[0]}<br>name=%{customdata[2]}<extra></extra>",
         "hovertext": [
          "Alabama",
          "Alaska",
          "Arizona",
          "Arkansas",
          "California",
          "Colorado",
          "Connecticut",
          "Florida",
          "Idaho",
          "Illinois",
          "Indiana",
          "Iowa",
          "Kentucky",
          "Maine",
          "Maryland",
          "Massachusetts",
          "Michigan",
          "Minnesota",
          "Mississippi",
          "New Jersey",
          "New Mexico",
          "New York",
          "North Carolina",
          "Ohio",
          "Oklahoma",
          "Oregon",
          "Pennsylvania",
          "South Carolina",
          "South Dakota",
          "Tennessee",
          "Texas",
          "Virginia",
          "Wisconsin"
         ],
         "lat": [
          32.806671,
          61.370716,
          33.729759,
          34.969704,
          36.116203,
          39.059811,
          41.597782,
          27.766279,
          44.240459,
          40.349457,
          39.849426,
          42.011539,
          37.66814,
          44.693947,
          39.063946,
          42.230171,
          43.326618,
          45.694454,
          32.741646,
          40.298904,
          34.840515,
          42.165726,
          35.630066,
          40.388783,
          35.565342,
          44.572021,
          40.590752,
          33.856892,
          44.299782,
          35.747845,
          31.054487,
          37.769337,
          44.268543
         ],
         "legendgroup": "contract",
         "lon": [
          -86.79113,
          -152.404419,
          -111.431221,
          -92.373123,
          -119.681564,
          -105.311104,
          -72.755371,
          -81.686783,
          -114.478828,
          -88.986137,
          -86.258278,
          -93.210526,
          -84.670067,
          -69.381927,
          -76.802101,
          -71.530106,
          -84.536095,
          -93.900192,
          -89.678696,
          -74.521011,
          -106.248482,
          -74.948051,
          -79.806419,
          -82.764915,
          -96.928917,
          -122.070938,
          -77.209755,
          -80.945007,
          -99.438828,
          -86.692345,
          -97.563461,
          -78.169968,
          -89.616508
         ],
         "marker": {
          "color": "#EF553B"
         },
         "mode": "markers",
         "name": "contract",
         "showlegend": true,
         "subplot": "mapbox",
         "type": "scattermapbox"
        },
        {
         "customdata": [
          [
           "Alabama",
           "micro",
           25
          ],
          [
           "Alaska",
           "micro",
           29
          ],
          [
           "Arizona",
           "micro",
           34
          ],
          [
           "Arkansas",
           "micro",
           16
          ],
          [
           "California",
           "micro",
           461
          ],
          [
           "Colorado",
           "micro",
           124
          ],
          [
           "Connecticut",
           "micro",
           28
          ],
          [
           "Delaware",
           "micro",
           4
          ],
          [
           "Florida",
           "micro",
           112
          ],
          [
           "Georgia",
           "micro",
           32
          ],
          [
           "Hawaii",
           "micro",
           7
          ],
          [
           "Idaho",
           "micro",
           36
          ],
          [
           "Illinois",
           "micro",
           76
          ],
          [
           "Indiana",
           "micro",
           37
          ],
          [
           "Iowa",
           "micro",
           56
          ],
          [
           "Kansas",
           "micro",
           13
          ],
          [
           "Kentucky",
           "micro",
           35
          ],
          [
           "Louisiana",
           "micro",
           19
          ],
          [
           "Maine",
           "micro",
           38
          ],
          [
           "Maryland",
           "micro",
           24
          ],
          [
           "Massachusetts",
           "micro",
           58
          ],
          [
           "Michigan",
           "micro",
           107
          ],
          [
           "Minnesota",
           "micro",
           76
          ],
          [
           "Mississippi",
           "micro",
           10
          ],
          [
           "Montana",
           "micro",
           41
          ],
          [
           "Nebraska",
           "micro",
           29
          ],
          [
           "Nevada",
           "micro",
           11
          ],
          [
           "New Hampshire",
           "micro",
           26
          ],
          [
           "New Jersey",
           "micro",
           43
          ],
          [
           "New Mexico",
           "micro",
           18
          ],
          [
           "New York",
           "micro",
           133
          ],
          [
           "North Carolina",
           "micro",
           118
          ],
          [
           "North Dakota",
           "micro",
           12
          ],
          [
           "Ohio",
           "micro",
           124
          ],
          [
           "Oklahoma",
           "micro",
           30
          ],
          [
           "Oregon",
           "micro",
           140
          ],
          [
           "Pennsylvania",
           "micro",
           76
          ],
          [
           "Rhode Island",
           "micro",
           20
          ],
          [
           "South Carolina",
           "micro",
           23
          ],
          [
           "South Dakota",
           "micro",
           24
          ],
          [
           "Tennessee",
           "micro",
           46
          ],
          [
           "Texas",
           "micro",
           113
          ],
          [
           "Vermont",
           "micro",
           13
          ],
          [
           "Virginia",
           "micro",
           93
          ],
          [
           "West Virginia",
           "micro",
           17
          ],
          [
           "Wisconsin",
           "micro",
           71
          ],
          [
           "Wyoming",
           "micro",
           11
          ]
         ],
         "hovertemplate": "<b>%{hovertext}</b><br><br>brewery_type=%{customdata[1]}<br>latitude=%{lat}<br>longitude=%{lon}<br>state=%{customdata[0]}<br>name=%{customdata[2]}<extra></extra>",
         "hovertext": [
          "Alabama",
          "Alaska",
          "Arizona",
          "Arkansas",
          "California",
          "Colorado",
          "Connecticut",
          "Delaware",
          "Florida",
          "Georgia",
          "Hawaii",
          "Idaho",
          "Illinois",
          "Indiana",
          "Iowa",
          "Kansas",
          "Kentucky",
          "Louisiana",
          "Maine",
          "Maryland",
          "Massachusetts",
          "Michigan",
          "Minnesota",
          "Mississippi",
          "Montana",
          "Nebraska",
          "Nevada",
          "New Hampshire",
          "New Jersey",
          "New Mexico",
          "New York",
          "North Carolina",
          "North Dakota",
          "Ohio",
          "Oklahoma",
          "Oregon",
          "Pennsylvania",
          "Rhode Island",
          "South Carolina",
          "South Dakota",
          "Tennessee",
          "Texas",
          "Vermont",
          "Virginia",
          "West Virginia",
          "Wisconsin",
          "Wyoming"
         ],
         "lat": [
          32.806671,
          61.370716,
          33.729759,
          34.969704,
          36.116203,
          39.059811,
          41.597782,
          39.318523,
          27.766279,
          33.040619,
          21.094318,
          44.240459,
          40.349457,
          39.849426,
          42.011539,
          38.5266,
          37.66814,
          31.169546,
          44.693947,
          39.063946,
          42.230171,
          43.326618,
          45.694454,
          32.741646,
          46.921925,
          41.12537,
          38.313515,
          43.452492,
          40.298904,
          34.840515,
          42.165726,
          35.630066,
          47.528912,
          40.388783,
          35.565342,
          44.572021,
          40.590752,
          41.680893,
          33.856892,
          44.299782,
          35.747845,
          31.054487,
          44.045876,
          37.769337,
          38.491226,
          44.268543,
          42.755966
         ],
         "legendgroup": "micro",
         "lon": [
          -86.79113,
          -152.404419,
          -111.431221,
          -92.373123,
          -119.681564,
          -105.311104,
          -72.755371,
          -75.507141,
          -81.686783,
          -83.643074,
          -157.498337,
          -114.478828,
          -88.986137,
          -86.258278,
          -93.210526,
          -96.726486,
          -84.670067,
          -91.867805,
          -69.381927,
          -76.802101,
          -71.530106,
          -84.536095,
          -93.900192,
          -89.678696,
          -110.454353,
          -98.268082,
          -117.055374,
          -71.563896,
          -74.521011,
          -106.248482,
          -74.948051,
          -79.806419,
          -99.784012,
          -82.764915,
          -96.928917,
          -122.070938,
          -77.209755,
          -71.51178,
          -80.945007,
          -99.438828,
          -86.692345,
          -97.563461,
          -72.710686,
          -78.169968,
          -80.954453,
          -89.616508,
          -107.30249
         ],
         "marker": {
          "color": "#00cc96"
         },
         "mode": "markers",
         "name": "micro",
         "showlegend": true,
         "subplot": "mapbox",
         "type": "scattermapbox"
        },
        {
         "customdata": [
          [
           "Alabama",
           "planning",
           8
          ],
          [
           "Alaska",
           "planning",
           2
          ],
          [
           "Arizona",
           "planning",
           13
          ],
          [
           "Arkansas",
           "planning",
           4
          ],
          [
           "California",
           "planning",
           67
          ],
          [
           "Colorado",
           "planning",
           5
          ],
          [
           "Oklahoma",
           "planning",
           1
          ],
          [
           "Oregon",
           "planning",
           6
          ],
          [
           "South Dakota",
           "planning",
           1
          ]
         ],
         "hovertemplate": "<b>%{hovertext}</b><br><br>brewery_type=%{customdata[1]}<br>latitude=%{lat}<br>longitude=%{lon}<br>state=%{customdata[0]}<br>name=%{customdata[2]}<extra></extra>",
         "hovertext": [
          "Alabama",
          "Alaska",
          "Arizona",
          "Arkansas",
          "California",
          "Colorado",
          "Oklahoma",
          "Oregon",
          "South Dakota"
         ],
         "lat": [
          32.806671,
          61.370716,
          33.729759,
          34.969704,
          36.116203,
          39.059811,
          35.565342,
          44.572021,
          44.299782
         ],
         "legendgroup": "planning",
         "lon": [
          -86.79113,
          -152.404419,
          -111.431221,
          -92.373123,
          -119.681564,
          -105.311104,
          -96.928917,
          -122.070938,
          -99.438828
         ],
         "marker": {
          "color": "#ab63fa"
         },
         "mode": "markers",
         "name": "planning",
         "showlegend": true,
         "subplot": "mapbox",
         "type": "scattermapbox"
        },
        {
         "customdata": [
          [
           "Alaska",
           "closed",
           4
          ],
          [
           "California",
           "closed",
           51
          ],
          [
           "Connecticut",
           "closed",
           2
          ],
          [
           "Hawaii",
           "closed",
           3
          ],
          [
           "Idaho",
           "closed",
           3
          ],
          [
           "Iowa",
           "closed",
           2
          ],
          [
           "Nebraska",
           "closed",
           1
          ],
          [
           "North Dakota",
           "closed",
           2
          ],
          [
           "Ohio",
           "closed",
           1
          ],
          [
           "Oklahoma",
           "closed",
           1
          ],
          [
           "Oregon",
           "closed",
           11
          ],
          [
           "South Carolina",
           "closed",
           1
          ],
          [
           "South Dakota",
           "closed",
           2
          ],
          [
           "Texas",
           "closed",
           1
          ]
         ],
         "hovertemplate": "<b>%{hovertext}</b><br><br>brewery_type=%{customdata[1]}<br>latitude=%{lat}<br>longitude=%{lon}<br>state=%{customdata[0]}<br>name=%{customdata[2]}<extra></extra>",
         "hovertext": [
          "Alaska",
          "California",
          "Connecticut",
          "Hawaii",
          "Idaho",
          "Iowa",
          "Nebraska",
          "North Dakota",
          "Ohio",
          "Oklahoma",
          "Oregon",
          "South Carolina",
          "South Dakota",
          "Texas"
         ],
         "lat": [
          61.370716,
          36.116203,
          41.597782,
          21.094318,
          44.240459,
          42.011539,
          41.12537,
          47.528912,
          40.388783,
          35.565342,
          44.572021,
          33.856892,
          44.299782,
          31.054487
         ],
         "legendgroup": "closed",
         "lon": [
          -152.404419,
          -119.681564,
          -72.755371,
          -157.498337,
          -114.478828,
          -93.210526,
          -98.268082,
          -99.784012,
          -82.764915,
          -96.928917,
          -122.070938,
          -80.945007,
          -99.438828,
          -97.563461
         ],
         "marker": {
          "color": "#FFA15A"
         },
         "mode": "markers",
         "name": "closed",
         "showlegend": true,
         "subplot": "mapbox",
         "type": "scattermapbox"
        },
        {
         "customdata": [
          [
           "Alaska",
           "regional",
           1
          ],
          [
           "Arizona",
           "regional",
           1
          ],
          [
           "California",
           "regional",
           29
          ],
          [
           "Colorado",
           "regional",
           8
          ],
          [
           "Connecticut",
           "regional",
           2
          ],
          [
           "Delaware",
           "regional",
           1
          ],
          [
           "Florida",
           "regional",
           3
          ],
          [
           "Georgia",
           "regional",
           2
          ],
          [
           "Hawaii",
           "regional",
           1
          ],
          [
           "Illinois",
           "regional",
           2
          ],
          [
           "Indiana",
           "regional",
           2
          ],
          [
           "Kansas",
           "regional",
           1
          ],
          [
           "Kentucky",
           "regional",
           1
          ],
          [
           "Maine",
           "regional",
           3
          ],
          [
           "Maryland",
           "regional",
           2
          ],
          [
           "Massachusetts",
           "regional",
           8
          ],
          [
           "Michigan",
           "regional",
           5
          ],
          [
           "Minnesota",
           "regional",
           5
          ],
          [
           "Montana",
           "regional",
           1
          ],
          [
           "New Hampshire",
           "regional",
           2
          ],
          [
           "New Jersey",
           "regional",
           1
          ],
          [
           "New Mexico",
           "regional",
           2
          ],
          [
           "New York",
           "regional",
           6
          ],
          [
           "North Carolina",
           "regional",
           9
          ],
          [
           "Ohio",
           "regional",
           8
          ],
          [
           "Oregon",
           "regional",
           13
          ],
          [
           "Pennsylvania",
           "regional",
           8
          ],
          [
           "Rhode Island",
           "regional",
           1
          ],
          [
           "Tennessee",
           "regional",
           2
          ],
          [
           "Texas",
           "regional",
           8
          ],
          [
           "Vermont",
           "regional",
           5
          ],
          [
           "Virginia",
           "regional",
           2
          ],
          [
           "Wisconsin",
           "regional",
           9
          ]
         ],
         "hovertemplate": "<b>%{hovertext}</b><br><br>brewery_type=%{customdata[1]}<br>latitude=%{lat}<br>longitude=%{lon}<br>state=%{customdata[0]}<br>name=%{customdata[2]}<extra></extra>",
         "hovertext": [
          "Alaska",
          "Arizona",
          "California",
          "Colorado",
          "Connecticut",
          "Delaware",
          "Florida",
          "Georgia",
          "Hawaii",
          "Illinois",
          "Indiana",
          "Kansas",
          "Kentucky",
          "Maine",
          "Maryland",
          "Massachusetts",
          "Michigan",
          "Minnesota",
          "Montana",
          "New Hampshire",
          "New Jersey",
          "New Mexico",
          "New York",
          "North Carolina",
          "Ohio",
          "Oregon",
          "Pennsylvania",
          "Rhode Island",
          "Tennessee",
          "Texas",
          "Vermont",
          "Virginia",
          "Wisconsin"
         ],
         "lat": [
          61.370716,
          33.729759,
          36.116203,
          39.059811,
          41.597782,
          39.318523,
          27.766279,
          33.040619,
          21.094318,
          40.349457,
          39.849426,
          38.5266,
          37.66814,
          44.693947,
          39.063946,
          42.230171,
          43.326618,
          45.694454,
          46.921925,
          43.452492,
          40.298904,
          34.840515,
          42.165726,
          35.630066,
          40.388783,
          44.572021,
          40.590752,
          41.680893,
          35.747845,
          31.054487,
          44.045876,
          37.769337,
          44.268543
         ],
         "legendgroup": "regional",
         "lon": [
          -152.404419,
          -111.431221,
          -119.681564,
          -105.311104,
          -72.755371,
          -75.507141,
          -81.686783,
          -83.643074,
          -157.498337,
          -88.986137,
          -86.258278,
          -96.726486,
          -84.670067,
          -69.381927,
          -76.802101,
          -71.530106,
          -84.536095,
          -93.900192,
          -110.454353,
          -71.563896,
          -74.521011,
          -106.248482,
          -74.948051,
          -79.806419,
          -82.764915,
          -122.070938,
          -77.209755,
          -71.51178,
          -86.692345,
          -97.563461,
          -72.710686,
          -78.169968,
          -89.616508
         ],
         "marker": {
          "color": "#19d3f3"
         },
         "mode": "markers",
         "name": "regional",
         "showlegend": true,
         "subplot": "mapbox",
         "type": "scattermapbox"
        },
        {
         "customdata": [
          [
           "Arizona",
           "large",
           1
          ],
          [
           "California",
           "large",
           15
          ],
          [
           "Colorado",
           "large",
           6
          ],
          [
           "Florida",
           "large",
           3
          ],
          [
           "Georgia",
           "large",
           2
          ],
          [
           "Idaho",
           "large",
           1
          ],
          [
           "Illinois",
           "large",
           2
          ],
          [
           "Maryland",
           "large",
           1
          ],
          [
           "New Hampshire",
           "large",
           1
          ],
          [
           "New York",
           "large",
           3
          ],
          [
           "North Carolina",
           "large",
           3
          ],
          [
           "Ohio",
           "large",
           2
          ],
          [
           "Oregon",
           "large",
           6
          ],
          [
           "Texas",
           "large",
           3
          ],
          [
           "Virginia",
           "large",
           3
          ],
          [
           "Wisconsin",
           "large",
           4
          ]
         ],
         "hovertemplate": "<b>%{hovertext}</b><br><br>brewery_type=%{customdata[1]}<br>latitude=%{lat}<br>longitude=%{lon}<br>state=%{customdata[0]}<br>name=%{customdata[2]}<extra></extra>",
         "hovertext": [
          "Arizona",
          "California",
          "Colorado",
          "Florida",
          "Georgia",
          "Idaho",
          "Illinois",
          "Maryland",
          "New Hampshire",
          "New York",
          "North Carolina",
          "Ohio",
          "Oregon",
          "Texas",
          "Virginia",
          "Wisconsin"
         ],
         "lat": [
          33.729759,
          36.116203,
          39.059811,
          27.766279,
          33.040619,
          44.240459,
          40.349457,
          39.063946,
          43.452492,
          42.165726,
          35.630066,
          40.388783,
          44.572021,
          31.054487,
          37.769337,
          44.268543
         ],
         "legendgroup": "large",
         "lon": [
          -111.431221,
          -119.681564,
          -105.311104,
          -81.686783,
          -83.643074,
          -114.478828,
          -88.986137,
          -76.802101,
          -71.563896,
          -74.948051,
          -79.806419,
          -82.764915,
          -122.070938,
          -97.563461,
          -78.169968,
          -89.616508
         ],
         "marker": {
          "color": "#FF6692"
         },
         "mode": "markers",
         "name": "large",
         "showlegend": true,
         "subplot": "mapbox",
         "type": "scattermapbox"
        },
        {
         "customdata": [
          [
           "California",
           "proprietor",
           13
          ],
          [
           "Colorado",
           "proprietor",
           1
          ],
          [
           "Florida",
           "proprietor",
           3
          ],
          [
           "Georgia",
           "proprietor",
           1
          ],
          [
           "Idaho",
           "proprietor",
           1
          ],
          [
           "Illinois",
           "proprietor",
           3
          ],
          [
           "Maine",
           "proprietor",
           1
          ],
          [
           "Maryland",
           "proprietor",
           1
          ],
          [
           "Massachusetts",
           "proprietor",
           1
          ],
          [
           "Minnesota",
           "proprietor",
           2
          ],
          [
           "New Mexico",
           "proprietor",
           1
          ],
          [
           "New York",
           "proprietor",
           6
          ],
          [
           "North Carolina",
           "proprietor",
           2
          ],
          [
           "Oregon",
           "proprietor",
           2
          ],
          [
           "Pennsylvania",
           "proprietor",
           1
          ],
          [
           "Rhode Island",
           "proprietor",
           1
          ],
          [
           "South Dakota",
           "proprietor",
           1
          ],
          [
           "West Virginia",
           "proprietor",
           1
          ],
          [
           "Wisconsin",
           "proprietor",
           2
          ]
         ],
         "hovertemplate": "<b>%{hovertext}</b><br><br>brewery_type=%{customdata[1]}<br>latitude=%{lat}<br>longitude=%{lon}<br>state=%{customdata[0]}<br>name=%{customdata[2]}<extra></extra>",
         "hovertext": [
          "California",
          "Colorado",
          "Florida",
          "Georgia",
          "Idaho",
          "Illinois",
          "Maine",
          "Maryland",
          "Massachusetts",
          "Minnesota",
          "New Mexico",
          "New York",
          "North Carolina",
          "Oregon",
          "Pennsylvania",
          "Rhode Island",
          "South Dakota",
          "West Virginia",
          "Wisconsin"
         ],
         "lat": [
          36.116203,
          39.059811,
          27.766279,
          33.040619,
          44.240459,
          40.349457,
          44.693947,
          39.063946,
          42.230171,
          45.694454,
          34.840515,
          42.165726,
          35.630066,
          44.572021,
          40.590752,
          41.680893,
          44.299782,
          38.491226,
          44.268543
         ],
         "legendgroup": "proprietor",
         "lon": [
          -119.681564,
          -105.311104,
          -81.686783,
          -83.643074,
          -114.478828,
          -88.986137,
          -69.381927,
          -76.802101,
          -71.530106,
          -93.900192,
          -106.248482,
          -74.948051,
          -79.806419,
          -122.070938,
          -77.209755,
          -71.51178,
          -99.438828,
          -80.954453,
          -89.616508
         ],
         "marker": {
          "color": "#B6E880"
         },
         "mode": "markers",
         "name": "proprietor",
         "showlegend": true,
         "subplot": "mapbox",
         "type": "scattermapbox"
        },
        {
         "customdata": [
          [
           "Nevada",
           "bar",
           1
          ],
          [
           "North Dakota",
           "bar",
           1
          ]
         ],
         "hovertemplate": "<b>%{hovertext}</b><br><br>brewery_type=%{customdata[1]}<br>latitude=%{lat}<br>longitude=%{lon}<br>state=%{customdata[0]}<br>name=%{customdata[2]}<extra></extra>",
         "hovertext": [
          "Nevada",
          "North Dakota"
         ],
         "lat": [
          38.313515,
          47.528912
         ],
         "legendgroup": "bar",
         "lon": [
          -117.055374,
          -99.784012
         ],
         "marker": {
          "color": "#FF97FF"
         },
         "mode": "markers",
         "name": "bar",
         "showlegend": true,
         "subplot": "mapbox",
         "type": "scattermapbox"
        },
        {
         "customdata": [
          [
           "North Dakota",
           "nano",
           2
          ],
          [
           "Wisconsin",
           "nano",
           1
          ]
         ],
         "hovertemplate": "<b>%{hovertext}</b><br><br>brewery_type=%{customdata[1]}<br>latitude=%{lat}<br>longitude=%{lon}<br>state=%{customdata[0]}<br>name=%{customdata[2]}<extra></extra>",
         "hovertext": [
          "North Dakota",
          "Wisconsin"
         ],
         "lat": [
          47.528912,
          44.268543
         ],
         "legendgroup": "nano",
         "lon": [
          -99.784012,
          -89.616508
         ],
         "marker": {
          "color": "#FECB52"
         },
         "mode": "markers",
         "name": "nano",
         "showlegend": true,
         "subplot": "mapbox",
         "type": "scattermapbox"
        }
       ],
       "layout": {
        "autosize": true,
        "legend": {
         "title": {
          "text": "brewery_type"
         },
         "tracegroupgap": 0
        },
        "mapbox": {
         "bearing": 0,
         "center": {
          "lat": 39.3604787616905,
          "lon": -99.37382561768686
         },
         "domain": {
          "x": [
           0,
           1
          ],
          "y": [
           0,
           1
          ]
         },
         "pitch": 0,
         "style": "carto-positron",
         "zoom": 2.017558195847478
        },
        "template": {
         "data": {
          "bar": [
           {
            "error_x": {
             "color": "#2a3f5f"
            },
            "error_y": {
             "color": "#2a3f5f"
            },
            "marker": {
             "line": {
              "color": "#E5ECF6",
              "width": 0.5
             },
             "pattern": {
              "fillmode": "overlay",
              "size": 10,
              "solidity": 0.2
             }
            },
            "type": "bar"
           }
          ],
          "barpolar": [
           {
            "marker": {
             "line": {
              "color": "#E5ECF6",
              "width": 0.5
             },
             "pattern": {
              "fillmode": "overlay",
              "size": 10,
              "solidity": 0.2
             }
            },
            "type": "barpolar"
           }
          ],
          "carpet": [
           {
            "aaxis": {
             "endlinecolor": "#2a3f5f",
             "gridcolor": "white",
             "linecolor": "white",
             "minorgridcolor": "white",
             "startlinecolor": "#2a3f5f"
            },
            "baxis": {
             "endlinecolor": "#2a3f5f",
             "gridcolor": "white",
             "linecolor": "white",
             "minorgridcolor": "white",
             "startlinecolor": "#2a3f5f"
            },
            "type": "carpet"
           }
          ],
          "choropleth": [
           {
            "colorbar": {
             "outlinewidth": 0,
             "ticks": ""
            },
            "type": "choropleth"
           }
          ],
          "contour": [
           {
            "colorbar": {
             "outlinewidth": 0,
             "ticks": ""
            },
            "colorscale": [
             [
              0,
              "#0d0887"
             ],
             [
              0.1111111111111111,
              "#46039f"
             ],
             [
              0.2222222222222222,
              "#7201a8"
             ],
             [
              0.3333333333333333,
              "#9c179e"
             ],
             [
              0.4444444444444444,
              "#bd3786"
             ],
             [
              0.5555555555555556,
              "#d8576b"
             ],
             [
              0.6666666666666666,
              "#ed7953"
             ],
             [
              0.7777777777777778,
              "#fb9f3a"
             ],
             [
              0.8888888888888888,
              "#fdca26"
             ],
             [
              1,
              "#f0f921"
             ]
            ],
            "type": "contour"
           }
          ],
          "contourcarpet": [
           {
            "colorbar": {
             "outlinewidth": 0,
             "ticks": ""
            },
            "type": "contourcarpet"
           }
          ],
          "heatmap": [
           {
            "colorbar": {
             "outlinewidth": 0,
             "ticks": ""
            },
            "colorscale": [
             [
              0,
              "#0d0887"
             ],
             [
              0.1111111111111111,
              "#46039f"
             ],
             [
              0.2222222222222222,
              "#7201a8"
             ],
             [
              0.3333333333333333,
              "#9c179e"
             ],
             [
              0.4444444444444444,
              "#bd3786"
             ],
             [
              0.5555555555555556,
              "#d8576b"
             ],
             [
              0.6666666666666666,
              "#ed7953"
             ],
             [
              0.7777777777777778,
              "#fb9f3a"
             ],
             [
              0.8888888888888888,
              "#fdca26"
             ],
             [
              1,
              "#f0f921"
             ]
            ],
            "type": "heatmap"
           }
          ],
          "heatmapgl": [
           {
            "colorbar": {
             "outlinewidth": 0,
             "ticks": ""
            },
            "colorscale": [
             [
              0,
              "#0d0887"
             ],
             [
              0.1111111111111111,
              "#46039f"
             ],
             [
              0.2222222222222222,
              "#7201a8"
             ],
             [
              0.3333333333333333,
              "#9c179e"
             ],
             [
              0.4444444444444444,
              "#bd3786"
             ],
             [
              0.5555555555555556,
              "#d8576b"
             ],
             [
              0.6666666666666666,
              "#ed7953"
             ],
             [
              0.7777777777777778,
              "#fb9f3a"
             ],
             [
              0.8888888888888888,
              "#fdca26"
             ],
             [
              1,
              "#f0f921"
             ]
            ],
            "type": "heatmapgl"
           }
          ],
          "histogram": [
           {
            "marker": {
             "pattern": {
              "fillmode": "overlay",
              "size": 10,
              "solidity": 0.2
             }
            },
            "type": "histogram"
           }
          ],
          "histogram2d": [
           {
            "colorbar": {
             "outlinewidth": 0,
             "ticks": ""
            },
            "colorscale": [
             [
              0,
              "#0d0887"
             ],
             [
              0.1111111111111111,
              "#46039f"
             ],
             [
              0.2222222222222222,
              "#7201a8"
             ],
             [
              0.3333333333333333,
              "#9c179e"
             ],
             [
              0.4444444444444444,
              "#bd3786"
             ],
             [
              0.5555555555555556,
              "#d8576b"
             ],
             [
              0.6666666666666666,
              "#ed7953"
             ],
             [
              0.7777777777777778,
              "#fb9f3a"
             ],
             [
              0.8888888888888888,
              "#fdca26"
             ],
             [
              1,
              "#f0f921"
             ]
            ],
            "type": "histogram2d"
           }
          ],
          "histogram2dcontour": [
           {
            "colorbar": {
             "outlinewidth": 0,
             "ticks": ""
            },
            "colorscale": [
             [
              0,
              "#0d0887"
             ],
             [
              0.1111111111111111,
              "#46039f"
             ],
             [
              0.2222222222222222,
              "#7201a8"
             ],
             [
              0.3333333333333333,
              "#9c179e"
             ],
             [
              0.4444444444444444,
              "#bd3786"
             ],
             [
              0.5555555555555556,
              "#d8576b"
             ],
             [
              0.6666666666666666,
              "#ed7953"
             ],
             [
              0.7777777777777778,
              "#fb9f3a"
             ],
             [
              0.8888888888888888,
              "#fdca26"
             ],
             [
              1,
              "#f0f921"
             ]
            ],
            "type": "histogram2dcontour"
           }
          ],
          "mesh3d": [
           {
            "colorbar": {
             "outlinewidth": 0,
             "ticks": ""
            },
            "type": "mesh3d"
           }
          ],
          "parcoords": [
           {
            "line": {
             "colorbar": {
              "outlinewidth": 0,
              "ticks": ""
             }
            },
            "type": "parcoords"
           }
          ],
          "pie": [
           {
            "automargin": true,
            "type": "pie"
           }
          ],
          "scatter": [
           {
            "fillpattern": {
             "fillmode": "overlay",
             "size": 10,
             "solidity": 0.2
            },
            "type": "scatter"
           }
          ],
          "scatter3d": [
           {
            "line": {
             "colorbar": {
              "outlinewidth": 0,
              "ticks": ""
             }
            },
            "marker": {
             "colorbar": {
              "outlinewidth": 0,
              "ticks": ""
             }
            },
            "type": "scatter3d"
           }
          ],
          "scattercarpet": [
           {
            "marker": {
             "colorbar": {
              "outlinewidth": 0,
              "ticks": ""
             }
            },
            "type": "scattercarpet"
           }
          ],
          "scattergeo": [
           {
            "marker": {
             "colorbar": {
              "outlinewidth": 0,
              "ticks": ""
             }
            },
            "type": "scattergeo"
           }
          ],
          "scattergl": [
           {
            "marker": {
             "colorbar": {
              "outlinewidth": 0,
              "ticks": ""
             }
            },
            "type": "scattergl"
           }
          ],
          "scattermapbox": [
           {
            "marker": {
             "colorbar": {
              "outlinewidth": 0,
              "ticks": ""
             }
            },
            "type": "scattermapbox"
           }
          ],
          "scatterpolar": [
           {
            "marker": {
             "colorbar": {
              "outlinewidth": 0,
              "ticks": ""
             }
            },
            "type": "scatterpolar"
           }
          ],
          "scatterpolargl": [
           {
            "marker": {
             "colorbar": {
              "outlinewidth": 0,
              "ticks": ""
             }
            },
            "type": "scatterpolargl"
           }
          ],
          "scatterternary": [
           {
            "marker": {
             "colorbar": {
              "outlinewidth": 0,
              "ticks": ""
             }
            },
            "type": "scatterternary"
           }
          ],
          "surface": [
           {
            "colorbar": {
             "outlinewidth": 0,
             "ticks": ""
            },
            "colorscale": [
             [
              0,
              "#0d0887"
             ],
             [
              0.1111111111111111,
              "#46039f"
             ],
             [
              0.2222222222222222,
              "#7201a8"
             ],
             [
              0.3333333333333333,
              "#9c179e"
             ],
             [
              0.4444444444444444,
              "#bd3786"
             ],
             [
              0.5555555555555556,
              "#d8576b"
             ],
             [
              0.6666666666666666,
              "#ed7953"
             ],
             [
              0.7777777777777778,
              "#fb9f3a"
             ],
             [
              0.8888888888888888,
              "#fdca26"
             ],
             [
              1,
              "#f0f921"
             ]
            ],
            "type": "surface"
           }
          ],
          "table": [
           {
            "cells": {
             "fill": {
              "color": "#EBF0F8"
             },
             "line": {
              "color": "white"
             }
            },
            "header": {
             "fill": {
              "color": "#C8D4E3"
             },
             "line": {
              "color": "white"
             }
            },
            "type": "table"
           }
          ]
         },
         "layout": {
          "annotationdefaults": {
           "arrowcolor": "#2a3f5f",
           "arrowhead": 0,
           "arrowwidth": 1
          },
          "autotypenumbers": "strict",
          "coloraxis": {
           "colorbar": {
            "outlinewidth": 0,
            "ticks": ""
           }
          },
          "colorscale": {
           "diverging": [
            [
             0,
             "#8e0152"
            ],
            [
             0.1,
             "#c51b7d"
            ],
            [
             0.2,
             "#de77ae"
            ],
            [
             0.3,
             "#f1b6da"
            ],
            [
             0.4,
             "#fde0ef"
            ],
            [
             0.5,
             "#f7f7f7"
            ],
            [
             0.6,
             "#e6f5d0"
            ],
            [
             0.7,
             "#b8e186"
            ],
            [
             0.8,
             "#7fbc41"
            ],
            [
             0.9,
             "#4d9221"
            ],
            [
             1,
             "#276419"
            ]
           ],
           "sequential": [
            [
             0,
             "#0d0887"
            ],
            [
             0.1111111111111111,
             "#46039f"
            ],
            [
             0.2222222222222222,
             "#7201a8"
            ],
            [
             0.3333333333333333,
             "#9c179e"
            ],
            [
             0.4444444444444444,
             "#bd3786"
            ],
            [
             0.5555555555555556,
             "#d8576b"
            ],
            [
             0.6666666666666666,
             "#ed7953"
            ],
            [
             0.7777777777777778,
             "#fb9f3a"
            ],
            [
             0.8888888888888888,
             "#fdca26"
            ],
            [
             1,
             "#f0f921"
            ]
           ],
           "sequentialminus": [
            [
             0,
             "#0d0887"
            ],
            [
             0.1111111111111111,
             "#46039f"
            ],
            [
             0.2222222222222222,
             "#7201a8"
            ],
            [
             0.3333333333333333,
             "#9c179e"
            ],
            [
             0.4444444444444444,
             "#bd3786"
            ],
            [
             0.5555555555555556,
             "#d8576b"
            ],
            [
             0.6666666666666666,
             "#ed7953"
            ],
            [
             0.7777777777777778,
             "#fb9f3a"
            ],
            [
             0.8888888888888888,
             "#fdca26"
            ],
            [
             1,
             "#f0f921"
            ]
           ]
          },
          "colorway": [
           "#636efa",
           "#EF553B",
           "#00cc96",
           "#ab63fa",
           "#FFA15A",
           "#19d3f3",
           "#FF6692",
           "#B6E880",
           "#FF97FF",
           "#FECB52"
          ],
          "font": {
           "color": "#2a3f5f"
          },
          "geo": {
           "bgcolor": "white",
           "lakecolor": "white",
           "landcolor": "#E5ECF6",
           "showlakes": true,
           "showland": true,
           "subunitcolor": "white"
          },
          "hoverlabel": {
           "align": "left"
          },
          "hovermode": "closest",
          "mapbox": {
           "style": "light"
          },
          "paper_bgcolor": "white",
          "plot_bgcolor": "#E5ECF6",
          "polar": {
           "angularaxis": {
            "gridcolor": "white",
            "linecolor": "white",
            "ticks": ""
           },
           "bgcolor": "#E5ECF6",
           "radialaxis": {
            "gridcolor": "white",
            "linecolor": "white",
            "ticks": ""
           }
          },
          "scene": {
           "xaxis": {
            "backgroundcolor": "#E5ECF6",
            "gridcolor": "white",
            "gridwidth": 2,
            "linecolor": "white",
            "showbackground": true,
            "ticks": "",
            "zerolinecolor": "white"
           },
           "yaxis": {
            "backgroundcolor": "#E5ECF6",
            "gridcolor": "white",
            "gridwidth": 2,
            "linecolor": "white",
            "showbackground": true,
            "ticks": "",
            "zerolinecolor": "white"
           },
           "zaxis": {
            "backgroundcolor": "#E5ECF6",
            "gridcolor": "white",
            "gridwidth": 2,
            "linecolor": "white",
            "showbackground": true,
            "ticks": "",
            "zerolinecolor": "white"
           }
          },
          "shapedefaults": {
           "line": {
            "color": "#2a3f5f"
           }
          },
          "ternary": {
           "aaxis": {
            "gridcolor": "white",
            "linecolor": "white",
            "ticks": ""
           },
           "baxis": {
            "gridcolor": "white",
            "linecolor": "white",
            "ticks": ""
           },
           "bgcolor": "#E5ECF6",
           "caxis": {
            "gridcolor": "white",
            "linecolor": "white",
            "ticks": ""
           }
          },
          "title": {
           "x": 0.05
          },
          "xaxis": {
           "automargin": true,
           "gridcolor": "white",
           "linecolor": "white",
           "ticks": "",
           "title": {
            "standoff": 15
           },
           "zerolinecolor": "white",
           "zerolinewidth": 2
          },
          "yaxis": {
           "automargin": true,
           "gridcolor": "white",
           "linecolor": "white",
           "ticks": "",
           "title": {
            "standoff": 15
           },
           "zerolinecolor": "white",
           "zerolinewidth": 2
          }
         }
        },
        "title": {
         "text": "Breweries by State and Type"
        }
       }
      },
      "image/png": "[encoded data removed]",
      "text/html": [
       "<div>                            <div id=\"0dcfed4b-a296-44af-9583-badbb8ef50ef\" class=\"plotly-graph-div\" style=\"height:525px; width:100%;\"></div>            <script type=\"text/javascript\">                require([\"plotly\"], function(Plotly) {                    window.PLOTLYENV=window.PLOTLYENV || {};                                    if (document.getElementById(\"0dcfed4b-a296-44af-9583-badbb8ef50ef\")) {                    Plotly.newPlot(                        \"0dcfed4b-a296-44af-9583-badbb8ef50ef\",                        [{\"customdata\":[[\"Alabama\",\"brewpub\",3],[\"Alaska\",\"brewpub\",14],[\"Arizona\",\"brewpub\",24],[\"Arkansas\",\"brewpub\",11],[\"California\",\"brewpub\",247],[\"Colorado\",\"brewpub\",102],[\"Connecticut\",\"brewpub\",10],[\"Delaware\",\"brewpub\",10],[\"Florida\",\"brewpub\",41],[\"Georgia\",\"brewpub\",15],[\"Hawaii\",\"brewpub\",12],[\"Idaho\",\"brewpub\",22],[\"Illinois\",\"brewpub\",66],[\"Indiana\",\"brewpub\",47],[\"Iowa\",\"brewpub\",31],[\"Kansas\",\"brewpub\",17],[\"Kentucky\",\"brewpub\",11],[\"Louisiana\",\"brewpub\",6],[\"Maine\",\"brewpub\",23],[\"Maryland\",\"brewpub\",19],[\"Massachusetts\",\"brewpub\",26],[\"Michigan\",\"brewpub\",156],[\"Minnesota\",\"brewpub\",38],[\"Mississippi\",\"brewpub\",1],[\"Montana\",\"brewpub\",14],[\"Nebraska\",\"brewpub\",21],[\"Nevada\",\"brewpub\",16],[\"New Hampshire\",\"brewpub\",13],[\"New Jersey\",\"brewpub\",12],[\"New Mexico\",\"brewpub\",30],[\"New York\",\"brewpub\",76],[\"North Carolina\",\"brewpub\",52],[\"North Dakota\",\"brewpub\",8],[\"Ohio\",\"brewpub\",78],[\"Oklahoma\",\"brewpub\",5],[\"Oregon\",\"brewpub\",106],[\"Pennsylvania\",\"brewpub\",104],[\"Rhode Island\",\"brewpub\",9],[\"South Carolina\",\"brewpub\",17],[\"South Dakota\",\"brewpub\",15],[\"Tennessee\",\"brewpub\",23],[\"Texas\",\"brewpub\",41],[\"Vermont\",\"brewpub\",10],[\"Virginia\",\"brewpub\",32],[\"West Virginia\",\"brewpub\",13],[\"Wisconsin\",\"brewpub\",59],[\"Wyoming\",\"brewpub\",10]],\"hovertemplate\":\"<b>%{hovertext}</b><br><br>brewery_type=%{customdata[1]}<br>latitude=%{lat}<br>longitude=%{lon}<br>state=%{customdata[0]}<br>name=%{customdata[2]}<extra></extra>\",\"hovertext\":[\"Alabama\",\"Alaska\",\"Arizona\",\"Arkansas\",\"California\",\"Colorado\",\"Connecticut\",\"Delaware\",\"Florida\",\"Georgia\",\"Hawaii\",\"Idaho\",\"Illinois\",\"Indiana\",\"Iowa\",\"Kansas\",\"Kentucky\",\"Louisiana\",\"Maine\",\"Maryland\",\"Massachusetts\",\"Michigan\",\"Minnesota\",\"Mississippi\",\"Montana\",\"Nebraska\",\"Nevada\",\"New Hampshire\",\"New Jersey\",\"New Mexico\",\"New York\",\"North Carolina\",\"North Dakota\",\"Ohio\",\"Oklahoma\",\"Oregon\",\"Pennsylvania\",\"Rhode Island\",\"South Carolina\",\"South Dakota\",\"Tennessee\",\"Texas\",\"Vermont\",\"Virginia\",\"West Virginia\",\"Wisconsin\",\"Wyoming\"],\"lat\":[32.806671,61.370716,33.729759,34.969704,36.116203,39.059811,41.597782,39.318523,27.766279,33.040619,21.094318,44.240459,40.349457,39.849426,42.011539,38.5266,37.66814,31.169546,44.693947,39.063946,42.230171,43.326618,45.694454,32.741646,46.921925,41.12537,38.313515,43.452492,40.298904,34.840515,42.165726,35.630066,47.528912,40.388783,35.565342,44.572021,40.590752,41.680893,33.856892,44.299782,35.747845,31.054487,44.045876,37.769337,38.491226,44.268543,42.755966],\"legendgroup\":\"brewpub\",\"lon\":[-86.79113,-152.404419,-111.431221,-92.373123,-119.681564,-105.311104,-72.755371,-75.507141,-81.686783,-83.643074,-157.498337,-114.478828,-88.986137,-86.258278,-93.210526,-96.726486,-84.670067,-91.867805,-69.381927,-76.802101,-71.530106,-84.536095,-93.900192,-89.678696,-110.454353,-98.268082,-117.055374,-71.563896,-74.521011,-106.248482,-74.948051,-79.806419,-99.784012,-82.764915,-96.928917,-122.070938,-77.209755,-71.51178,-80.945007,-99.438828,-86.692345,-97.563461,-72.710686,-78.169968,-80.954453,-89.616508,-107.30249],\"marker\":{\"color\":\"#636efa\"},\"mode\":\"markers\",\"name\":\"brewpub\",\"showlegend\":true,\"subplot\":\"mapbox\",\"type\":\"scattermapbox\"},{\"customdata\":[[\"Alabama\",\"contract\",1],[\"Alaska\",\"contract\",1],[\"Arizona\",\"contract\",3],[\"Arkansas\",\"contract\",1],[\"California\",\"contract\",25],[\"Colorado\",\"contract\",7],[\"Connecticut\",\"contract\",4],[\"Florida\",\"contract\",4],[\"Idaho\",\"contract\",1],[\"Illinois\",\"contract\",4],[\"Indiana\",\"contract\",1],[\"Iowa\",\"contract\",1],[\"Kentucky\",\"contract\",1],[\"Maine\",\"contract\",1],[\"Maryland\",\"contract\",1],[\"Massachusetts\",\"contract\",7],[\"Michigan\",\"contract\",2],[\"Minnesota\",\"contract\",3],[\"Mississippi\",\"contract\",1],[\"New Jersey\",\"contract\",2],[\"New Mexico\",\"contract\",1],[\"New York\",\"contract\",7],[\"North Carolina\",\"contract\",1],[\"Ohio\",\"contract\",4],[\"Oklahoma\",\"contract\",4],[\"Oregon\",\"contract\",3],[\"Pennsylvania\",\"contract\",3],[\"South Carolina\",\"contract\",1],[\"South Dakota\",\"contract\",1],[\"Tennessee\",\"contract\",1],[\"Texas\",\"contract\",3],[\"Virginia\",\"contract\",4],[\"Wisconsin\",\"contract\",12]],\"hovertemplate\":\"<b>%{hovertext}</b><br><br>brewery_type=%{customdata[1]}<br>latitude=%{lat}<br>longitude=%{lon}<br>state=%{customdata[0]}<br>name=%{customdata[2]}<extra></extra>\",\"hovertext\":[\"Alabama\",\"Alaska\",\"Arizona\",\"Arkansas\",\"California\",\"Colorado\",\"Connecticut\",\"Florida\",\"Idaho\",\"Illinois\",\"Indiana\",\"Iowa\",\"Kentucky\",\"Maine\",\"Maryland\",\"Massachusetts\",\"Michigan\",\"Minnesota\",\"Mississippi\",\"New Jersey\",\"New Mexico\",\"New York\",\"North Carolina\",\"Ohio\",\"Oklahoma\",\"Oregon\",\"Pennsylvania\",\"South Carolina\",\"South Dakota\",\"Tennessee\",\"Texas\",\"Virginia\",\"Wisconsin\"],\"lat\":[32.806671,61.370716,33.729759,34.969704,36.116203,39.059811,41.597782,27.766279,44.240459,40.349457,39.849426,42.011539,37.66814,44.693947,39.063946,42.230171,43.326618,45.694454,32.741646,40.298904,34.840515,42.165726,35.630066,40.388783,35.565342,44.572021,40.590752,33.856892,44.299782,35.747845,31.054487,37.769337,44.268543],\"legendgroup\":\"contract\",\"lon\":[-86.79113,-152.404419,-111.431221,-92.373123,-119.681564,-105.311104,-72.755371,-81.686783,-114.478828,-88.986137,-86.258278,-93.210526,-84.670067,-69.381927,-76.802101,-71.530106,-84.536095,-93.900192,-89.678696,-74.521011,-106.248482,-74.948051,-79.806419,-82.764915,-96.928917,-122.070938,-77.209755,-80.945007,-99.438828,-86.692345,-97.563461,-78.169968,-89.616508],\"marker\":{\"color\":\"#EF553B\"},\"mode\":\"markers\",\"name\":\"contract\",\"showlegend\":true,\"subplot\":\"mapbox\",\"type\":\"scattermapbox\"},{\"customdata\":[[\"Alabama\",\"micro\",25],[\"Alaska\",\"micro\",29],[\"Arizona\",\"micro\",34],[\"Arkansas\",\"micro\",16],[\"California\",\"micro\",461],[\"Colorado\",\"micro\",124],[\"Connecticut\",\"micro\",28],[\"Delaware\",\"micro\",4],[\"Florida\",\"micro\",112],[\"Georgia\",\"micro\",32],[\"Hawaii\",\"micro\",7],[\"Idaho\",\"micro\",36],[\"Illinois\",\"micro\",76],[\"Indiana\",\"micro\",37],[\"Iowa\",\"micro\",56],[\"Kansas\",\"micro\",13],[\"Kentucky\",\"micro\",35],[\"Louisiana\",\"micro\",19],[\"Maine\",\"micro\",38],[\"Maryland\",\"micro\",24],[\"Massachusetts\",\"micro\",58],[\"Michigan\",\"micro\",107],[\"Minnesota\",\"micro\",76],[\"Mississippi\",\"micro\",10],[\"Montana\",\"micro\",41],[\"Nebraska\",\"micro\",29],[\"Nevada\",\"micro\",11],[\"New Hampshire\",\"micro\",26],[\"New Jersey\",\"micro\",43],[\"New Mexico\",\"micro\",18],[\"New York\",\"micro\",133],[\"North Carolina\",\"micro\",118],[\"North Dakota\",\"micro\",12],[\"Ohio\",\"micro\",124],[\"Oklahoma\",\"micro\",30],[\"Oregon\",\"micro\",140],[\"Pennsylvania\",\"micro\",76],[\"Rhode Island\",\"micro\",20],[\"South Carolina\",\"micro\",23],[\"South Dakota\",\"micro\",24],[\"Tennessee\",\"micro\",46],[\"Texas\",\"micro\",113],[\"Vermont\",\"micro\",13],[\"Virginia\",\"micro\",93],[\"West Virginia\",\"micro\",17],[\"Wisconsin\",\"micro\",71],[\"Wyoming\",\"micro\",11]],\"hovertemplate\":\"<b>%{hovertext}</b><br><br>brewery_type=%{customdata[1]}<br>latitude=%{lat}<br>longitude=%{lon}<br>state=%{customdata[0]}<br>name=%{customdata[2]}<extra></extra>\",\"hovertext\":[\"Alabama\",\"Alaska\",\"Arizona\",\"Arkansas\",\"California\",\"Colorado\",\"Connecticut\",\"Delaware\",\"Florida\",\"Georgia\",\"Hawaii\",\"Idaho\",\"Illinois\",\"Indiana\",\"Iowa\",\"Kansas\",\"Kentucky\",\"Louisiana\",\"Maine\",\"Maryland\",\"Massachusetts\",\"Michigan\",\"Minnesota\",\"Mississippi\",\"Montana\",\"Nebraska\",\"Nevada\",\"New Hampshire\",\"New Jersey\",\"New Mexico\",\"New York\",\"North Carolina\",\"North Dakota\",\"Ohio\",\"Oklahoma\",\"Oregon\",\"Pennsylvania\",\"Rhode Island\",\"South Carolina\",\"South Dakota\",\"Tennessee\",\"Texas\",\"Vermont\",\"Virginia\",\"West Virginia\",\"Wisconsin\",\"Wyoming\"],\"lat\":[32.806671,61.370716,33.729759,34.969704,36.116203,39.059811,41.597782,39.318523,27.766279,33.040619,21.094318,44.240459,40.349457,39.849426,42.011539,38.5266,37.66814,31.169546,44.693947,39.063946,42.230171,43.326618,45.694454,32.741646,46.921925,41.12537,38.313515,43.452492,40.298904,34.840515,42.165726,35.630066,47.528912,40.388783,35.565342,44.572021,40.590752,41.680893,33.856892,44.299782,35.747845,31.054487,44.045876,37.769337,38.491226,44.268543,42.755966],\"legendgroup\":\"micro\",\"lon\":[-86.79113,-152.404419,-111.431221,-92.373123,-119.681564,-105.311104,-72.755371,-75.507141,-81.686783,-83.643074,-157.498337,-114.478828,-88.986137,-86.258278,-93.210526,-96.726486,-84.670067,-91.867805,-69.381927,-76.802101,-71.530106,-84.536095,-93.900192,-89.678696,-110.454353,-98.268082,-117.055374,-71.563896,-74.521011,-106.248482,-74.948051,-79.806419,-99.784012,-82.764915,-96.928917,-122.070938,-77.209755,-71.51178,-80.945007,-99.438828,-86.692345,-97.563461,-72.710686,-78.169968,-80.954453,-89.616508,-107.30249],\"marker\":{\"color\":\"#00cc96\"},\"mode\":\"markers\",\"name\":\"micro\",\"showlegend\":true,\"subplot\":\"mapbox\",\"type\":\"scattermapbox\"},{\"customdata\":[[\"Alabama\",\"planning\",8],[\"Alaska\",\"planning\",2],[\"Arizona\",\"planning\",13],[\"Arkansas\",\"planning\",4],[\"California\",\"planning\",67],[\"Colorado\",\"planning\",5],[\"Oklahoma\",\"planning\",1],[\"Oregon\",\"planning\",6],[\"South Dakota\",\"planning\",1]],\"hovertemplate\":\"<b>%{hovertext}</b><br><br>brewery_type=%{customdata[1]}<br>latitude=%{lat}<br>longitude=%{lon}<br>state=%{customdata[0]}<br>name=%{customdata[2]}<extra></extra>\",\"hovertext\":[\"Alabama\",\"Alaska\",\"Arizona\",\"Arkansas\",\"California\",\"Colorado\",\"Oklahoma\",\"Oregon\",\"South Dakota\"],\"lat\":[32.806671,61.370716,33.729759,34.969704,36.116203,39.059811,35.565342,44.572021,44.299782],\"legendgroup\":\"planning\",\"lon\":[-86.79113,-152.404419,-111.431221,-92.373123,-119.681564,-105.311104,-96.928917,-122.070938,-99.438828],\"marker\":{\"color\":\"#ab63fa\"},\"mode\":\"markers\",\"name\":\"planning\",\"showlegend\":true,\"subplot\":\"mapbox\",\"type\":\"scattermapbox\"},{\"customdata\":[[\"Alaska\",\"closed\",4],[\"California\",\"closed\",51],[\"Connecticut\",\"closed\",2],[\"Hawaii\",\"closed\",3],[\"Idaho\",\"closed\",3],[\"Iowa\",\"closed\",2],[\"Nebraska\",\"closed\",1],[\"North Dakota\",\"closed\",2],[\"Ohio\",\"closed\",1],[\"Oklahoma\",\"closed\",1],[\"Oregon\",\"closed\",11],[\"South Carolina\",\"closed\",1],[\"South Dakota\",\"closed\",2],[\"Texas\",\"closed\",1]],\"hovertemplate\":\"<b>%{hovertext}</b><br><br>brewery_type=%{customdata[1]}<br>latitude=%{lat}<br>longitude=%{lon}<br>state=%{customdata[0]}<br>name=%{customdata[2]}<extra></extra>\",\"hovertext\":[\"Alaska\",\"California\",\"Connecticut\",\"Hawaii\",\"Idaho\",\"Iowa\",\"Nebraska\",\"North Dakota\",\"Ohio\",\"Oklahoma\",\"Oregon\",\"South Carolina\",\"South Dakota\",\"Texas\"],\"lat\":[61.370716,36.116203,41.597782,21.094318,44.240459,42.011539,41.12537,47.528912,40.388783,35.565342,44.572021,33.856892,44.299782,31.054487],\"legendgroup\":\"closed\",\"lon\":[-152.404419,-119.681564,-72.755371,-157.498337,-114.478828,-93.210526,-98.268082,-99.784012,-82.764915,-96.928917,-122.070938,-80.945007,-99.438828,-97.563461],\"marker\":{\"color\":\"#FFA15A\"},\"mode\":\"markers\",\"name\":\"closed\",\"showlegend\":true,\"subplot\":\"mapbox\",\"type\":\"scattermapbox\"},{\"customdata\":[[\"Alaska\",\"regional\",1],[\"Arizona\",\"regional\",1],[\"California\",\"regional\",29],[\"Colorado\",\"regional\",8],[\"Connecticut\",\"regional\",2],[\"Delaware\",\"regional\",1],[\"Florida\",\"regional\",3],[\"Georgia\",\"regional\",2],[\"Hawaii\",\"regional\",1],[\"Illinois\",\"regional\",2],[\"Indiana\",\"regional\",2],[\"Kansas\",\"regional\",1],[\"Kentucky\",\"regional\",1],[\"Maine\",\"regional\",3],[\"Maryland\",\"regional\",2],[\"Massachusetts\",\"regional\",8],[\"Michigan\",\"regional\",5],[\"Minnesota\",\"regional\",5],[\"Montana\",\"regional\",1],[\"New Hampshire\",\"regional\",2],[\"New Jersey\",\"regional\",1],[\"New Mexico\",\"regional\",2],[\"New York\",\"regional\",6],[\"North Carolina\",\"regional\",9],[\"Ohio\",\"regional\",8],[\"Oregon\",\"regional\",13],[\"Pennsylvania\",\"regional\",8],[\"Rhode Island\",\"regional\",1],[\"Tennessee\",\"regional\",2],[\"Texas\",\"regional\",8],[\"Vermont\",\"regional\",5],[\"Virginia\",\"regional\",2],[\"Wisconsin\",\"regional\",9]],\"hovertemplate\":\"<b>%{hovertext}</b><br><br>brewery_type=%{customdata[1]}<br>latitude=%{lat}<br>longitude=%{lon}<br>state=%{customdata[0]}<br>name=%{customdata[2]}<extra></extra>\",\"hovertext\":[\"Alaska\",\"Arizona\",\"California\",\"Colorado\",\"Connecticut\",\"Delaware\",\"Florida\",\"Georgia\",\"Hawaii\",\"Illinois\",\"Indiana\",\"Kansas\",\"Kentucky\",\"Maine\",\"Maryland\",\"Massachusetts\",\"Michigan\",\"Minnesota\",\"Montana\",\"New Hampshire\",\"New Jersey\",\"New Mexico\",\"New York\",\"North Carolina\",\"Ohio\",\"Oregon\",\"Pennsylvania\",\"Rhode Island\",\"Tennessee\",\"Texas\",\"Vermont\",\"Virginia\",\"Wisconsin\"],\"lat\":[61.370716,33.729759,36.116203,39.059811,41.597782,39.318523,27.766279,33.040619,21.094318,40.349457,39.849426,38.5266,37.66814,44.693947,39.063946,42.230171,43.326618,45.694454,46.921925,43.452492,40.298904,34.840515,42.165726,35.630066,40.388783,44.572021,40.590752,41.680893,35.747845,31.054487,44.045876,37.769337,44.268543],\"legendgroup\":\"regional\",\"lon\":[-152.404419,-111.431221,-119.681564,-105.311104,-72.755371,-75.507141,-81.686783,-83.643074,-157.498337,-88.986137,-86.258278,-96.726486,-84.670067,-69.381927,-76.802101,-71.530106,-84.536095,-93.900192,-110.454353,-71.563896,-74.521011,-106.248482,-74.948051,-79.806419,-82.764915,-122.070938,-77.209755,-71.51178,-86.692345,-97.563461,-72.710686,-78.169968,-89.616508],\"marker\":{\"color\":\"#19d3f3\"},\"mode\":\"markers\",\"name\":\"regional\",\"showlegend\":true,\"subplot\":\"mapbox\",\"type\":\"scattermapbox\"},{\"customdata\":[[\"Arizona\",\"large\",1],[\"California\",\"large\",15],[\"Colorado\",\"large\",6],[\"Florida\",\"large\",3],[\"Georgia\",\"large\",2],[\"Idaho\",\"large\",1],[\"Illinois\",\"large\",2],[\"Maryland\",\"large\",1],[\"New Hampshire\",\"large\",1],[\"New York\",\"large\",3],[\"North Carolina\",\"large\",3],[\"Ohio\",\"large\",2],[\"Oregon\",\"large\",6],[\"Texas\",\"large\",3],[\"Virginia\",\"large\",3],[\"Wisconsin\",\"large\",4]],\"hovertemplate\":\"<b>%{hovertext}</b><br><br>brewery_type=%{customdata[1]}<br>latitude=%{lat}<br>longitude=%{lon}<br>state=%{customdata[0]}<br>name=%{customdata[2]}<extra></extra>\",\"hovertext\":[\"Arizona\",\"California\",\"Colorado\",\"Florida\",\"Georgia\",\"Idaho\",\"Illinois\",\"Maryland\",\"New Hampshire\",\"New York\",\"North Carolina\",\"Ohio\",\"Oregon\",\"Texas\",\"Virginia\",\"Wisconsin\"],\"lat\":[33.729759,36.116203,39.059811,27.766279,33.040619,44.240459,40.349457,39.063946,43.452492,42.165726,35.630066,40.388783,44.572021,31.054487,37.769337,44.268543],\"legendgroup\":\"large\",\"lon\":[-111.431221,-119.681564,-105.311104,-81.686783,-83.643074,-114.478828,-88.986137,-76.802101,-71.563896,-74.948051,-79.806419,-82.764915,-122.070938,-97.563461,-78.169968,-89.616508],\"marker\":{\"color\":\"#FF6692\"},\"mode\":\"markers\",\"name\":\"large\",\"showlegend\":true,\"subplot\":\"mapbox\",\"type\":\"scattermapbox\"},{\"customdata\":[[\"California\",\"proprietor\",13],[\"Colorado\",\"proprietor\",1],[\"Florida\",\"proprietor\",3],[\"Georgia\",\"proprietor\",1],[\"Idaho\",\"proprietor\",1],[\"Illinois\",\"proprietor\",3],[\"Maine\",\"proprietor\",1],[\"Maryland\",\"proprietor\",1],[\"Massachusetts\",\"proprietor\",1],[\"Minnesota\",\"proprietor\",2],[\"New Mexico\",\"proprietor\",1],[\"New York\",\"proprietor\",6],[\"North Carolina\",\"proprietor\",2],[\"Oregon\",\"proprietor\",2],[\"Pennsylvania\",\"proprietor\",1],[\"Rhode Island\",\"proprietor\",1],[\"South Dakota\",\"proprietor\",1],[\"West Virginia\",\"proprietor\",1],[\"Wisconsin\",\"proprietor\",2]],\"hovertemplate\":\"<b>%{hovertext}</b><br><br>brewery_type=%{customdata[1]}<br>latitude=%{lat}<br>longitude=%{lon}<br>state=%{customdata[0]}<br>name=%{customdata[2]}<extra></extra>\",\"hovertext\":[\"California\",\"Colorado\",\"Florida\",\"Georgia\",\"Idaho\",\"Illinois\",\"Maine\",\"Maryland\",\"Massachusetts\",\"Minnesota\",\"New Mexico\",\"New York\",\"North Carolina\",\"Oregon\",\"Pennsylvania\",\"Rhode Island\",\"South Dakota\",\"West Virginia\",\"Wisconsin\"],\"lat\":[36.116203,39.059811,27.766279,33.040619,44.240459,40.349457,44.693947,39.063946,42.230171,45.694454,34.840515,42.165726,35.630066,44.572021,40.590752,41.680893,44.299782,38.491226,44.268543],\"legendgroup\":\"proprietor\",\"lon\":[-119.681564,-105.311104,-81.686783,-83.643074,-114.478828,-88.986137,-69.381927,-76.802101,-71.530106,-93.900192,-106.248482,-74.948051,-79.806419,-122.070938,-77.209755,-71.51178,-99.438828,-80.954453,-89.616508],\"marker\":{\"color\":\"#B6E880\"},\"mode\":\"markers\",\"name\":\"proprietor\",\"showlegend\":true,\"subplot\":\"mapbox\",\"type\":\"scattermapbox\"},{\"customdata\":[[\"Nevada\",\"bar\",1],[\"North Dakota\",\"bar\",1]],\"hovertemplate\":\"<b>%{hovertext}</b><br><br>brewery_type=%{customdata[1]}<br>latitude=%{lat}<br>longitude=%{lon}<br>state=%{customdata[0]}<br>name=%{customdata[2]}<extra></extra>\",\"hovertext\":[\"Nevada\",\"North Dakota\"],\"lat\":[38.313515,47.528912],\"legendgroup\":\"bar\",\"lon\":[-117.055374,-99.784012],\"marker\":{\"color\":\"#FF97FF\"},\"mode\":\"markers\",\"name\":\"bar\",\"showlegend\":true,\"subplot\":\"mapbox\",\"type\":\"scattermapbox\"},{\"customdata\":[[\"North Dakota\",\"nano\",2],[\"Wisconsin\",\"nano\",1]],\"hovertemplate\":\"<b>%{hovertext}</b><br><br>brewery_type=%{customdata[1]}<br>latitude=%{lat}<br>longitude=%{lon}<br>state=%{customdata[0]}<br>name=%{customdata[2]}<extra></extra>\",\"hovertext\":[\"North Dakota\",\"Wisconsin\"],\"lat\":[47.528912,44.268543],\"legendgroup\":\"nano\",\"lon\":[-99.784012,-89.616508],\"marker\":{\"color\":\"#FECB52\"},\"mode\":\"markers\",\"name\":\"nano\",\"showlegend\":true,\"subplot\":\"mapbox\",\"type\":\"scattermapbox\"}],                        {\"template\":{\"data\":{\"histogram2dcontour\":[{\"type\":\"histogram2dcontour\",\"colorbar\":{\"outlinewidth\":0,\"ticks\":\"\"},\"colorscale\":[[0.0,\"#0d0887\"],[0.1111111111111111,\"#46039f\"],[0.2222222222222222,\"#7201a8\"],[0.3333333333333333,\"#9c179e\"],[0.4444444444444444,\"#bd3786\"],[0.5555555555555556,\"#d8576b\"],[0.6666666666666666,\"#ed7953\"],[0.7777777777777778,\"#fb9f3a\"],[0.8888888888888888,\"#fdca26\"],[1.0,\"#f0f921\"]]}],\"choropleth\":[{\"type\":\"choropleth\",\"colorbar\":{\"outlinewidth\":0,\"ticks\":\"\"}}],\"histogram2d\":[{\"type\":\"histogram2d\",\"colorbar\":{\"outlinewidth\":0,\"ticks\":\"\"},\"colorscale\":[[0.0,\"#0d0887\"],[0.1111111111111111,\"#46039f\"],[0.2222222222222222,\"#7201a8\"],[0.3333333333333333,\"#9c179e\"],[0.4444444444444444,\"#bd3786\"],[0.5555555555555556,\"#d8576b\"],[0.6666666666666666,\"#ed7953\"],[0.7777777777777778,\"#fb9f3a\"],[0.8888888888888888,\"#fdca26\"],[1.0,\"#f0f921\"]]}],\"heatmap\":[{\"type\":\"heatmap\",\"colorbar\":{\"outlinewidth\":0,\"ticks\":\"\"},\"colorscale\":[[0.0,\"#0d0887\"],[0.1111111111111111,\"#46039f\"],[0.2222222222222222,\"#7201a8\"],[0.3333333333333333,\"#9c179e\"],[0.4444444444444444,\"#bd3786\"],[0.5555555555555556,\"#d8576b\"],[0.6666666666666666,\"#ed7953\"],[0.7777777777777778,\"#fb9f3a\"],[0.8888888888888888,\"#fdca26\"],[1.0,\"#f0f921\"]]}],\"heatmapgl\":[{\"type\":\"heatmapgl\",\"colorbar\":{\"outlinewidth\":0,\"ticks\":\"\"},\"colorscale\":[[0.0,\"#0d0887\"],[0.1111111111111111,\"#46039f\"],[0.2222222222222222,\"#7201a8\"],[0.3333333333333333,\"#9c179e\"],[0.4444444444444444,\"#bd3786\"],[0.5555555555555556,\"#d8576b\"],[0.6666666666666666,\"#ed7953\"],[0.7777777777777778,\"#fb9f3a\"],[0.8888888888888888,\"#fdca26\"],[1.0,\"#f0f921\"]]}],\"contourcarpet\":[{\"type\":\"contourcarpet\",\"colorbar\":{\"outlinewidth\":0,\"ticks\":\"\"}}],\"contour\":[{\"type\":\"contour\",\"colorbar\":{\"outlinewidth\":0,\"ticks\":\"\"},\"colorscale\":[[0.0,\"#0d0887\"],[0.1111111111111111,\"#46039f\"],[0.2222222222222222,\"#7201a8\"],[0.3333333333333333,\"#9c179e\"],[0.4444444444444444,\"#bd3786\"],[0.5555555555555556,\"#d8576b\"],[0.6666666666666666,\"#ed7953\"],[0.7777777777777778,\"#fb9f3a\"],[0.8888888888888888,\"#fdca26\"],[1.0,\"#f0f921\"]]}],\"surface\":[{\"type\":\"surface\",\"colorbar\":{\"outlinewidth\":0,\"ticks\":\"\"},\"colorscale\":[[0.0,\"#0d0887\"],[0.1111111111111111,\"#46039f\"],[0.2222222222222222,\"#7201a8\"],[0.3333333333333333,\"#9c179e\"],[0.4444444444444444,\"#bd3786\"],[0.5555555555555556,\"#d8576b\"],[0.6666666666666666,\"#ed7953\"],[0.7777777777777778,\"#fb9f3a\"],[0.8888888888888888,\"#fdca26\"],[1.0,\"#f0f921\"]]}],\"mesh3d\":[{\"type\":\"mesh3d\",\"colorbar\":{\"outlinewidth\":0,\"ticks\":\"\"}}],\"scatter\":[{\"fillpattern\":{\"fillmode\":\"overlay\",\"size\":10,\"solidity\":0.2},\"type\":\"scatter\"}],\"parcoords\":[{\"type\":\"parcoords\",\"line\":{\"colorbar\":{\"outlinewidth\":0,\"ticks\":\"\"}}}],\"scatterpolargl\":[{\"type\":\"scatterpolargl\",\"marker\":{\"colorbar\":{\"outlinewidth\":0,\"ticks\":\"\"}}}],\"bar\":[{\"error_x\":{\"color\":\"#2a3f5f\"},\"error_y\":{\"color\":\"#2a3f5f\"},\"marker\":{\"line\":{\"color\":\"#E5ECF6\",\"width\":0.5},\"pattern\":{\"fillmode\":\"overlay\",\"size\":10,\"solidity\":0.2}},\"type\":\"bar\"}],\"scattergeo\":[{\"type\":\"scattergeo\",\"marker\":{\"colorbar\":{\"outlinewidth\":0,\"ticks\":\"\"}}}],\"scatterpolar\":[{\"type\":\"scatterpolar\",\"marker\":{\"colorbar\":{\"outlinewidth\":0,\"ticks\":\"\"}}}],\"histogram\":[{\"marker\":{\"pattern\":{\"fillmode\":\"overlay\",\"size\":10,\"solidity\":0.2}},\"type\":\"histogram\"}],\"scattergl\":[{\"type\":\"scattergl\",\"marker\":{\"colorbar\":{\"outlinewidth\":0,\"ticks\":\"\"}}}],\"scatter3d\":[{\"type\":\"scatter3d\",\"line\":{\"colorbar\":{\"outlinewidth\":0,\"ticks\":\"\"}},\"marker\":{\"colorbar\":{\"outlinewidth\":0,\"ticks\":\"\"}}}],\"scattermapbox\":[{\"type\":\"scattermapbox\",\"marker\":{\"colorbar\":{\"outlinewidth\":0,\"ticks\":\"\"}}}],\"scatterternary\":[{\"type\":\"scatterternary\",\"marker\":{\"colorbar\":{\"outlinewidth\":0,\"ticks\":\"\"}}}],\"scattercarpet\":[{\"type\":\"scattercarpet\",\"marker\":{\"colorbar\":{\"outlinewidth\":0,\"ticks\":\"\"}}}],\"carpet\":[{\"aaxis\":{\"endlinecolor\":\"#2a3f5f\",\"gridcolor\":\"white\",\"linecolor\":\"white\",\"minorgridcolor\":\"white\",\"startlinecolor\":\"#2a3f5f\"},\"baxis\":{\"endlinecolor\":\"#2a3f5f\",\"gridcolor\":\"white\",\"linecolor\":\"white\",\"minorgridcolor\":\"white\",\"startlinecolor\":\"#2a3f5f\"},\"type\":\"carpet\"}],\"table\":[{\"cells\":{\"fill\":{\"color\":\"#EBF0F8\"},\"line\":{\"color\":\"white\"}},\"header\":{\"fill\":{\"color\":\"#C8D4E3\"},\"line\":{\"color\":\"white\"}},\"type\":\"table\"}],\"barpolar\":[{\"marker\":{\"line\":{\"color\":\"#E5ECF6\",\"width\":0.5},\"pattern\":{\"fillmode\":\"overlay\",\"size\":10,\"solidity\":0.2}},\"type\":\"barpolar\"}],\"pie\":[{\"automargin\":true,\"type\":\"pie\"}]},\"layout\":{\"autotypenumbers\":\"strict\",\"colorway\":[\"#636efa\",\"#EF553B\",\"#00cc96\",\"#ab63fa\",\"#FFA15A\",\"#19d3f3\",\"#FF6692\",\"#B6E880\",\"#FF97FF\",\"#FECB52\"],\"font\":{\"color\":\"#2a3f5f\"},\"hovermode\":\"closest\",\"hoverlabel\":{\"align\":\"left\"},\"paper_bgcolor\":\"white\",\"plot_bgcolor\":\"#E5ECF6\",\"polar\":{\"bgcolor\":\"#E5ECF6\",\"angularaxis\":{\"gridcolor\":\"white\",\"linecolor\":\"white\",\"ticks\":\"\"},\"radialaxis\":{\"gridcolor\":\"white\",\"linecolor\":\"white\",\"ticks\":\"\"}},\"ternary\":{\"bgcolor\":\"#E5ECF6\",\"aaxis\":{\"gridcolor\":\"white\",\"linecolor\":\"white\",\"ticks\":\"\"},\"baxis\":{\"gridcolor\":\"white\",\"linecolor\":\"white\",\"ticks\":\"\"},\"caxis\":{\"gridcolor\":\"white\",\"linecolor\":\"white\",\"ticks\":\"\"}},\"coloraxis\":{\"colorbar\":{\"outlinewidth\":0,\"ticks\":\"\"}},\"colorscale\":{\"sequential\":[[0.0,\"#0d0887\"],[0.1111111111111111,\"#46039f\"],[0.2222222222222222,\"#7201a8\"],[0.3333333333333333,\"#9c179e\"],[0.4444444444444444,\"#bd3786\"],[0.5555555555555556,\"#d8576b\"],[0.6666666666666666,\"#ed7953\"],[0.7777777777777778,\"#fb9f3a\"],[0.8888888888888888,\"#fdca26\"],[1.0,\"#f0f921\"]],\"sequentialminus\":[[0.0,\"#0d0887\"],[0.1111111111111111,\"#46039f\"],[0.2222222222222222,\"#7201a8\"],[0.3333333333333333,\"#9c179e\"],[0.4444444444444444,\"#bd3786\"],[0.5555555555555556,\"#d8576b\"],[0.6666666666666666,\"#ed7953\"],[0.7777777777777778,\"#fb9f3a\"],[0.8888888888888888,\"#fdca26\"],[1.0,\"#f0f921\"]],\"diverging\":[[0,\"#8e0152\"],[0.1,\"#c51b7d\"],[0.2,\"#de77ae\"],[0.3,\"#f1b6da\"],[0.4,\"#fde0ef\"],[0.5,\"#f7f7f7\"],[0.6,\"#e6f5d0\"],[0.7,\"#b8e186\"],[0.8,\"#7fbc41\"],[0.9,\"#4d9221\"],[1,\"#276419\"]]},\"xaxis\":{\"gridcolor\":\"white\",\"linecolor\":\"white\",\"ticks\":\"\",\"title\":{\"standoff\":15},\"zerolinecolor\":\"white\",\"automargin\":true,\"zerolinewidth\":2},\"yaxis\":{\"gridcolor\":\"white\",\"linecolor\":\"white\",\"ticks\":\"\",\"title\":{\"standoff\":15},\"zerolinecolor\":\"white\",\"automargin\":true,\"zerolinewidth\":2},\"scene\":{\"xaxis\":{\"backgroundcolor\":\"#E5ECF6\",\"gridcolor\":\"white\",\"linecolor\":\"white\",\"showbackground\":true,\"ticks\":\"\",\"zerolinecolor\":\"white\",\"gridwidth\":2},\"yaxis\":{\"backgroundcolor\":\"#E5ECF6\",\"gridcolor\":\"white\",\"linecolor\":\"white\",\"showbackground\":true,\"ticks\":\"\",\"zerolinecolor\":\"white\",\"gridwidth\":2},\"zaxis\":{\"backgroundcolor\":\"#E5ECF6\",\"gridcolor\":\"white\",\"linecolor\":\"white\",\"showbackground\":true,\"ticks\":\"\",\"zerolinecolor\":\"white\",\"gridwidth\":2}},\"shapedefaults\":{\"line\":{\"color\":\"#2a3f5f\"}},\"annotationdefaults\":{\"arrowcolor\":\"#2a3f5f\",\"arrowhead\":0,\"arrowwidth\":1},\"geo\":{\"bgcolor\":\"white\",\"landcolor\":\"#E5ECF6\",\"subunitcolor\":\"white\",\"showland\":true,\"showlakes\":true,\"lakecolor\":\"white\"},\"title\":{\"x\":0.05},\"mapbox\":{\"style\":\"light\"}}},\"mapbox\":{\"domain\":{\"x\":[0.0,1.0],\"y\":[0.0,1.0]},\"center\":{\"lat\":39.550806396396396,\"lon\":-93.75149586036034},\"zoom\":2,\"style\":\"carto-positron\"},\"legend\":{\"title\":{\"text\":\"brewery_type\"},\"tracegroupgap\":0},\"title\":{\"text\":\"Breweries by State and Type\"}},                        {\"responsive\": true}                    ).then(function(){\n",
       "                            \n",
       "var gd = document.getElementById('0dcfed4b-a296-44af-9583-badbb8ef50ef');\n",
       "var x = new MutationObserver(function (mutations, observer) {{\n",
       "        var display = window.getComputedStyle(gd).display;\n",
       "        if (!display || display === 'none') {{\n",
       "            console.log([gd, 'removed!']);\n",
       "            Plotly.purge(gd);\n",
       "            observer.disconnect();\n",
       "        }}\n",
       "}});\n",
       "\n",
       "// Listen for the removal of the full notebook cells\n",
       "var notebookContainer = gd.closest('#notebook-container');\n",
       "if (notebookContainer) {{\n",
       "    x.observe(notebookContainer, {childList: true});\n",
       "}}\n",
       "\n",
       "// Listen for the clearing of the current output cell\n",
       "var outputEl = gd.closest('.output');\n",
       "if (outputEl) {{\n",
       "    x.observe(outputEl, {childList: true});\n",
       "}}\n",
       "\n",
       "                        })                };                });            </script>        </div>"
      ]
     },
     "metadata": {},
     "output_type": "display_data"
    },
    {
     "ename": "ValueError",
     "evalue": "\nImage export using the \"kaleido\" engine requires the kaleido package,\nwhich can be installed using pip:\n    $ pip install -U kaleido\n",
     "output_type": "error",
     "traceback": [
      "\u001b[1;31m---------------------------------------------------------------------------\u001b[0m",
      "\u001b[1;31mValueError\u001b[0m                                Traceback (most recent call last)",
      "Cell \u001b[1;32mIn[138], line 6\u001b[0m\n\u001b[0;32m      1\u001b[0m fig \u001b[38;5;241m=\u001b[39m px\u001b[38;5;241m.\u001b[39mscatter_mapbox(grouped_data, lat\u001b[38;5;241m=\u001b[39m\u001b[38;5;124m'\u001b[39m\u001b[38;5;124mlatitude\u001b[39m\u001b[38;5;124m'\u001b[39m, lon\u001b[38;5;241m=\u001b[39m\u001b[38;5;124m'\u001b[39m\u001b[38;5;124mlongitude\u001b[39m\u001b[38;5;124m'\u001b[39m, hover_name\u001b[38;5;241m=\u001b[39m\u001b[38;5;124m'\u001b[39m\u001b[38;5;124mstate\u001b[39m\u001b[38;5;124m'\u001b[39m,\n\u001b[0;32m      2\u001b[0m                         hover_data\u001b[38;5;241m=\u001b[39m{\u001b[38;5;124m'\u001b[39m\u001b[38;5;124mstate\u001b[39m\u001b[38;5;124m'\u001b[39m: \u001b[38;5;28;01mTrue\u001b[39;00m, \u001b[38;5;124m'\u001b[39m\u001b[38;5;124mbrewery_type\u001b[39m\u001b[38;5;124m'\u001b[39m: \u001b[38;5;28;01mTrue\u001b[39;00m, \u001b[38;5;124m'\u001b[39m\u001b[38;5;124mname\u001b[39m\u001b[38;5;124m'\u001b[39m: \u001b[38;5;28;01mTrue\u001b[39;00m},\n\u001b[0;32m      3\u001b[0m                         color\u001b[38;5;241m=\u001b[39m\u001b[38;5;124m'\u001b[39m\u001b[38;5;124mbrewery_type\u001b[39m\u001b[38;5;124m'\u001b[39m, zoom\u001b[38;5;241m=\u001b[39m\u001b[38;5;241m2\u001b[39m, mapbox_style\u001b[38;5;241m=\u001b[39m\u001b[38;5;124m'\u001b[39m\u001b[38;5;124mcarto-positron\u001b[39m\u001b[38;5;124m'\u001b[39m,\n\u001b[0;32m      4\u001b[0m                         title\u001b[38;5;241m=\u001b[39m\u001b[38;5;124m'\u001b[39m\u001b[38;5;124mBreweries by State and Type\u001b[39m\u001b[38;5;124m'\u001b[39m)\n\u001b[0;32m      5\u001b[0m fig\u001b[38;5;241m.\u001b[39mshow()\n\u001b[1;32m----> 6\u001b[0m \u001b[43mfig\u001b[49m\u001b[38;5;241;43m.\u001b[39;49m\u001b[43mwrite_image\u001b[49m\u001b[43m(\u001b[49m\u001b[38;5;124;43m\"\u001b[39;49m\u001b[38;5;124;43mbreweries_map.png\u001b[39;49m\u001b[38;5;124;43m\"\u001b[39;49m\u001b[43m)\u001b[49m\n",
      "File \u001b[1;32m~\\anaconda3\\envs\\dev\\lib\\site-packages\\plotly\\basedatatypes.py:3829\u001b[0m, in \u001b[0;36mBaseFigure.write_image\u001b[1;34m(self, *args, **kwargs)\u001b[0m\n\u001b[0;32m   3769\u001b[0m \u001b[38;5;124;03m\"\"\"\u001b[39;00m\n\u001b[0;32m   3770\u001b[0m \u001b[38;5;124;03mConvert a figure to a static image and write it to a file or writeable\u001b[39;00m\n\u001b[0;32m   3771\u001b[0m \u001b[38;5;124;03mobject\u001b[39;00m\n\u001b[1;32m   (...)\u001b[0m\n\u001b[0;32m   3825\u001b[0m \u001b[38;5;124;03mNone\u001b[39;00m\n\u001b[0;32m   3826\u001b[0m \u001b[38;5;124;03m\"\"\"\u001b[39;00m\n\u001b[0;32m   3827\u001b[0m \u001b[38;5;28;01mimport\u001b[39;00m \u001b[38;5;21;01mplotly\u001b[39;00m\u001b[38;5;21;01m.\u001b[39;00m\u001b[38;5;21;01mio\u001b[39;00m \u001b[38;5;28;01mas\u001b[39;00m \u001b[38;5;21;01mpio\u001b[39;00m\n\u001b[1;32m-> 3829\u001b[0m \u001b[38;5;28;01mreturn\u001b[39;00m pio\u001b[38;5;241m.\u001b[39mwrite_image(\u001b[38;5;28mself\u001b[39m, \u001b[38;5;241m*\u001b[39margs, \u001b[38;5;241m*\u001b[39m\u001b[38;5;241m*\u001b[39mkwargs)\n",
      "File \u001b[1;32m~\\anaconda3\\envs\\dev\\lib\\site-packages\\plotly\\io\\_kaleido.py:267\u001b[0m, in \u001b[0;36mwrite_image\u001b[1;34m(fig, file, format, scale, width, height, validate, engine)\u001b[0m\n\u001b[0;32m    251\u001b[0m             \u001b[38;5;28;01mraise\u001b[39;00m \u001b[38;5;167;01mValueError\u001b[39;00m(\n\u001b[0;32m    252\u001b[0m                 \u001b[38;5;124;03m\"\"\"\u001b[39;00m\n\u001b[0;32m    253\u001b[0m \u001b[38;5;124;03mCannot infer image type from output path '{file}'.\u001b[39;00m\n\u001b[1;32m   (...)\u001b[0m\n\u001b[0;32m    261\u001b[0m                 )\n\u001b[0;32m    262\u001b[0m             )\n\u001b[0;32m    264\u001b[0m     \u001b[38;5;66;03m# Request image\u001b[39;00m\n\u001b[0;32m    265\u001b[0m     \u001b[38;5;66;03m# -------------\u001b[39;00m\n\u001b[0;32m    266\u001b[0m     \u001b[38;5;66;03m# Do this first so we don't create a file if image conversion fails\u001b[39;00m\n\u001b[1;32m--> 267\u001b[0m     img_data \u001b[38;5;241m=\u001b[39m \u001b[43mto_image\u001b[49m\u001b[43m(\u001b[49m\n\u001b[0;32m    268\u001b[0m \u001b[43m        \u001b[49m\u001b[43mfig\u001b[49m\u001b[43m,\u001b[49m\n\u001b[0;32m    269\u001b[0m \u001b[43m        \u001b[49m\u001b[38;5;28;43mformat\u001b[39;49m\u001b[38;5;241;43m=\u001b[39;49m\u001b[38;5;28;43mformat\u001b[39;49m\u001b[43m,\u001b[49m\n\u001b[0;32m    270\u001b[0m \u001b[43m        \u001b[49m\u001b[43mscale\u001b[49m\u001b[38;5;241;43m=\u001b[39;49m\u001b[43mscale\u001b[49m\u001b[43m,\u001b[49m\n\u001b[0;32m    271\u001b[0m \u001b[43m        \u001b[49m\u001b[43mwidth\u001b[49m\u001b[38;5;241;43m=\u001b[39;49m\u001b[43mwidth\u001b[49m\u001b[43m,\u001b[49m\n\u001b[0;32m    272\u001b[0m \u001b[43m        \u001b[49m\u001b[43mheight\u001b[49m\u001b[38;5;241;43m=\u001b[39;49m\u001b[43mheight\u001b[49m\u001b[43m,\u001b[49m\n\u001b[0;32m    273\u001b[0m \u001b[43m        \u001b[49m\u001b[43mvalidate\u001b[49m\u001b[38;5;241;43m=\u001b[39;49m\u001b[43mvalidate\u001b[49m\u001b[43m,\u001b[49m\n\u001b[0;32m    274\u001b[0m \u001b[43m        \u001b[49m\u001b[43mengine\u001b[49m\u001b[38;5;241;43m=\u001b[39;49m\u001b[43mengine\u001b[49m\u001b[43m,\u001b[49m\n\u001b[0;32m    275\u001b[0m \u001b[43m    \u001b[49m\u001b[43m)\u001b[49m\n\u001b[0;32m    277\u001b[0m     \u001b[38;5;66;03m# Open file\u001b[39;00m\n\u001b[0;32m    278\u001b[0m     \u001b[38;5;66;03m# ---------\u001b[39;00m\n\u001b[0;32m    279\u001b[0m     \u001b[38;5;28;01mif\u001b[39;00m path \u001b[38;5;129;01mis\u001b[39;00m \u001b[38;5;28;01mNone\u001b[39;00m:\n\u001b[0;32m    280\u001b[0m         \u001b[38;5;66;03m# We previously failed to make sense of `file` as a pathlib object.\u001b[39;00m\n\u001b[0;32m    281\u001b[0m         \u001b[38;5;66;03m# Attempt to write to `file` as an open file descriptor.\u001b[39;00m\n",
      "File \u001b[1;32m~\\anaconda3\\envs\\dev\\lib\\site-packages\\plotly\\io\\_kaleido.py:133\u001b[0m, in \u001b[0;36mto_image\u001b[1;34m(fig, format, width, height, scale, validate, engine)\u001b[0m\n\u001b[0;32m    131\u001b[0m     \u001b[38;5;66;03m# Raise informative error message if Kaleido is not installed\u001b[39;00m\n\u001b[0;32m    132\u001b[0m     \u001b[38;5;28;01mif\u001b[39;00m scope \u001b[38;5;129;01mis\u001b[39;00m \u001b[38;5;28;01mNone\u001b[39;00m:\n\u001b[1;32m--> 133\u001b[0m         \u001b[38;5;28;01mraise\u001b[39;00m \u001b[38;5;167;01mValueError\u001b[39;00m(\n\u001b[0;32m    134\u001b[0m             \u001b[38;5;124;03m\"\"\"\u001b[39;00m\n\u001b[0;32m    135\u001b[0m \u001b[38;5;124;03mImage export using the \"kaleido\" engine requires the kaleido package,\u001b[39;00m\n\u001b[0;32m    136\u001b[0m \u001b[38;5;124;03mwhich can be installed using pip:\u001b[39;00m\n\u001b[0;32m    137\u001b[0m \u001b[38;5;124;03m    $ pip install -U kaleido\u001b[39;00m\n\u001b[0;32m    138\u001b[0m \u001b[38;5;124;03m\"\"\"\u001b[39;00m\n\u001b[0;32m    139\u001b[0m         )\n\u001b[0;32m    141\u001b[0m     \u001b[38;5;66;03m# Validate figure\u001b[39;00m\n\u001b[0;32m    142\u001b[0m     \u001b[38;5;66;03m# ---------------\u001b[39;00m\n\u001b[0;32m    143\u001b[0m     fig_dict \u001b[38;5;241m=\u001b[39m validate_coerce_fig_to_dict(fig, validate)\n",
      "\u001b[1;31mValueError\u001b[0m: \nImage export using the \"kaleido\" engine requires the kaleido package,\nwhich can be installed using pip:\n    $ pip install -U kaleido\n"
     ]
    }
   ],
   "source": [
    "fig = px.scatter_mapbox(grouped_data, lat='latitude', lon='longitude', hover_name='state',\n",
    "                        hover_data={'state': True, 'brewery_type': True, 'name': True},\n",
    "                        color='brewery_type', zoom=2, mapbox_style='carto-positron',\n",
    "                        title='Breweries by State and Type')\n",
    "fig.show()\n",
    "fig.write_image(\"breweries_map.png\")"
   ]
  },
  {
   "cell_type": "code",
   "execution_count": null,
   "id": "50ebde48-e56d-4966-87bf-a7a45e140dc0",
   "metadata": {},
   "outputs": [],
   "source": []
  },
  {
   "cell_type": "code",
   "execution_count": 49,
   "id": "a48657dd-66be-41c4-bf33-7a939a7d2220",
   "metadata": {},
   "outputs": [],
   "source": [
    "all_states_df[\"postal_code\"] = all_states_df[\"postal_code\"].str[:5]"
   ]
  },
  {
   "cell_type": "code",
   "execution_count": 50,
   "id": "caa8c585-8ddf-4d56-81f5-a683babbf72f",
   "metadata": {},
   "outputs": [
    {
     "data": {
      "text/html": [
       "<div>\n",
       "<style scoped>\n",
       "    .dataframe tbody tr th:only-of-type {\n",
       "        vertical-align: middle;\n",
       "    }\n",
       "\n",
       "    .dataframe tbody tr th {\n",
       "        vertical-align: top;\n",
       "    }\n",
       "\n",
       "    .dataframe thead th {\n",
       "        text-align: right;\n",
       "    }\n",
       "</style>\n",
       "<table border=\"1\" class=\"dataframe\">\n",
       "  <thead>\n",
       "    <tr style=\"text-align: right;\">\n",
       "      <th></th>\n",
       "      <th>name</th>\n",
       "      <th>brewery_type</th>\n",
       "      <th>city</th>\n",
       "      <th>state</th>\n",
       "      <th>postal_code</th>\n",
       "      <th>longitude</th>\n",
       "      <th>latitude</th>\n",
       "    </tr>\n",
       "  </thead>\n",
       "  <tbody>\n",
       "    <tr>\n",
       "      <th>0</th>\n",
       "      <td>5 Rivers Brewing LLC</td>\n",
       "      <td>planning</td>\n",
       "      <td>Spanish Fort</td>\n",
       "      <td>Alabama</td>\n",
       "      <td>36527</td>\n",
       "      <td>-87.915272</td>\n",
       "      <td>30.674913</td>\n",
       "    </tr>\n",
       "    <tr>\n",
       "      <th>1</th>\n",
       "      <td>Avondale Brewing Co</td>\n",
       "      <td>micro</td>\n",
       "      <td>Birmingham</td>\n",
       "      <td>Alabama</td>\n",
       "      <td>35222</td>\n",
       "      <td>-86.774322</td>\n",
       "      <td>33.524521</td>\n",
       "    </tr>\n",
       "    <tr>\n",
       "      <th>2</th>\n",
       "      <td>Back Forty Beer Co</td>\n",
       "      <td>micro</td>\n",
       "      <td>Gadsden</td>\n",
       "      <td>Alabama</td>\n",
       "      <td>35901</td>\n",
       "      <td>-86.005006</td>\n",
       "      <td>34.016888</td>\n",
       "    </tr>\n",
       "    <tr>\n",
       "      <th>3</th>\n",
       "      <td>Band of Brothers Brewing Company</td>\n",
       "      <td>micro</td>\n",
       "      <td>Tuscaloosa</td>\n",
       "      <td>Alabama</td>\n",
       "      <td>35401</td>\n",
       "      <td>-87.562155</td>\n",
       "      <td>33.198491</td>\n",
       "    </tr>\n",
       "    <tr>\n",
       "      <th>4</th>\n",
       "      <td>Below the Radar Brewing Co</td>\n",
       "      <td>brewpub</td>\n",
       "      <td>Huntsville</td>\n",
       "      <td>Alabama</td>\n",
       "      <td>35801</td>\n",
       "      <td>-86.585839</td>\n",
       "      <td>34.732724</td>\n",
       "    </tr>\n",
       "    <tr>\n",
       "      <th>...</th>\n",
       "      <td>...</td>\n",
       "      <td>...</td>\n",
       "      <td>...</td>\n",
       "      <td>...</td>\n",
       "      <td>...</td>\n",
       "      <td>...</td>\n",
       "      <td>...</td>\n",
       "    </tr>\n",
       "    <tr>\n",
       "      <th>7912</th>\n",
       "      <td>Suds Brothers Brewing Co</td>\n",
       "      <td>brewpub</td>\n",
       "      <td>Evanston</td>\n",
       "      <td>Wyoming</td>\n",
       "      <td>82930</td>\n",
       "      <td>-110.966094</td>\n",
       "      <td>41.267987</td>\n",
       "    </tr>\n",
       "    <tr>\n",
       "      <th>7913</th>\n",
       "      <td>Ten Sleep Brewing Company</td>\n",
       "      <td>micro</td>\n",
       "      <td>Ten Sleep</td>\n",
       "      <td>Wyoming</td>\n",
       "      <td>82442</td>\n",
       "      <td>NaN</td>\n",
       "      <td>NaN</td>\n",
       "    </tr>\n",
       "    <tr>\n",
       "      <th>7914</th>\n",
       "      <td>Wind River Brewing Co - WY</td>\n",
       "      <td>brewpub</td>\n",
       "      <td>Pinedale</td>\n",
       "      <td>Wyoming</td>\n",
       "      <td>82941</td>\n",
       "      <td>NaN</td>\n",
       "      <td>NaN</td>\n",
       "    </tr>\n",
       "    <tr>\n",
       "      <th>7915</th>\n",
       "      <td>WYOld West Brewing Company</td>\n",
       "      <td>brewpub</td>\n",
       "      <td>Powell</td>\n",
       "      <td>Wyoming</td>\n",
       "      <td>82435</td>\n",
       "      <td>-108.757481</td>\n",
       "      <td>44.754520</td>\n",
       "    </tr>\n",
       "    <tr>\n",
       "      <th>7916</th>\n",
       "      <td>Wyoming Territory Brewing / Eric Bischoff Fami...</td>\n",
       "      <td>contract</td>\n",
       "      <td>Cody</td>\n",
       "      <td>Wyoming</td>\n",
       "      <td>82414</td>\n",
       "      <td>NaN</td>\n",
       "      <td>NaN</td>\n",
       "    </tr>\n",
       "  </tbody>\n",
       "</table>\n",
       "<p>7917 rows × 7 columns</p>\n",
       "</div>"
      ],
      "text/plain": [
       "                                                   name brewery_type  \\\n",
       "0                                  5 Rivers Brewing LLC     planning   \n",
       "1                                   Avondale Brewing Co        micro   \n",
       "2                                    Back Forty Beer Co        micro   \n",
       "3                      Band of Brothers Brewing Company        micro   \n",
       "4                            Below the Radar Brewing Co      brewpub   \n",
       "...                                                 ...          ...   \n",
       "7912                           Suds Brothers Brewing Co      brewpub   \n",
       "7913                          Ten Sleep Brewing Company        micro   \n",
       "7914                         Wind River Brewing Co - WY      brewpub   \n",
       "7915                         WYOld West Brewing Company      brewpub   \n",
       "7916  Wyoming Territory Brewing / Eric Bischoff Fami...     contract   \n",
       "\n",
       "              city    state postal_code   longitude   latitude  \n",
       "0     Spanish Fort  Alabama       36527  -87.915272  30.674913  \n",
       "1       Birmingham  Alabama       35222  -86.774322  33.524521  \n",
       "2          Gadsden  Alabama       35901  -86.005006  34.016888  \n",
       "3       Tuscaloosa  Alabama       35401  -87.562155  33.198491  \n",
       "4       Huntsville  Alabama       35801  -86.585839  34.732724  \n",
       "...            ...      ...         ...         ...        ...  \n",
       "7912      Evanston  Wyoming       82930 -110.966094  41.267987  \n",
       "7913     Ten Sleep  Wyoming       82442         NaN        NaN  \n",
       "7914      Pinedale  Wyoming       82941         NaN        NaN  \n",
       "7915        Powell  Wyoming       82435 -108.757481  44.754520  \n",
       "7916          Cody  Wyoming       82414         NaN        NaN  \n",
       "\n",
       "[7917 rows x 7 columns]"
      ]
     },
     "execution_count": 50,
     "metadata": {},
     "output_type": "execute_result"
    }
   ],
   "source": [
    "all_states_df"
   ]
  },
  {
   "cell_type": "code",
   "execution_count": 51,
   "id": "83ae16ee-5b52-41d6-99dd-b066c4af5e67",
   "metadata": {},
   "outputs": [],
   "source": [
    "df = all_states_df[[\"state\", \"brewery_type\"]]\n"
   ]
  },
  {
   "cell_type": "code",
   "execution_count": 141,
   "id": "0f9100b4-8043-416e-8701-0538cf13b281",
   "metadata": {},
   "outputs": [
    {
     "data": {
      "text/plain": [
       "<Axes: title={'center': 'Brewery Types by State'}, xlabel='state'>"
      ]
     },
     "execution_count": 141,
     "metadata": {},
     "output_type": "execute_result"
    },
    {
     "data": {
      "image/png": "[encoded data removed]",
      "text/plain": [
       "<Figure size 2000x1000 with 1 Axes>"
      ]
     },
     "metadata": {},
     "output_type": "display_data"
    }
   ],
   "source": [
    "df.groupby(\"brewery_type\").state.value_counts().unstack(0).plot.bar(figsize = (20,10), title = \"Brewery Types by State\" )"
   ]
  },
  {
   "cell_type": "code",
   "execution_count": null,
   "id": "2b383490-4abb-4c92-86a6-452dbb558ea3",
   "metadata": {},
   "outputs": [],
   "source": []
  }
 ],
 "metadata": {
  "kernelspec": {
   "display_name": "Python 3 (ipykernel)",
   "language": "python",
   "name": "python3"
  },
  "language_info": {
   "codemirror_mode": {
    "name": "ipython",
    "version": 3
   },
   "file_extension": ".py",
   "mimetype": "text/x-python",
   "name": "python",
   "nbconvert_exporter": "python",
   "pygments_lexer": "ipython3",
   "version": "3.9.16"
  }
 },
 "nbformat": 4,
 "nbformat_minor": 5
}
