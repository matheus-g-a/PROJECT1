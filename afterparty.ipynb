{
 "cells": [
  {
   "cell_type": "code",
   "execution_count": 23,
   "id": "2cb85716",
   "metadata": {},
   "outputs": [],
   "source": [
    "# Dependencies and Setup\n",
    "import matplotlib.pyplot as plt\n",
    "import pandas as pd\n",
    "import numpy as np\n",
    "import requests\n",
    "import time\n",
    "from scipy.stats import linregress\n",
    "import random\n",
    "\n",
    "# Import the Geoapify API key\n",
    "from config import geoapify_key"
   ]
  },
  {
   "cell_type": "code",
   "execution_count": 24,
   "id": "9a3cf5c3",
   "metadata": {},
   "outputs": [
    {
     "name": "stdout",
     "output_type": "stream",
     "text": [
      "['San Francisco']: 37.7790262, -122.419906\n"
     ]
    }
   ],
   "source": [
    "#find cities San Francisco, Los Angeles, San Diego, Boulder, Pheonix, Seattle, Las Vegas\n",
    "\n",
    "target_sanfran=[\"San Francisco\"]     \n",
    "     \n",
    "     \n",
    "params = {\n",
    "    \"text\": target_city,\n",
    "    \"apiKey\": geoapify_key}\n",
    "\n",
    "\n",
    "# Build URL using the geocode endpoint\n",
    "base_url = \"https://api.geoapify.com/v1/geocode/search\"    \n",
    "\n",
    "response = requests.get(base_url, params=params).json()\n",
    "# Extract lat/lon\n",
    "lat = response[\"features\"][0][\"properties\"][\"lat\"]\n",
    "lon = response[\"features\"][0][\"properties\"][\"lon\"]\n",
    "\n",
    "# Print results\n",
    "print(f\"{target_sanfran}: {lat}, {lon}\")\n",
    "     "
   ]
  },
  {
   "cell_type": "code",
   "execution_count": 29,
   "id": "c74ef853",
   "metadata": {},
   "outputs": [
    {
     "name": "stdout",
     "output_type": "stream",
     "text": [
      "{'type': 'FeatureCollection', 'features': [{'type': 'Feature', 'properties': {'name': 'Bill Graham Civic Auditorium', 'country': 'United States', 'country_code': 'us', 'state': 'California', 'city': 'San Francisco', 'postcode': '94102', 'district': 'Civic Center', 'street': 'Hayes Street', 'lon': -122.41730765785297, 'lat': 37.7780501, 'state_code': 'CA', 'formatted': 'Bill Graham Civic Auditorium, Hayes Street, San Francisco, CA 94102, United States of America', 'address_line1': 'Bill Graham Civic Auditorium', 'address_line2': 'Hayes Street, San Francisco, CA 94102, United States of America', 'categories': ['building', 'building.entertainment', 'building.sport', 'entertainment', 'entertainment.culture', 'entertainment.culture.theatre', 'sport', 'sport.stadium', 'wheelchair', 'wheelchair.yes'], 'details': ['details', 'details.building', 'details.facilities', 'details.wiki_and_media'], 'datasource': {'sourcename': 'openstreetmap', 'attribution': '© OpenStreetMap contributors', 'license': 'Open Database Licence', 'url': 'https://www.openstreetmap.org/copyright', 'raw': {'ele': 18, 'name': 'Bill Graham Civic Auditorium', 'height': '37 m', 'osm_id': 25759141, 'amenity': 'theatre', 'leisure': 'stadium', 'website': 'http://www.billgrahamcivicauditorium.com/', 'alt_name': 'San Francisco Civic Auditorium', 'building': 'yes', 'osm_type': 'w', 'wikidata': 'Q4909197', 'wikipedia': 'en:Bill Graham Civic Auditorium', 'addr:state': 'CA', 'wheelchair': 'yes'}}, 'distance': 179, 'place_id': '517089807ab59a5ec059a514313397e34240f00102f901a50d89010000000092031c42696c6c2047726168616d2043697669632041756469746f7269756d'}, 'geometry': {'type': 'Point', 'coordinates': [-122.41732657005718, 37.7780517568256]}}, {'type': 'Feature', 'properties': {'name': 'Nourse Theater', 'country': 'United States', 'country_code': 'us', 'state': 'California', 'city': 'San Francisco', 'postcode': '94117', 'district': 'Hayes Valley', 'street': 'Hayes Street', 'housenumber': '275', 'lon': -122.4209626954358, 'lat': 37.77689155, 'state_code': 'CA', 'formatted': 'Nourse Theater, 275 Hayes Street, San Francisco, CA 94117, United States of America', 'address_line1': 'Nourse Theater', 'address_line2': '275 Hayes Street, San Francisco, CA 94117, United States of America', 'categories': ['building', 'building.entertainment', 'building.sport', 'entertainment', 'entertainment.culture', 'entertainment.culture.theatre', 'sport', 'sport.stadium'], 'details': ['details', 'details.wiki_and_media'], 'datasource': {'sourcename': 'openstreetmap', 'attribution': '© OpenStreetMap contributors', 'license': 'Open Database Licence', 'url': 'https://www.openstreetmap.org/copyright', 'raw': {'name': 'Nourse Theater', 'osm_id': 256732461, 'amenity': 'theatre', 'website': 'https://www.cityarts.net/nourse/', 'building': 'stadium', 'capacity': '1,687', 'osm_type': 'w', 'wikidata': 'Q48797845', 'addr:city': 'San Francisco', 'addr:state': 'CA', 'addr:street': 'Hayes Street', 'addr:postcode': 94117, 'addr:housenumber': 275}}, 'distance': 229, 'place_id': '5165cf450cf19a5ec059731dc95471e34240f00102f9012d6d4d0f0000000092030e4e6f757273652054686561746572'}, 'geometry': {'type': 'Point', 'coordinates': [-122.42096239869495, 37.776896093559934]}}, {'type': 'Feature', 'properties': {'name': 'Oracle Park', 'country': 'United States', 'country_code': 'us', 'state': 'California', 'city': 'San Francisco', 'postcode': '94017', 'suburb': 'Port of San Francisco', 'street': '2nd Street', 'lon': -122.39034329238021, 'lat': 37.77855005, 'state_code': 'CA', 'formatted': 'Oracle Park, 2nd Street, San Francisco, CA 94017, United States of America', 'address_line1': 'Oracle Park', 'address_line2': '2nd Street, San Francisco, CA 94017, United States of America', 'categories': ['building', 'building.public_and_civil', 'building.sport', 'sport', 'sport.stadium'], 'details': ['details.building'], 'datasource': {'sourcename': 'openstreetmap', 'attribution': '© OpenStreetMap contributors', 'license': 'Open Database Licence', 'url': 'https://www.openstreetmap.org/copyright', 'raw': {'name': 'Oracle Park', 'sport': 'baseball', 'height': 30, 'osm_id': -7330762, 'leisure': 'stadium', 'building': 'public', 'osm_type': 'r'}}, 'distance': 2534, 'place_id': '519cdc458aef985ec059a6b5a1b5a4e34240f00101f901cadb6f000000000092030b4f7261636c65205061726b'}, 'geometry': {'type': 'Point', 'coordinates': [-122.3896203691715, 37.77846403499579]}}, {'type': 'Feature', 'properties': {'name': 'Oracle Park', 'country': 'United States', 'country_code': 'us', 'state': 'California', 'city': 'San Francisco', 'postcode': '94107', 'suburb': 'Port of San Francisco', 'street': 'Willie Mays Plaza', 'housenumber': '24', 'lon': -122.39026745425639, 'lat': 37.7786119, 'state_code': 'CA', 'formatted': 'Oracle Park, 24 Willie Mays Plaza, San Francisco, CA 94107, United States of America', 'address_line1': 'Oracle Park', 'address_line2': '24 Willie Mays Plaza, San Francisco, CA 94107, United States of America', 'categories': ['sport', 'sport.stadium'], 'details': ['details', 'details.wiki_and_media'], 'datasource': {'sourcename': 'openstreetmap', 'attribution': '© OpenStreetMap contributors', 'license': 'Open Database Licence', 'url': 'https://www.openstreetmap.org/copyright', 'raw': {'name': 'Oracle Park', 'sport': 'baseball', 'height': 45, 'osm_id': -7325085, 'leisure': 'stadium', 'name:en': 'Oracle Park', 'name:ko': 'Oracle 파크', 'website': 'https://www.mlb.com/giants/ballpark', 'osm_type': 'r', 'wikidata': 'Q298585', 'wikipedia': 'en:Oracle Park', 'addr:street': 'Willie Mays Plaza', 'addr:postcode': 94107, 'building:part': 'public', 'addr:housenumber': 24}}, 'distance': 2550, 'place_id': '51363d3a01f0985ec0594c7029caa9e34240f00101f9019dc56f000000000092030b4f7261636c65205061726b'}, 'geometry': {'type': 'Point', 'coordinates': [-122.38964873015797, 37.778619070275994]}}, {'type': 'Feature', 'properties': {'name': 'Galileo Gymnaseum', 'country': 'United States', 'country_code': 'us', 'state': 'California', 'city': 'San Francisco', 'postcode': '94123', 'district': 'Russian Hill', 'street': 'Bay Street', 'housenumber': '1056', 'lon': -122.42429905014228, 'lat': 37.8044824, 'state_code': 'CA', 'formatted': 'Galileo Gymnaseum, 1056 Bay Street, San Francisco, CA 94123, United States of America', 'address_line1': 'Galileo Gymnaseum', 'address_line2': '1056 Bay Street, San Francisco, CA 94123, United States of America', 'categories': ['building', 'building.sport', 'sport', 'sport.stadium'], 'details': [], 'datasource': {'sourcename': 'openstreetmap', 'attribution': '© OpenStreetMap contributors', 'license': 'Open Database Licence', 'url': 'https://www.openstreetmap.org/copyright', 'raw': {'name': 'Galileo Gymnaseum', 'osm_id': 32839512, 'leisure': 'stadium', 'building': 'yes', 'osm_type': 'w', 'addr:street': 'Bay Street', 'addr:housenumber': 1056}}, 'distance': 2837, 'place_id': '51a74d78c4279b5ec0591b9c6f50f9e64240f00102f9015817f5010000000092031147616c696c656f2047796d6e617365756d'}, 'geometry': {'type': 'Point', 'coordinates': [-122.42430221317646, 37.804483465668646]}}, {'type': 'Feature', 'properties': {'name': 'Negoesco Stadium', 'country': 'United States', 'country_code': 'us', 'state': 'California', 'city': 'San Francisco', 'postcode': '94117', 'district': 'Haight-Ashbury', 'street': 'Fulton Street', 'housenumber': '2130', 'lon': -122.4538804, 'lat': 37.7765578, 'state_code': 'CA', 'formatted': 'Negoesco Stadium, 2130 Fulton Street, San Francisco, CA 94117, United States of America', 'address_line1': 'Negoesco Stadium', 'address_line2': '2130 Fulton Street, San Francisco, CA 94117, United States of America', 'categories': ['sport', 'sport.stadium'], 'details': ['details.wiki_and_media'], 'datasource': {'sourcename': 'openstreetmap', 'attribution': '© OpenStreetMap contributors', 'license': 'Open Database Licence', 'url': 'https://www.openstreetmap.org/copyright', 'raw': {'ele': 95, 'name': 'Negoesco Stadium', 'osm_id': 358857211, 'leisure': 'stadium', 'osm_type': 'n', 'wikidata': 'Q6987402'}}, 'distance': 3006, 'place_id': '51e89260600c9d5ec059091ff93e66e34240f00103f901fbb96315000000009203104e65676f6573636f205374616469756d'}, 'geometry': {'type': 'Point', 'coordinates': [-122.4538804, 37.776557799950815]}}, {'type': 'Feature', 'properties': {'name': 'Chase Center', 'country': 'United States', 'country_code': 'us', 'state': 'California', 'city': 'San Francisco', 'postcode': '94158', 'suburb': 'Port of San Francisco', 'street': 'Warriors Way', 'housenumber': '1', 'lon': -122.38740721330376, 'lat': 37.767892700000004, 'state_code': 'CA', 'formatted': 'Chase Center, 1 Warriors Way, San Francisco, CA 94158, United States of America', 'address_line1': 'Chase Center', 'address_line2': '1 Warriors Way, San Francisco, CA 94158, United States of America', 'categories': ['building', 'building.sport', 'sport', 'sport.stadium'], 'details': ['details', 'details.building', 'details.wiki_and_media'], 'datasource': {'sourcename': 'openstreetmap', 'attribution': '© OpenStreetMap contributors', 'license': 'Open Database Licence', 'url': 'https://www.openstreetmap.org/copyright', 'raw': {'name': 'Chase Center', 'sport': 'basketball', 'height': 38.1, 'osm_id': 579646390, 'leisure': 'stadium', 'website': 'https://www.chasecenter.com/', 'building': 'yes', 'capacity': '18,064', 'osm_type': 'w', 'wikidata': 'Q15262098', 'addr:city': 'San Francisco', 'wikipedia': 'en:Chase Center (arena)', 'addr:state': 'CA', 'addr:street': 'Warriors Way', 'opening_date': 2019, 'addr:postcode': 94158, 'addr:housenumber': 1}}, 'distance': 3045, 'place_id': '5171771f04cb985ec0594bff99a749e24240f00102f901b6b38c220000000092030c43686173652043656e746572'}, 'geometry': {'type': 'Point', 'coordinates': [-122.38739111969859, 37.76787276286503]}}, {'type': 'Feature', 'properties': {'name': 'Kezar Stadium', 'country': 'United States', 'country_code': 'us', 'state': 'California', 'city': 'San Francisco', 'postcode': '94117', 'district': 'Cole Valley', 'street': 'Frederick Street', 'lon': -122.45600968359278, 'lat': 37.766867, 'state_code': 'CA', 'formatted': 'Kezar Stadium, Frederick Street, San Francisco, CA 94117, United States of America', 'address_line1': 'Kezar Stadium', 'address_line2': 'Frederick Street, San Francisco, CA 94117, United States of America', 'categories': ['sport', 'sport.stadium'], 'details': ['details.wiki_and_media'], 'datasource': {'sourcename': 'openstreetmap', 'attribution': '© OpenStreetMap contributors', 'license': 'Open Database Licence', 'url': 'https://www.openstreetmap.org/copyright', 'raw': {'ele': 82, 'name': 'Kezar Stadium', 'osm_id': 30675203, 'leisure': 'stadium', 'osm_type': 'w', 'wikidata': 'Q4263361'}}, 'distance': 3335, 'place_id': '515e57a2362f9d5ec059a6997fd328e24240f00102f9010311d4010000000092030d4b657a6172205374616469756d'}, 'geometry': {'type': 'Point', 'coordinates': [-122.45600667813912, 37.766870915703564]}}]}\n"
     ]
    }
   ],
   "source": [
    "# Set the parameters for the type of place\n",
    "categories = \"sport.stadium\"\n",
    "radius= 6000\n",
    "\n",
    "# Set the parameters for the type of search\n",
    "filters = f\"circle:{lon},{lat},{radius}\"\n",
    "bias = f\"proximity:{lon},{lat}\"\n",
    "limit = 20\n",
    "\n",
    "# set up a parameters dictionary\n",
    "params = {\n",
    "    \"categories\":categories,\n",
    "    \"limit\":limit,\n",
    "    \"filter\":filters,\n",
    "    \"bias\":bias,\n",
    "    \"apiKey\":geoapify_key    \n",
    "}\n",
    "\n",
    "# Set base URL\n",
    "base_url = \"https://api.geoapify.com/v2/places\"\n",
    "\n",
    "# run a request using our params dictionary\n",
    "response = requests.get(base_url, params=params).json()\n",
    "\n",
    "print(response)\n"
   ]
  },
  {
   "cell_type": "code",
   "execution_count": null,
   "id": "8f48eab6",
   "metadata": {},
   "outputs": [],
   "source": []
  }
 ],
 "metadata": {
  "kernelspec": {
   "display_name": "PythonData",
   "language": "python",
   "name": "pythondata"
  },
  "language_info": {
   "codemirror_mode": {
    "name": "ipython",
    "version": 3
   },
   "file_extension": ".py",
   "mimetype": "text/x-python",
   "name": "python",
   "nbconvert_exporter": "python",
   "pygments_lexer": "ipython3",
   "version": "3.7.7"
  }
 },
 "nbformat": 4,
 "nbformat_minor": 5
}
