{
 "cells": [
  {
   "cell_type": "code",
   "execution_count": 1,
   "id": "3bd4d03a",
   "metadata": {},
   "outputs": [],
   "source": [
    "import pandas as pd\n",
    "import numpy as np\n",
    "import matplotlib.pyplot as plt\n",
    "import seaborn as sns\n",
    "sns.set()\n",
    "%matplotlib inline\n",
    "import requests\n",
    "import json\n",
    "from config import api_key"
   ]
  },
  {
   "cell_type": "code",
   "execution_count": 2,
   "id": "17fbf78a",
   "metadata": {},
   "outputs": [
    {
     "name": "stdout",
     "output_type": "stream",
     "text": [
      "{\"error\":true,\"error_msg\":\"Missing API key. Please check that your request includes your API key as the Username using HTTP basic auth and then try again.\"}\n"
     ]
    }
   ],
   "source": [
    "import requests\n",
    "url = \"https://api.catalog.beer/brewer\"\n",
    "headers = {\n",
    "\t\"Accept\": \"application/json\",\n",
    "\t\"Authorization\": \"343f1541-d006-47b5-86c3-1e7605f759e8\"\n",
    "}\n",
    "response = requests.request(\"GET\", url, headers=headers)\n",
    "print(response.text)"
   ]
  },
  {
   "cell_type": "code",
   "execution_count": null,
   "id": "a735e067",
   "metadata": {},
   "outputs": [],
   "source": []
  }
 ],
 "metadata": {
  "kernelspec": {
   "display_name": "PythonData",
   "language": "python",
   "name": "pythondata"
  },
  "language_info": {
   "codemirror_mode": {
    "name": "ipython",
    "version": 3
   },
   "file_extension": ".py",
   "mimetype": "text/x-python",
   "name": "python",
   "nbconvert_exporter": "python",
   "pygments_lexer": "ipython3",
   "version": "3.7.13"
  }
 },
 "nbformat": 4,
 "nbformat_minor": 5
}
