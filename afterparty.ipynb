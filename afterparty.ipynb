{
 "cells": [
  {
   "cell_type": "code",
   "execution_count": 17,
   "id": "b5fd851e",
   "metadata": {},
   "outputs": [],
   "source": [
    "# Dependencies and Setup\n",
    "import matplotlib.pyplot as plt\n",
    "import pandas as pd\n",
    "import numpy as np\n",
    "import requests\n",
    "import time\n",
    "from scipy.stats import linregress\n",
    "import random\n",
    "import pprint as pprint\n",
    "\n",
    "# Import the Geoapify API key\n",
    "from config import geoapify_key"
   ]
  },
  {
   "cell_type": "code",
   "execution_count": 122,
   "id": "095bfd67",
   "metadata": {},
   "outputs": [
    {
     "data": {
      "text/plain": [
       "([\"['Los Angeles']: 37.7790262\", \"['Los Angeles']: -122.419906\"],\n",
       " [\"['San Francisco']: 37.7790262\", \"['San Francisco']: -122.419906\"],\n",
       " [\"['Aneheim']: 37.7790262\", \"['Aneheim']: -122.419906\"],\n",
       " [\"['San Diego']: 37.7790262\", \"['San Diego']: -122.419906\"],\n",
       " [\"['Denver']: 37.7790262\", \"['Denver']: -122.419906\"],\n",
       " [\"['the Bronx']: 37.7790262\", \"['the Bronx']: -122.419906\"])"
      ]
     },
     "execution_count": 122,
     "metadata": {},
     "output_type": "execute_result"
    }
   ],
   "source": [
    "#find cities San Francisco, Los Angeles, San Diego, Boulder, Pheonix, Seattle, Las Vegas\n",
    "\n",
    "target_sf=[\"San Francisco\"]     \n",
    "target_la=[\"Los Angeles\"]     \n",
    "target_ana=[\"Aneheim\"]\n",
    "target_sd=[\"San Diego\"]\n",
    "target_den=[\"Denver\"]\n",
    "target_ny=[\"the Bronx\"]\n",
    "     \n",
    "params = {\n",
    "    \"text\": target_sanfran,\n",
    "    \"apiKey\": geoapify_key}\n",
    "\n",
    "\n",
    "# Build URL using the geocode endpoint\n",
    "base_url = \"https://api.geoapify.com/v1/geocode/search\"    \n",
    "\n",
    "response = requests.get(base_url, params=params).json()\n",
    "# Extract lat/lon\n",
    "lat = response[\"features\"][0][\"properties\"][\"lat\"]\n",
    "lon = response[\"features\"][0][\"properties\"][\"lon\"]\n",
    "\n",
    "# Print results\n",
    "la_lat=f\"{target_la}: {lat}\"\n",
    "la_lon=f\"{target_la}: {lon}\"\n",
    "sf_lat=f\"{target_sf}: {lat}\"\n",
    "sf_lon=f\"{target_sf}: {lon}\"\n",
    "ana_lat=f\"{target_ana}: {lat}\"\n",
    "ana_lon=f\"{target_ana}: {lon}\"\n",
    "sd_lat=f\"{target_sd}: {lat}\"\n",
    "sd_lon=f\"{target_sd}: {lon}\"\n",
    "den_lat=f\"{target_den}: {lat}\"\n",
    "den_lon=f\"{target_den}: {lon}\"\n",
    "ny_lat=f\"{target_ny}: {lat}\"\n",
    "ny_lon=f\"{target_ny}: {lon}\"\n",
    "\n",
    "\n",
    "cities_lat_lon=[la_lat,la_lon],[sf_lat,sf_lon],[ana_lat,ana_lon],[sd_lat,sd_lon],[den_lat,den_lon],[ny_lat,ny_lon]\n",
    "cities_lat_lon\n",
    "        "
   ]
  },
  {
   "cell_type": "code",
   "execution_count": 121,
   "id": "a67507d3",
   "metadata": {},
   "outputs": [
    {
     "data": {
      "text/html": [
       "<div>\n",
       "<style scoped>\n",
       "    .dataframe tbody tr th:only-of-type {\n",
       "        vertical-align: middle;\n",
       "    }\n",
       "\n",
       "    .dataframe tbody tr th {\n",
       "        vertical-align: top;\n",
       "    }\n",
       "\n",
       "    .dataframe thead th {\n",
       "        text-align: right;\n",
       "    }\n",
       "</style>\n",
       "<table border=\"1\" class=\"dataframe\">\n",
       "  <thead>\n",
       "    <tr style=\"text-align: right;\">\n",
       "      <th></th>\n",
       "      <th>Latitude</th>\n",
       "      <th>Longitude</th>\n",
       "    </tr>\n",
       "  </thead>\n",
       "  <tbody>\n",
       "    <tr>\n",
       "      <th>0</th>\n",
       "      <td>['Los Angeles']: 37.7790262</td>\n",
       "      <td>['Los Angeles']: -122.419906</td>\n",
       "    </tr>\n",
       "    <tr>\n",
       "      <th>1</th>\n",
       "      <td>['Los Angeles']: 37.7790262</td>\n",
       "      <td>['San Francisco']: -122.419906</td>\n",
       "    </tr>\n",
       "    <tr>\n",
       "      <th>2</th>\n",
       "      <td>['Los Angeles']: 37.7790262</td>\n",
       "      <td>['Aneheim']: -122.419906</td>\n",
       "    </tr>\n",
       "    <tr>\n",
       "      <th>3</th>\n",
       "      <td>['Los Angeles']: 37.7790262</td>\n",
       "      <td>['San Diego']: -122.419906</td>\n",
       "    </tr>\n",
       "    <tr>\n",
       "      <th>4</th>\n",
       "      <td>['Los Angeles']: 37.7790262</td>\n",
       "      <td>['Denver']: -122.419906</td>\n",
       "    </tr>\n",
       "    <tr>\n",
       "      <th>5</th>\n",
       "      <td>['Los Angeles']: 37.7790262</td>\n",
       "      <td>['the Bronx']: -122.419906</td>\n",
       "    </tr>\n",
       "  </tbody>\n",
       "</table>\n",
       "</div>"
      ],
      "text/plain": [
       "                      Latitude                       Longitude\n",
       "0  ['Los Angeles']: 37.7790262    ['Los Angeles']: -122.419906\n",
       "1  ['Los Angeles']: 37.7790262  ['San Francisco']: -122.419906\n",
       "2  ['Los Angeles']: 37.7790262        ['Aneheim']: -122.419906\n",
       "3  ['Los Angeles']: 37.7790262      ['San Diego']: -122.419906\n",
       "4  ['Los Angeles']: 37.7790262         ['Denver']: -122.419906\n",
       "5  ['Los Angeles']: 37.7790262      ['the Bronx']: -122.419906"
      ]
     },
     "execution_count": 121,
     "metadata": {},
     "output_type": "execute_result"
    }
   ],
   "source": [
    "\n",
    "\n",
    "\n",
    "\n",
    "cities=pd.DataFrame(cities_lat_lon)\n",
    "#pd.concat([cities[[0]],cities[1], cities[2].str.split(\",\",expand=True)],axis=1)\n",
    "cities.columns=[\"Latitude\", \"Longitude\"]\n",
    "cities"
   ]
  },
  {
   "cell_type": "code",
   "execution_count": 64,
   "id": "bd7fc08f",
   "metadata": {},
   "outputs": [
    {
     "name": "stdout",
     "output_type": "stream",
     "text": [
      "Oracle Park\n"
     ]
    }
   ],
   "source": [
    "# Set the parameters for the type of place\n",
    "\n",
    "categories = \"sport.stadium\"\n",
    "radius= 6000\n",
    "\n",
    "# Set the parameters for the type of search\n",
    "filters = f\"circle:{lon},{lat},{radius}\"\n",
    "bias = f\"proximity:{sflon},{sflat}\"\n",
    "limit = 20\n",
    "\n",
    "# set up a parameters dictionary\n",
    "params = {\n",
    "    \"categories\":categories,\n",
    "    \"limit\":limit,\n",
    "    \"filter\":filters,\n",
    "    \"bias\":bias,\n",
    "    \"apiKey\":geoapify_key    \n",
    "}\n",
    "\n",
    "# Set base URL\n",
    "base_url = \"https://api.geoapify.com/v2/places\"\n",
    "\n",
    "# run a request using our params dictionary\n",
    "sanfran_data = requests.get(base_url, params=params).json()\n",
    "\n",
    "sanfran_stadium=sanfran_data[\"features\"][2][\"properties\"][\"name\"]\n",
    "\n",
    "#print(sanfran_data)\n",
    "print(sanfran_stadium)"
   ]
  }
 ],
 "metadata": {
  "kernelspec": {
   "display_name": "PythonData",
   "language": "python",
   "name": "pythondata"
  },
  "language_info": {
   "codemirror_mode": {
    "name": "ipython",
    "version": 3
   },
   "file_extension": ".py",
   "mimetype": "text/x-python",
   "name": "python",
   "nbconvert_exporter": "python",
   "pygments_lexer": "ipython3",
   "version": "3.7.7"
  }
 },
 "nbformat": 4,
 "nbformat_minor": 5
}
