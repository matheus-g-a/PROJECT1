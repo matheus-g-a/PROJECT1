{
 "cells": [
  {
   "cell_type": "code",
   "execution_count": 1,
   "id": "100066bd",
   "metadata": {},
   "outputs": [],
   "source": [
    "import pandas as pd\n",
    "import numpy as np\n",
    "import matplotlib.pyplot as plt\n",
    "import seaborn as sns\n",
    "%matplotlib inline"
   ]
  },
  {
   "cell_type": "code",
   "execution_count": null,
   "id": "298e32f8",
   "metadata": {},
   "outputs": [],
   "source": [
    "beers = pd.read_csv(\"beers.csv\")\n",
    "breweries = pd.read_csv(\"breweries.csv\")"
   ]
  },
  {
   "cell_type": "code",
   "execution_count": null,
   "id": "2a316543",
   "metadata": {},
   "outputs": [],
   "source": [
    "breweries.head()"
   ]
  },
  {
   "cell_type": "code",
   "execution_count": null,
   "id": "a0fdecb9",
   "metadata": {},
   "outputs": [],
   "source": [
    "beers.head()"
   ]
  },
  {
   "cell_type": "code",
   "execution_count": null,
   "id": "bb230a19",
   "metadata": {},
   "outputs": [],
   "source": [
    "states_count_df = breweries['state'].value_counts().rename_axis('States').reset_index(name='Num Breweries')\n",
    "states_count_df.head(5)"
   ]
  },
  {
   "cell_type": "code",
   "execution_count": null,
   "id": "e39a6d89",
   "metadata": {},
   "outputs": [],
   "source": [
    "fig, axes = plt.subplots(1,2, sharey=True, figsize=(10,5))\n",
    "sns.set_theme(style=\"whitegrid\")\n",
    "fig.suptitle('Top 10 States and Bottom 10 States')\n",
    "\n",
    "# Top 10 States\n",
    "sns.barplot(ax=axes[0], \n",
    "            x=\"States\", \n",
    "            y=\"Num Breweries\", \n",
    "            data=states_count_df.head(10))\n",
    "axes[0].set_title(\"Brewery Enthusiasts\")\n",
    "\n",
    "# Bottom 10 States\n",
    "sns.barplot(ax=axes[1], \n",
    "            x=\"States\", \n",
    "            y=\"Num Breweries\", \n",
    "            data=states_count_df.tail(10))\n",
    "axes[1].set_title(\"Brewery Haters\")"
   ]
  },
  {
   "cell_type": "code",
   "execution_count": null,
   "id": "de545bf7",
   "metadata": {},
   "outputs": [],
   "source": [
    "top_beers = beers['style'].value_counts().rename_axis('Beers').reset_index(name='Total')\n",
    "top_beers.head(10)"
   ]
  },
  {
   "cell_type": "code",
   "execution_count": null,
   "id": "37052216",
   "metadata": {},
   "outputs": [],
   "source": [
    "top10_beers = top_beers.head(10)\n",
    "\n",
    "fig = plt.figure()\n",
    "ax = fig.add_axes([0,0,1,1])\n",
    "ax.axis('equal')\n",
    "labels = top10_beers['Beers']\n",
    "totals = top10_beers['Total']\n",
    "ax.pie(totals, labels = labels, autopct='%1.2f%%')\n",
    "plt.title('Percent of Top 10 Beers Consumed')\n",
    "plt.show()"
   ]
  },
  {
   "cell_type": "code",
   "execution_count": null,
   "id": "d7a095b2",
   "metadata": {},
   "outputs": [],
   "source": []
  }
 ],
 "metadata": {
  "kernelspec": {
   "display_name": "PythonData",
   "language": "python",
   "name": "pythondata"
  },
  "language_info": {
   "codemirror_mode": {
    "name": "ipython",
    "version": 3
   },
   "file_extension": ".py",
   "mimetype": "text/x-python",
   "name": "python",
   "nbconvert_exporter": "python",
   "pygments_lexer": "ipython3",
   "version": "3.7.13"
  }
 },
 "nbformat": 4,
 "nbformat_minor": 5
}
